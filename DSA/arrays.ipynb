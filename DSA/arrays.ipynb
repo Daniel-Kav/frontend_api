{
 "cells": [
  {
   "cell_type": "code",
   "execution_count": null,
   "metadata": {},
   "outputs": [],
   "source": []
  },
  {
   "cell_type": "code",
   "execution_count": 10,
   "metadata": {},
   "outputs": [
    {
     "name": "stdout",
     "output_type": "stream",
     "text": [
      "[2200, 2350, 2600, 1930, 2190, 1980]\n"
     ]
    }
   ],
   "source": [
    "expenses = [2200, 2350, 2600, 2130, 2190]\n",
    "total_expense = 0\n",
    "\n",
    "# print(expenses[1] - expenses[0])\n",
    "\n",
    "for i in range(0,3):\n",
    "    total_expense += expenses[i]\n",
    "# print(total_expense)\n",
    "\n",
    "for i in range(len(expenses)):\n",
    "    if expenses[i] == 2000:\n",
    "        print(True)\n",
    "\n",
    "# print(False)\n",
    "# print(2000 in expenses)\n",
    "expenses.append(1980)\n",
    "# print(expenses)\n",
    "\n",
    "expenses[3] = expenses[3] - 200\n",
    "print(expenses)\n"
   ]
  },
  {
   "cell_type": "code",
   "execution_count": 24,
   "metadata": {},
   "outputs": [
    {
     "name": "stdout",
     "output_type": "stream",
     "text": [
      "5\n",
      "['spider man', 'thor', 'hulk', 'iron man', 'captain america', 'black panther']\n",
      "['spider man', 'thor', 'hulk', 'black panther', 'iron man', 'captain america']\n",
      "['spider man', 'doctor strange', 'black panther', 'iron man', 'captain america']\n",
      "['black panther', 'captain america', 'doctor strange', 'iron man', 'spider man']\n"
     ]
    }
   ],
   "source": [
    "heros=['spider man','thor','hulk','iron man','captain america']\n",
    "\n",
    "print(len(heros))\n",
    "heros.append('black panther')\n",
    "print(heros)\n",
    "heros.pop()\n",
    "heros.insert(3,'black panther')\n",
    "print(heros)\n",
    "heros[1:3] = ['doctor strange']\n",
    "print(heros)\n",
    "heros.sort()\n",
    "print(heros)\n",
    "\n",
    "\n"
   ]
  },
  {
   "cell_type": "code",
   "execution_count": 8,
   "metadata": {},
   "outputs": [
    {
     "name": "stdout",
     "output_type": "stream",
     "text": [
      "5 6 2 3 4 1 "
     ]
    }
   ],
   "source": [
    "# Python Program to reverse an array using temporary array\n",
    "\n",
    "# func to reverse array\n",
    "def reverseArray(arr):\n",
    "    n = len(arr)\n",
    "    #init the temp array to hold reversed arr\n",
    "    temp = [0] * n\n",
    "    # now Add the elements in the temp array in reverse order\n",
    "    for i in range(n):\n",
    "        temp[i] = arr[n-i-1]\n",
    "    #then copy the reversed elements back to the array\n",
    "    for i in range(n):\n",
    "        arr[i] = temp[i]\n",
    "        \n",
    "if __name__ == \"__main__\":\n",
    "    arr = [1, 4, 3, 2, 6, 5]\n",
    "\n",
    "    reverseArray(arr)\n",
    "  \n",
    "    for i in range(len(arr)):\n",
    "        print(arr[i], end=\" \")\n"
   ]
  },
  {
   "cell_type": "code",
   "execution_count": 12,
   "metadata": {},
   "outputs": [
    {
     "name": "stdout",
     "output_type": "stream",
     "text": [
      "1 4 5 7 9 8 2 3 5 4 3 "
     ]
    }
   ],
   "source": [
    "#reverse array by using a temporary array\n",
    "def reverseArray(arr):\n",
    "    n = len(arr)\n",
    "\n",
    "    #create the temp array \n",
    "    temp = [0] *n\n",
    "\n",
    "    # copy the arr elements to the temporary array in reverse order \n",
    "    for i in range(n):\n",
    "        temp[i] = arr[n-i-1]\n",
    "    \n",
    "    #copy the temp array to the original arr\n",
    "    for i in range(n):\n",
    "        arr[i] = temp[i]\n",
    "    return arr\n",
    "\n",
    "if __name__ == \"__main__\":   \n",
    "    arr = [3,4,5,3,2,8,9,7,5,4,1]\n",
    "    reverseArray(arr)\n",
    "\n",
    "    for i in range(len(arr)):\n",
    "        print(arr[i],end= \" \")\n",
    "\n",
    "#TIME COMPLEXITY: O(n) since copying items in a new array is linear\n",
    "#SPACE COMPLEXITY: O(n) since we use an extra array to reverse the array\n",
    "\n"
   ]
  },
  {
   "cell_type": "code",
   "execution_count": 14,
   "metadata": {},
   "outputs": [
    {
     "name": "stdout",
     "output_type": "stream",
     "text": [
      "8 7 6 5 4 3 2 1 "
     ]
    }
   ],
   "source": [
    "#reversing an array using two pointers\n",
    "def reverseArray(arr):\n",
    "    #initialize left to the begining and right to the end\n",
    "    left = 0\n",
    "    right = len(arr) - 1\n",
    "\n",
    "    #iterate till left is less than right\n",
    "    while left < right :\n",
    "        #swap the elements at left and right position\n",
    "        arr[left],arr[right] = arr[right], arr[left]\n",
    "\n",
    "        #Increment the left pointer\n",
    "        left += 1\n",
    "         #decrement the right pointer\n",
    "        right -= 1\n",
    "\n",
    "\n",
    "\n",
    "\n",
    "if __name__ == \"__main__\":   \n",
    "    arr = [1,2,3,4,5,6,7,8]\n",
    "    reverseArray(arr)\n",
    "\n",
    "    for i in range(len(arr)):\n",
    "        print(arr[i],end= \" \")"
   ]
  },
  {
   "cell_type": "code",
   "execution_count": 16,
   "metadata": {},
   "outputs": [
    {
     "name": "stdout",
     "output_type": "stream",
     "text": [
      "10 9 8 7 6 5 4 3 2 1 "
     ]
    }
   ],
   "source": [
    "def reverseArray(arr):\n",
    "    left = 0\n",
    "    right = len(arr) - 1\n",
    "\n",
    "    while left < right:\n",
    "        arr[left],arr[right] = arr[right],arr[left]\n",
    "\n",
    "        left += 1\n",
    "        right -= 1\n",
    "\n",
    "\n",
    "\n",
    "\n",
    "if __name__ == \"__main__\":   \n",
    "    arr = [1,2,3,4,5,6,7,8,9,10]\n",
    "    reverseArray(arr)\n",
    "\n",
    "    for i in range(len(arr)):\n",
    "        print(arr[i],end= \" \")"
   ]
  },
  {
   "cell_type": "code",
   "execution_count": 17,
   "metadata": {},
   "outputs": [
    {
     "name": "stdout",
     "output_type": "stream",
     "text": [
      "10 9 8 7 6 5 4 3 2 1 "
     ]
    }
   ],
   "source": [
    "#reversing an array by swapping elements\n",
    "def reverseArray(arr):\n",
    "    n = len(arr)\n",
    "\n",
    "    for i in range(len(arr)//2):\n",
    "        temp = arr[i]\n",
    "        arr[i] = arr[n-i-1]\n",
    "        arr[n-i-1] = temp\n",
    "\n",
    "\n",
    "\n",
    "\n",
    "if __name__ == \"__main__\":   \n",
    "    arr = [1,2,3,4,5,6,7,8,9,10]\n",
    "    reverseArray(arr)\n",
    "\n",
    "    for i in range(len(arr)):\n",
    "        print(arr[i],end= \" \")"
   ]
  },
  {
   "cell_type": "code",
   "execution_count": 20,
   "metadata": {},
   "outputs": [
    {
     "name": "stdout",
     "output_type": "stream",
     "text": [
      "10 9 8 7 6 5 4 3 2 1 "
     ]
    }
   ],
   "source": [
    "#reversing an array using recursion\n",
    "def reverseArray(arr,l,r):\n",
    "    \n",
    "\n",
    "    if l >= r :\n",
    "        return\n",
    "        \n",
    "    arr[l],arr[r] = arr[r],arr[l]\n",
    "    reverseArray(arr,l+1, r-1)\n",
    "\n",
    "\n",
    "if __name__ == \"__main__\":   \n",
    "    arr = [1,2,3,4,5,6,7,8,9,10]\n",
    "    l = 0\n",
    "    r = len(arr) -1 \n",
    "    reverseArray(arr,l,r)\n",
    "\n",
    "    for i in range(len(arr)):\n",
    "        print(arr[i],end= \" \")"
   ]
  },
  {
   "cell_type": "markdown",
   "metadata": {},
   "source": [
    "#second largest element in the array\n",
    "Time Complexity: O(n*logn), as sorting the array takes O(n*logn) time and traversing the array can take O(n) time in the worst case, so total time complexity = (n*logn + n) = O(n*logn).\n",
    "Auxiliary space: O(1), as no extra space is required\n"
   ]
  },
  {
   "cell_type": "code",
   "execution_count": 26,
   "metadata": {},
   "outputs": [
    {
     "name": "stdout",
     "output_type": "stream",
     "text": [
      "35\n"
     ]
    }
   ],
   "source": [
    "\n",
    "def secondLargest(arr):\n",
    "    arr.sort()\n",
    "    n = len(arr)\n",
    "\n",
    "    for i in range(n-2,-1,-1):\n",
    "        if arr[i] != arr[n-1]:\n",
    "            return arr[i]\n",
    "    return -1\n",
    "\n",
    "    \n",
    "if __name__ == \"__main__\":\n",
    "    arr = [12, 35, 211, 10, 34, 1]\n",
    "    print(secondLargest(arr))"
   ]
  },
  {
   "cell_type": "code",
   "execution_count": 28,
   "metadata": {},
   "outputs": [
    {
     "name": "stdout",
     "output_type": "stream",
     "text": [
      "211\n"
     ]
    }
   ],
   "source": [
    "#two pass search to find the second largest element in an  array\n",
    "def secondLargest(arr):\n",
    "    n = len(arr)\n",
    "\n",
    "    largest = -1\n",
    "    secondLargest = -1\n",
    "    #find the largest element\n",
    "    for i in range(n):\n",
    "        if arr[i] > largest:\n",
    "            largest = arr[i]\n",
    "    \n",
    "    #find the second largest by looping through the array and \n",
    "    #looking for the largest element that does not equal the largest\n",
    "    for i in range(n):\n",
    "        if arr[i] > secondLargest and arr[i] != largest:\n",
    "            secondLargest = arr[i]\n",
    "    \n",
    "    return secondLargest\n",
    "\n",
    "if __name__ == \"__main__\":\n",
    "    arr = [12, 305, 211, 10, 34, 1]\n",
    "    print(secondLargest(arr))"
   ]
  },
  {
   "cell_type": "code",
   "execution_count": 30,
   "metadata": {},
   "outputs": [
    {
     "name": "stdout",
     "output_type": "stream",
     "text": [
      "305\n"
     ]
    }
   ],
   "source": [
    "#One pass search to find the second largest element in an array\n",
    "def secondLargest(arr):\n",
    "    n= len(arr)\n",
    "\n",
    "    largest = -1\n",
    "    secondLargest = -1\n",
    "\n",
    "    for i in range(n):\n",
    "        #if arr[i] > largest , largest = arr[i] and second = the current largest\n",
    "        if arr[i] > largest:\n",
    "        \n",
    "            secondLargest = largest\n",
    "            largest = arr[i]\n",
    "        elif arr[i] < largest and arr[i] > secondLargest:\n",
    "            secondLargest = arr[i]\n",
    "\n",
    "    return secondLargest\n",
    "\n",
    "if __name__ == \"__main__\":\n",
    "    arr = [12, 305, 211, 1000, 34, 1]\n",
    "    print(secondLargest(arr))"
   ]
  },
  {
   "cell_type": "code",
   "execution_count": 48,
   "metadata": {},
   "outputs": [
    {
     "name": "stdout",
     "output_type": "stream",
     "text": [
      "1\n",
      "[]\n"
     ]
    }
   ],
   "source": [
    "def commonElements( arr1, arr2, arr3):\n",
    "        #Code Here\n",
    "        result = []\n",
    "        for i in range(len(arr1)):\n",
    "            print(arr1[i])\n",
    "            if arr1[i] in arr2 and arr1[i] in arr3:\n",
    "                print(arr1[i])\n",
    "                result.append(arr1[i])\n",
    "            return  result\n",
    "        \n",
    "        return -1\n",
    "if __name__ == \"__main__\":\n",
    "    arr1 = [1, 5, 10 ,20, 40, 80]\n",
    "    arr2 = [6 ,7 ,20, 80 ,100]\n",
    "    arr3 = [3, 4 ,15, 20 ,30, 70, 80, 120]\n",
    "    print(commonElements(arr1,arr2,arr3))"
   ]
  },
  {
   "cell_type": "code",
   "execution_count": null,
   "metadata": {},
   "outputs": [],
   "source": [
    "def commonElements(self, arr1, arr2, arr3):\n",
    "        #Code Here\n",
    "        result = []\n",
    "        i, j, k = 0, 0, 0  # Initialize pointers for arr1, arr2, arr3\n",
    "        \n",
    "        # Traverse all arrays simultaneously\n",
    "        while i < len(arr1) and j < len(arr2) and k < len(arr3):\n",
    "            # If the same element is present in all three arrays\n",
    "            if arr1[i] == arr2[j] == arr3[k]:\n",
    "                # Avoid adding duplicates\n",
    "                if len(result) == 0 or result[-1] != arr1[i]:\n",
    "                    result.append(arr1[i])\n",
    "                i += 1\n",
    "                j += 1\n",
    "                k += 1\n",
    "            # If arr1[i] is smaller, increment i\n",
    "            elif arr1[i] < arr2[j]:\n",
    "                i += 1\n",
    "            # If arr2[j] is smaller, increment j\n",
    "            elif arr2[j] < arr3[k]:\n",
    "                j += 1\n",
    "            # If arr3[k] is smaller, increment k\n",
    "            else:\n",
    "                k += 1\n",
    "        \n",
    "        return result"
   ]
  }
 ],
 "metadata": {
  "kernelspec": {
   "display_name": "base",
   "language": "python",
   "name": "python3"
  },
  "language_info": {
   "codemirror_mode": {
    "name": "ipython",
    "version": 3
   },
   "file_extension": ".py",
   "mimetype": "text/x-python",
   "name": "python",
   "nbconvert_exporter": "python",
   "pygments_lexer": "ipython3",
   "version": "3.12.4"
  }
 },
 "nbformat": 4,
 "nbformat_minor": 2
}
