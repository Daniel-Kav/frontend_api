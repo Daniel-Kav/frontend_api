{
 "cells": [
  {
   "cell_type": "code",
   "execution_count": null,
   "metadata": {},
   "outputs": [],
   "source": []
  },
  {
   "cell_type": "code",
   "execution_count": 10,
   "metadata": {},
   "outputs": [
    {
     "name": "stdout",
     "output_type": "stream",
     "text": [
      "[2200, 2350, 2600, 1930, 2190, 1980]\n"
     ]
    }
   ],
   "source": [
    "expenses = [2200, 2350, 2600, 2130, 2190]\n",
    "total_expense = 0\n",
    "\n",
    "# print(expenses[1] - expenses[0])\n",
    "\n",
    "for i in range(0,3):\n",
    "    total_expense += expenses[i]\n",
    "# print(total_expense)\n",
    "\n",
    "for i in range(len(expenses)):\n",
    "    if expenses[i] == 2000:\n",
    "        print(True)\n",
    "\n",
    "# print(False)\n",
    "# print(2000 in expenses)\n",
    "expenses.append(1980)\n",
    "# print(expenses)\n",
    "\n",
    "expenses[3] = expenses[3] - 200\n",
    "print(expenses)\n"
   ]
  },
  {
   "cell_type": "code",
   "execution_count": 24,
   "metadata": {},
   "outputs": [
    {
     "name": "stdout",
     "output_type": "stream",
     "text": [
      "5\n",
      "['spider man', 'thor', 'hulk', 'iron man', 'captain america', 'black panther']\n",
      "['spider man', 'thor', 'hulk', 'black panther', 'iron man', 'captain america']\n",
      "['spider man', 'doctor strange', 'black panther', 'iron man', 'captain america']\n",
      "['black panther', 'captain america', 'doctor strange', 'iron man', 'spider man']\n"
     ]
    }
   ],
   "source": [
    "heros=['spider man','thor','hulk','iron man','captain america']\n",
    "\n",
    "print(len(heros))\n",
    "heros.append('black panther')\n",
    "print(heros)\n",
    "heros.pop()\n",
    "heros.insert(3,'black panther')\n",
    "print(heros)\n",
    "heros[1:3] = ['doctor strange']\n",
    "print(heros)\n",
    "heros.sort()\n",
    "print(heros)\n",
    "\n",
    "\n"
   ]
  },
  {
   "cell_type": "code",
   "execution_count": 8,
   "metadata": {},
   "outputs": [
    {
     "name": "stdout",
     "output_type": "stream",
     "text": [
      "5 6 2 3 4 1 "
     ]
    }
   ],
   "source": [
    "# Python Program to reverse an array using temporary array\n",
    "\n",
    "# func to reverse array\n",
    "def reverseArray(arr):\n",
    "    n = len(arr)\n",
    "    #init the temp array to hold reversed arr\n",
    "    temp = [0] * n\n",
    "    # now Add the elements in the temp array in reverse order\n",
    "    for i in range(n):\n",
    "        temp[i] = arr[n-i-1]\n",
    "    #then copy the reversed elements back to the array\n",
    "    for i in range(n):\n",
    "        arr[i] = temp[i]\n",
    "        \n",
    "if __name__ == \"__main__\":\n",
    "    arr = [1, 4, 3, 2, 6, 5]\n",
    "\n",
    "    reverseArray(arr)\n",
    "  \n",
    "    for i in range(len(arr)):\n",
    "        print(arr[i], end=\" \")\n"
   ]
  },
  {
   "cell_type": "code",
   "execution_count": 12,
   "metadata": {},
   "outputs": [
    {
     "name": "stdout",
     "output_type": "stream",
     "text": [
      "1 4 5 7 9 8 2 3 5 4 3 "
     ]
    }
   ],
   "source": [
    "#reverse array by using a temporary array\n",
    "def reverseArray(arr):\n",
    "    n = len(arr)\n",
    "\n",
    "    #create the temp array \n",
    "    temp = [0] *n\n",
    "\n",
    "    # copy the arr elements to the temporary array in reverse order \n",
    "    for i in range(n):\n",
    "        temp[i] = arr[n-i-1]\n",
    "    \n",
    "    #copy the temp array to the original arr\n",
    "    for i in range(n):\n",
    "        arr[i] = temp[i]\n",
    "    return arr\n",
    "\n",
    "if __name__ == \"__main__\":   \n",
    "    arr = [3,4,5,3,2,8,9,7,5,4,1]\n",
    "    reverseArray(arr)\n",
    "\n",
    "    for i in range(len(arr)):\n",
    "        print(arr[i],end= \" \")\n",
    "\n",
    "#TIME COMPLEXITY: O(n) since copying items in a new array is linear\n",
    "#SPACE COMPLEXITY: O(n) since we use an extra array to reverse the array\n",
    "\n"
   ]
  },
  {
   "cell_type": "code",
   "execution_count": 14,
   "metadata": {},
   "outputs": [
    {
     "name": "stdout",
     "output_type": "stream",
     "text": [
      "8 7 6 5 4 3 2 1 "
     ]
    }
   ],
   "source": [
    "#reversing an array using two pointers\n",
    "def reverseArray(arr):\n",
    "    #initialize left to the begining and right to the end\n",
    "    left = 0\n",
    "    right = len(arr) - 1\n",
    "\n",
    "    #iterate till left is less than right\n",
    "    while left < right :\n",
    "        #swap the elements at left and right position\n",
    "        arr[left],arr[right] = arr[right], arr[left]\n",
    "\n",
    "        #Increment the left pointer\n",
    "        left += 1\n",
    "         #decrement the right pointer\n",
    "        right -= 1\n",
    "\n",
    "\n",
    "\n",
    "\n",
    "if __name__ == \"__main__\":   \n",
    "    arr = [1,2,3,4,5,6,7,8]\n",
    "    reverseArray(arr)\n",
    "\n",
    "    for i in range(len(arr)):\n",
    "        print(arr[i],end= \" \")"
   ]
  },
  {
   "cell_type": "code",
   "execution_count": 16,
   "metadata": {},
   "outputs": [
    {
     "name": "stdout",
     "output_type": "stream",
     "text": [
      "10 9 8 7 6 5 4 3 2 1 "
     ]
    }
   ],
   "source": [
    "def reverseArray(arr):\n",
    "    left = 0\n",
    "    right = len(arr) - 1\n",
    "\n",
    "    while left < right:\n",
    "        arr[left],arr[right] = arr[right],arr[left]\n",
    "\n",
    "        left += 1\n",
    "        right -= 1\n",
    "\n",
    "\n",
    "\n",
    "\n",
    "if __name__ == \"__main__\":   \n",
    "    arr = [1,2,3,4,5,6,7,8,9,10]\n",
    "    reverseArray(arr)\n",
    "\n",
    "    for i in range(len(arr)):\n",
    "        print(arr[i],end= \" \")"
   ]
  },
  {
   "cell_type": "code",
   "execution_count": null,
   "metadata": {},
   "outputs": [],
   "source": []
  }
 ],
 "metadata": {
  "kernelspec": {
   "display_name": "base",
   "language": "python",
   "name": "python3"
  },
  "language_info": {
   "codemirror_mode": {
    "name": "ipython",
    "version": 3
   },
   "file_extension": ".py",
   "mimetype": "text/x-python",
   "name": "python",
   "nbconvert_exporter": "python",
   "pygments_lexer": "ipython3",
   "version": "3.12.4"
  }
 },
 "nbformat": 4,
 "nbformat_minor": 2
}
