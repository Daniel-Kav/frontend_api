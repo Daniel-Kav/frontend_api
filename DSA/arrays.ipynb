{
 "cells": [
  {
   "cell_type": "code",
   "execution_count": null,
   "metadata": {},
   "outputs": [],
   "source": []
  },
  {
   "cell_type": "code",
   "execution_count": null,
   "metadata": {},
   "outputs": [],
   "source": [
    "expenses = [2200, 2350, 2600, 2130, 2190]\n",
    "total_expense = 0\n",
    "\n",
    "# print(expenses[1] - expenses[0])\n",
    "\n",
    "for i in range(0,3):\n",
    "    total_expense += expenses[i]\n",
    "# print(total_expense)\n",
    "\n",
    "for i in range(len(expenses)):\n",
    "    if expenses[i] == 2000:\n",
    "        print(True)\n",
    "\n",
    "# print(False)\n",
    "# print(2000 in expenses)\n",
    "expenses.append(1980)\n",
    "# print(expenses)\n",
    "\n",
    "expenses[3] = expenses[3] - 200\n",
    "print(expenses)\n"
   ]
  },
  {
   "cell_type": "code",
   "execution_count": null,
   "metadata": {},
   "outputs": [],
   "source": [
    "heros=['spider man','thor','hulk','iron man','captain america']\n",
    "\n",
    "print(len(heros))\n",
    "heros.append('black panther')\n",
    "print(heros)\n",
    "heros.pop()\n",
    "heros.insert(3,'black panther')\n",
    "print(heros)\n",
    "heros[1:3] = ['doctor strange']\n",
    "print(heros)\n",
    "heros.sort()\n",
    "print(heros)\n",
    "\n",
    "\n"
   ]
  },
  {
   "cell_type": "code",
   "execution_count": null,
   "metadata": {},
   "outputs": [],
   "source": [
    "# Python Program to reverse an array using temporary array\n",
    "\n",
    "# func to reverse array\n",
    "def reverseArray(arr):\n",
    "    n = len(arr)\n",
    "    #init the temp array to hold reversed arr\n",
    "    temp = [0] * n\n",
    "    # now Add the elements in the temp array in reverse order\n",
    "    for i in range(n):\n",
    "        temp[i] = arr[n-i-1]\n",
    "    #then copy the reversed elements back to the array\n",
    "    for i in range(n):\n",
    "        arr[i] = temp[i]\n",
    "        \n",
    "if __name__ == \"__main__\":\n",
    "    arr = [1, 4, 3, 2, 6, 5]\n",
    "\n",
    "    reverseArray(arr)\n",
    "  \n",
    "    for i in range(len(arr)):\n",
    "        print(arr[i], end=\" \")\n"
   ]
  },
  {
   "cell_type": "code",
   "execution_count": null,
   "metadata": {},
   "outputs": [],
   "source": [
    "#reverse array by using a temporary array\n",
    "def reverseArray(arr):\n",
    "    n = len(arr)\n",
    "\n",
    "    #create the temp array \n",
    "    temp = [0] *n\n",
    "\n",
    "    # copy the arr elements to the temporary array in reverse order \n",
    "    for i in range(n):\n",
    "        temp[i] = arr[n-i-1]\n",
    "    \n",
    "    #copy the temp array to the original arr\n",
    "    for i in range(n):\n",
    "        arr[i] = temp[i]\n",
    "    return arr\n",
    "\n",
    "if __name__ == \"__main__\":   \n",
    "    arr = [3,4,5,3,2,8,9,7,5,4,1]\n",
    "    reverseArray(arr)\n",
    "\n",
    "    for i in range(len(arr)):\n",
    "        print(arr[i],end= \" \")\n",
    "\n",
    "#TIME COMPLEXITY: O(n) since copying items in a new array is linear\n",
    "#SPACE COMPLEXITY: O(n) since we use an extra array to reverse the array\n",
    "\n"
   ]
  },
  {
   "cell_type": "code",
   "execution_count": null,
   "metadata": {},
   "outputs": [],
   "source": [
    "#reversing an array using two pointers\n",
    "def reverseArray(arr):\n",
    "    #initialize left to the begining and right to the end\n",
    "    left = 0\n",
    "    right = len(arr) - 1\n",
    "\n",
    "    #iterate till left is less than right\n",
    "    while left < right :\n",
    "        #swap the elements at left and right position\n",
    "        arr[left],arr[right] = arr[right], arr[left]\n",
    "\n",
    "        #Increment the left pointer\n",
    "        left += 1\n",
    "         #decrement the right pointer\n",
    "        right -= 1\n",
    "\n",
    "\n",
    "\n",
    "\n",
    "if __name__ == \"__main__\":   \n",
    "    arr = [1,2,3,4,5,6,7,8]\n",
    "    reverseArray(arr)\n",
    "\n",
    "    for i in range(len(arr)):\n",
    "        print(arr[i],end= \" \")"
   ]
  },
  {
   "cell_type": "code",
   "execution_count": null,
   "metadata": {},
   "outputs": [],
   "source": [
    "def reverseArray(arr):\n",
    "    left = 0\n",
    "    right = len(arr) - 1\n",
    "\n",
    "    while left < right:\n",
    "        arr[left],arr[right] = arr[right],arr[left]\n",
    "\n",
    "        left += 1\n",
    "        right -= 1\n",
    "\n",
    "\n",
    "\n",
    "\n",
    "if __name__ == \"__main__\":   \n",
    "    arr = [1,2,3,4,5,6,7,8,9,10]\n",
    "    reverseArray(arr)\n",
    "\n",
    "    for i in range(len(arr)):\n",
    "        print(arr[i],end= \" \")"
   ]
  },
  {
   "cell_type": "code",
   "execution_count": null,
   "metadata": {},
   "outputs": [],
   "source": [
    "#reversing an array by swapping elements\n",
    "def reverseArray(arr):\n",
    "    n = len(arr)\n",
    "\n",
    "    for i in range(len(arr)//2):\n",
    "        temp = arr[i]\n",
    "        arr[i] = arr[n-i-1]\n",
    "        arr[n-i-1] = temp\n",
    "\n",
    "\n",
    "\n",
    "\n",
    "if __name__ == \"__main__\":   \n",
    "    arr = [1,2,3,4,5,6,7,8,9,10]\n",
    "    reverseArray(arr)\n",
    "\n",
    "    for i in range(len(arr)):\n",
    "        print(arr[i],end= \" \")"
   ]
  },
  {
   "cell_type": "code",
   "execution_count": null,
   "metadata": {},
   "outputs": [],
   "source": [
    "#reversing an array using recursion\n",
    "def reverseArray(arr,l,r):\n",
    "    \n",
    "\n",
    "    if l >= r :\n",
    "        return\n",
    "        \n",
    "    arr[l],arr[r] = arr[r],arr[l]\n",
    "    reverseArray(arr,l+1, r-1)\n",
    "\n",
    "\n",
    "if __name__ == \"__main__\":   \n",
    "    arr = [1,2,3,4,5,6,7,8,9,10]\n",
    "    l = 0\n",
    "    r = len(arr) -1 \n",
    "    reverseArray(arr,l,r)\n",
    "\n",
    "    for i in range(len(arr)):\n",
    "        print(arr[i],end= \" \")"
   ]
  },
  {
   "cell_type": "markdown",
   "metadata": {},
   "source": [
    "#second largest element in the array\n",
    "Time Complexity: O(n*logn), as sorting the array takes O(n*logn) time and traversing the array can take O(n) time in the worst case, so total time complexity = (n*logn + n) = O(n*logn).\n",
    "Auxiliary space: O(1), as no extra space is required\n"
   ]
  },
  {
   "cell_type": "code",
   "execution_count": null,
   "metadata": {},
   "outputs": [],
   "source": [
    "\n",
    "def secondLargest(arr):\n",
    "    arr.sort()\n",
    "    n = len(arr)\n",
    "\n",
    "    for i in range(n-2,-1,-1):\n",
    "        if arr[i] != arr[n-1]:\n",
    "            return arr[i]\n",
    "    return -1\n",
    "\n",
    "    \n",
    "if __name__ == \"__main__\":\n",
    "    arr = [12, 35, 211, 10, 34, 1]\n",
    "    print(secondLargest(arr))"
   ]
  },
  {
   "cell_type": "code",
   "execution_count": null,
   "metadata": {},
   "outputs": [],
   "source": [
    "#two pass search to find the second largest element in an  array\n",
    "def secondLargest(arr):\n",
    "    n = len(arr)\n",
    "\n",
    "    largest = -1\n",
    "    secondLargest = -1\n",
    "    #find the largest element\n",
    "    for i in range(n):\n",
    "        if arr[i] > largest:\n",
    "            largest = arr[i]\n",
    "    \n",
    "    #find the second largest by looping through the array and \n",
    "    #looking for the largest element that does not equal the largest\n",
    "    for i in range(n):\n",
    "        if arr[i] > secondLargest and arr[i] != largest:\n",
    "            secondLargest = arr[i]\n",
    "    \n",
    "    return secondLargest\n",
    "\n",
    "if __name__ == \"__main__\":\n",
    "    arr = [12, 305, 211, 10, 34, 1]\n",
    "    print(secondLargest(arr))"
   ]
  },
  {
   "cell_type": "code",
   "execution_count": null,
   "metadata": {},
   "outputs": [],
   "source": [
    "#One pass search to find the second largest element in an array\n",
    "def secondLargest(arr):\n",
    "    n= len(arr)\n",
    "\n",
    "    largest = -1\n",
    "    secondLargest = -1\n",
    "\n",
    "    for i in range(n):\n",
    "        #if arr[i] > largest , largest = arr[i] and second = the current largest\n",
    "        if arr[i] > largest:\n",
    "        \n",
    "            secondLargest = largest\n",
    "            largest = arr[i]\n",
    "        elif arr[i] < largest and arr[i] > secondLargest:\n",
    "            secondLargest = arr[i]\n",
    "\n",
    "    return secondLargest\n",
    "\n",
    "if __name__ == \"__main__\":\n",
    "    arr = [12, 305, 211, 1000, 34, 1]\n",
    "    print(secondLargest(arr))"
   ]
  },
  {
   "cell_type": "code",
   "execution_count": null,
   "metadata": {},
   "outputs": [],
   "source": [
    "def commonElements( arr1, arr2, arr3):\n",
    "        #Code Here\n",
    "        result = []\n",
    "        for i in range(len(arr1)):\n",
    "            print(arr1[i])\n",
    "            if arr1[i] in arr2 and arr1[i] in arr3:\n",
    "                print(arr1[i])\n",
    "                result.append(arr1[i])\n",
    "            return  result\n",
    "        \n",
    "        return -1\n",
    "if __name__ == \"__main__\":\n",
    "    arr1 = [1, 5, 10 ,20, 40, 80]\n",
    "    arr2 = [6 ,7 ,20, 80 ,100]\n",
    "    arr3 = [3, 4 ,15, 20 ,30, 70, 80, 120]\n",
    "    print(commonElements(arr1,arr2,arr3))"
   ]
  },
  {
   "cell_type": "code",
   "execution_count": null,
   "metadata": {},
   "outputs": [],
   "source": [
    "def commonElements(self, arr1, arr2, arr3):\n",
    "        #Code Here\n",
    "        result = []\n",
    "        i, j, k = 0, 0, 0  # Initialize pointers for arr1, arr2, arr3\n",
    "        \n",
    "        # Traverse all arrays simultaneously\n",
    "        while i < len(arr1) and j < len(arr2) and k < len(arr3):\n",
    "            # If the same element is present in all three arrays\n",
    "            if arr1[i] == arr2[j] == arr3[k]:\n",
    "                # Avoid adding duplicates\n",
    "                if len(result) == 0 or result[-1] != arr1[i]:\n",
    "                    result.append(arr1[i])\n",
    "                i += 1\n",
    "                j += 1\n",
    "                k += 1\n",
    "            # If arr1[i] is smaller, increment i\n",
    "            elif arr1[i] < arr2[j]:\n",
    "                i += 1\n",
    "            # If arr2[j] is smaller, increment j\n",
    "            elif arr2[j] < arr3[k]:\n",
    "                j += 1\n",
    "            # If arr3[k] is smaller, increment k\n",
    "            else:\n",
    "                k += 1\n",
    "        \n",
    "        return result"
   ]
  },
  {
   "cell_type": "code",
   "execution_count": null,
   "metadata": {},
   "outputs": [],
   "source": [
    "def potion_strength(formula):\n",
    "    # Write code here \n",
    "    potion = 1\n",
    "\n",
    "\n",
    "    if '!' in formula:\n",
    "        potion //=2\n",
    "    if '*' in formula:\n",
    "        potion *= 3\n",
    "    if '#' in formula:\n",
    "        potion += 5\n",
    "    return potion\n",
    "if __name__ == \"__main__\":\n",
    "    formula = \"##\"\n",
    "    print(potion_strength(formula))"
   ]
  },
  {
   "cell_type": "code",
   "execution_count": null,
   "metadata": {},
   "outputs": [],
   "source": [
    "#Given an array identify the missing element\n",
    "\n",
    "def missing(arr):\n",
    "    \n",
    "    n = len(arr) + 1\n",
    "    expected_sum = n * (n+1) // 2\n",
    "    actual_sum = sum(arr)\n",
    "\n",
    "    print( expected_sum - actual_sum)\n",
    "\n",
    "if __name__ == '__main__':\n",
    "    arr = [1,2,3,4,6]\n",
    "    missing(arr)"
   ]
  },
  {
   "cell_type": "code",
   "execution_count": null,
   "metadata": {},
   "outputs": [],
   "source": [
    "def extra_element(n,a,b):\n",
    "    for i in range(n):\n",
    "        if a[i] not in b:\n",
    "            print(i)\n",
    "if __name__ == '__main__':\n",
    "    n = 4\n",
    "    a = [2,3,1,4]\n",
    "    b = [2,3,4]\n",
    "\n",
    "    extra_element(n,a,b)"
   ]
  },
  {
   "cell_type": "code",
   "execution_count": null,
   "metadata": {},
   "outputs": [],
   "source": [
    "def findExtraElementIndex(arr1, arr2):\n",
    "    left, right = 0, len(arr2) - 1\n",
    "    \n",
    "    while left <= right:\n",
    "        mid = left + (right - left) // 2\n",
    "        \n",
    "        # Compare corresponding elements in arr1 and arr2\n",
    "        if arr1[mid] == arr2[mid]:\n",
    "            # Extra element is in the right half\n",
    "            left = mid + 1\n",
    "        else:\n",
    "            # Extra element is in the left half\n",
    "            right = mid - 1\n",
    "    \n",
    "    # The left pointer will point to the index of the extra element\n",
    "    return left\n",
    "\n",
    "# Example usage:\n",
    "arr1 = [2, 4, 6, 8, 9, 10, 12]\n",
    "arr2 = [2, 4, 6, 8, 10, 12]\n",
    "print(findExtraElementIndex(arr1, arr2))  # Output: 4\n",
    "\n",
    "arr1 = [3, 5, 7, 8, 11, 13]\n",
    "arr2 = [3, 5, 7, 11, 13]\n",
    "print(findExtraElementIndex(arr1, arr2))  # Output: 3\n"
   ]
  },
  {
   "cell_type": "code",
   "execution_count": null,
   "metadata": {},
   "outputs": [],
   "source": [
    "def extra_element(n,a , b):\n",
    "    left,right = 0, n-2\n",
    "\n",
    "    while left <= right:\n",
    "        mid = left + (right-left)//2\n",
    "\n",
    "        if a[mid] == b[mid]:\n",
    "            left = mid + 1\n",
    "        else:\n",
    "            right = mid-1\n",
    "    return left\n",
    "\n",
    "if __name__ == '__main__':\n",
    "    n = 4\n",
    "    a = [2,3,4,7]\n",
    "    b = [2,3,4]\n",
    "\n",
    "    print(extra_element(n,a,b))"
   ]
  },
  {
   "cell_type": "code",
   "execution_count": null,
   "metadata": {},
   "outputs": [],
   "source": [
    "#3 Sum – Find All Triplets with Zero Sum\n",
    "\n",
    "#Using three nested loops\n",
    "def find_triplets(arr):\n",
    "    res = []\n",
    "    n = len(arr)\n",
    "\n",
    "    #generating all triplets\n",
    "    for i in range(n-2):\n",
    "        for j in range(i+ 1, n-1):\n",
    "            for k in range(j+1, n):\n",
    "                #if the sum of the triplets equals zero\n",
    "                #then add it to the result\n",
    "                if arr[i] + arr[j] + arr[k] == 0:\n",
    "                    res.append([i,j,k])\n",
    "    return res\n",
    "\n",
    "arr = [0, -1, 2, -3, 1]\n",
    "res = find_triplets(arr)\n",
    "for triplet in res:\n",
    "    print(triplet[0], triplet[1], triplet[2])"
   ]
  },
  {
   "cell_type": "code",
   "execution_count": null,
   "metadata": {},
   "outputs": [],
   "source": [
    "#Python program to find all triplets with zero sum using hashing\n",
    "def findTriplets(arr):\n",
    "    #set to handle duplicates\n",
    "    resSet = set()\n",
    "    n = len(arr)\n",
    "    mp = {}\n",
    "\n",
    "    #store sum of all the pairs with their indices\n",
    "    for i in range(n):\n",
    "        for j in range(i+ 1, n):\n",
    "            s = arr[i] + arr[j]\n",
    "            if s not in mp:\n",
    "                mp[s] = []\n",
    "            mp[s].append((i,j))\n",
    "    for i in range"
   ]
  },
  {
   "cell_type": "code",
   "execution_count": null,
   "metadata": {},
   "outputs": [],
   "source": [
    "#valid parenthesis\n",
    "def validPar(arr):\n",
    "    #hashmap to hold the closing par as keys and opening pars as values\n",
    "    hashmap = {')':'(',']':'[','}':'{'}\n",
    "    # initialize a stack \n",
    "    stk = []\n",
    "    #iterate throuhg the array\n",
    "    for c in arr:\n",
    "        # if the opening braket is not in the map addit to the stack \n",
    "        if c not in hashmap:\n",
    "            stk.append(c)\n",
    "        else:\n",
    "            # if the satack is empty return false\n",
    "            if not stk:\n",
    "                return False\n",
    "                # else pop the top of the stack and chek if it does match the closing par \n",
    "            popped = stk.pop()\n",
    "            \n",
    "            if popped != hashmap[c]:\n",
    "                return False\n",
    "    return not stk\n",
    "\n",
    "arr = ['(',')']\n",
    "validPar(arr)"
   ]
  },
  {
   "cell_type": "code",
   "execution_count": null,
   "metadata": {},
   "outputs": [],
   "source": [
    "# Reverse each word in a given string\n",
    "\n",
    "\n",
    "def reverseWords( s):\n",
    "    # code here\n",
    "    words =  s.split('.')\n",
    "    res = []\n",
    "    print(words)\n",
    "    for word in words :\n",
    "        res.append(word[::-1])\n",
    "    return '.'.join(res)\n",
    "\n",
    "\n",
    "s = \"i.like.this.program.very.much\"\n",
    "\n",
    "reverseWords(s)"
   ]
  },
  {
   "cell_type": "code",
   "execution_count": null,
   "metadata": {},
   "outputs": [],
   "source": [
    "\n",
    "\n",
    "def findSum( X, Y):\n",
    "    numy = int(Y)\n",
    "    numx= int(X)\n",
    "\n",
    "    return numy + numx\n",
    "X = \"2500\"\n",
    "Y = \"23\"\n",
    "findSum(X,Y)\n",
    "\n"
   ]
  },
  {
   "cell_type": "code",
   "execution_count": null,
   "metadata": {},
   "outputs": [],
   "source": [
    "#Fibonacci\n",
    "def fib(n):\n",
    "    if n == 0: return 0\n",
    "    if n == 1 : return 1\n",
    "    return fib(n-1) + fib(n-2)\n",
    "\n",
    "fib(3)"
   ]
  },
  {
   "cell_type": "code",
   "execution_count": null,
   "metadata": {},
   "outputs": [],
   "source": [
    "# You are climbing a staircase. It takes n steps to reach the top.\n",
    "\n",
    "# Each time you can either climb 1 or 2 steps. In how many distinct ways can you climb to the top?\n",
    "\n",
    "# Example 1:\n",
    "\n",
    "# Input: n = 2\n",
    "# Output: 2\n",
    "# Explanation: There are two ways to climb to the top.\n",
    "# 1. 1 step + 1 step\n",
    "# 2. 2 steps\n",
    "# Example 2:\n",
    "\n",
    "# Input: n = 3\n",
    "# Output: 3\n",
    "# Explanation: There are three ways to climb to the top.\n",
    "# 1. 1 step + 1 step + 1 step\n",
    "# 2. 1 step + 2 steps\n",
    "# 3. 2 steps + 1 step\n",
    "\n",
    "def climbing(n):\n",
    "    if n == 1 : return 1\n",
    "    if n== 2 : return 2\n",
    "    first = 1\n",
    "    second = 2\n",
    "\n",
    "    for i in range(3,n+ 1):\n",
    "        current = first + second\n",
    "        first = second\n",
    "        second  = current\n",
    "    return second\n",
    "\n",
    "climbing(5)"
   ]
  },
  {
   "cell_type": "code",
   "execution_count": null,
   "metadata": {},
   "outputs": [],
   "source": [
    "# You are climbing a staircase. It takes n steps to reach the top.\n",
    "\n",
    "# Each time you can either climb 1 or 2 steps. In how many distinct ways can you climb to the top?\n",
    "\n",
    "# Example 1:\n",
    "\n",
    "# Input: n = 2\n",
    "# Output: 2\n",
    "# Explanation: There are two ways to climb to the top.\n",
    "# 1. 1 step + 1 step\n",
    "# 2. 2 steps\n",
    "# Example 2:\n",
    "\n",
    "# Input: n = 3\n",
    "# Output: 3\n",
    "# Explanation: There are three ways to climb to the top.\n",
    "# 1. 1 step + 1 step + 1 step\n",
    "# 2. 1 step + 2 steps\n",
    "# 3. 2 steps + 1 step\n",
    "\n",
    "def climbing_stairs(n):\n",
    "    if n <= 0:\n",
    "        return 0\n",
    "    if n == 1: \n",
    "        return 1\n",
    "    if n == 2 : return 2\n",
    "    return climbing_stairs(n-2) + climbing_stairs(n-1)\n",
    "\n",
    "climbing_stairs(5)\n",
    "\n"
   ]
  },
  {
   "cell_type": "code",
   "execution_count": null,
   "metadata": {},
   "outputs": [],
   "source": [
    "#min cost climbing stairs\n",
    "def min_cost(cost):\n",
    "    n = len(cost)\n",
    "    def minn(x):\n",
    "        if x < 2:\n",
    "            return 0\n",
    "        return min(cost[x-2]+ minn(x-2),cost[x-1]+ minn(x-1))\n",
    "    return minn(n)\n",
    "\n",
    "cost = [1,100,1,1,1,100,1,1,100,1]\n",
    "min_cost(cost)"
   ]
  },
  {
   "cell_type": "code",
   "execution_count": null,
   "metadata": {},
   "outputs": [],
   "source": [
    "# min cost using recursion with dynamic programming \n",
    "def min_cost_climbing(cost):\n",
    "    n = len(cost)\n",
    "    #dp array to store min cost for reaching each step\n",
    "    dp = [0] * (n+1)\n",
    "\n",
    "    for i in range(2, n+ 1):\n",
    "        dp[i] = min(dp[i-1]+cost[i-1], dp[i-2]+cost[i-2])\n",
    "    return dp[n]\n",
    "cost = [1,100,1,1,1,100,1,1,100,1]\n",
    "min_cost_climbing(cost)\n"
   ]
  },
  {
   "cell_type": "code",
   "execution_count": null,
   "metadata": {},
   "outputs": [],
   "source": [
    "#Reversing a doubly linked list\n",
    "class Node:\n",
    "    def __init__(self,data):\n",
    "        self.data = data\n",
    "        self.next = None\n",
    "        self.prev = None\n",
    "\n",
    "class double_list:\n",
    "    def __init__(self, head=None):\n",
    "        self.head = head\n",
    "\n",
    "    def append(self,data):\n",
    "        new_node = Node(data)\n",
    "        if not self.head:\n",
    "            self.head = new_node\n",
    "            return\n",
    "        cur = self.head\n",
    "        while cur.next:\n",
    "            cur = cur.next\n",
    "        cur.next = new_node\n",
    "        new_node.prev = cur\n",
    "    def reverse(self):\n",
    "        curr = self.head\n",
    "        temp = None\n",
    "\n",
    "        while curr:\n",
    "            temp = curr.prev\n",
    "            curr.prev = curr.next\n",
    "            curr.next = temp\n",
    "            curr = curr.prev\n",
    "\n",
    "        if temp:\n",
    "            self.head = temp.prev\n",
    "\n",
    "    def remove_duplicates(self):\n",
    "        if not self.head:\n",
    "            return\n",
    "        curr = self.head\n",
    "\n",
    "        seen = set()\n",
    "        while curr.next:\n",
    "            if curr.data not in seen:\n",
    "                seen.add(curr.data)\n",
    "            else:\n",
    "                if curr.prev:\n",
    "                    curr.prev.next = curr.next\n",
    "                if curr.next:\n",
    "                    curr.next.prev = curr.prev\n",
    "                if curr == self.head:\n",
    "                    self.head = curr.next\n",
    "            curr = curr.next\n",
    "    \n",
    "    def pairs_with_sum(self,sum_val):\n",
    "        p = self.head\n",
    "        q = None\n",
    "        pairs = []\n",
    "\n",
    "        while p:\n",
    "            q = p.next\n",
    "            while q:\n",
    "                if (p.data + q.data) == sum_val:\n",
    "                    pairs.append(f'({p.data}, {q.data})')\n",
    "                q = q.next\n",
    "            p = p.next\n",
    "        return pairs\n",
    "        \n",
    "    \n",
    "    def print_dll(self):\n",
    "        cur = self.head\n",
    "        while cur:\n",
    "            print(f'{cur.data}',end='<->')\n",
    "            cur = cur.next\n",
    "        print('None')\n",
    "\n",
    "dll = double_list()\n",
    "dll.append(2)\n",
    "dll.append(3)\n",
    "dll.append(4)\n",
    "dll.append(5)\n",
    "dll.append(6)\n",
    "dll.print_dll()\n",
    "dll.append(34)\n",
    "print(dll.pairs_with_sum(70))\n",
    "dll.remove_duplicates()\n",
    "# dll.reverse()\n",
    "dll.print_dll()\n",
    "\n"
   ]
  },
  {
   "cell_type": "code",
   "execution_count": null,
   "metadata": {},
   "outputs": [],
   "source": [
    "\n",
    "import math\n",
    "\n",
    "def minRepeats(s1,s2):\n",
    "    min_repeat = math.ceil(len(s2)/len(s1))\n",
    "\n",
    "    repeateds1 = s1 * min_repeat\n",
    "\n",
    "    if s2 in repeateds1:\n",
    "        return min_repeat\n",
    "    repeateds1 += s1\n",
    "\n",
    "    if s2 in repeateds1:\n",
    "        return min_repeat + 1\n",
    "    return -1\n",
    "print(minRepeats(\"ww\", \"www\"))        # Output: 2\n",
    "print(minRepeats(\"abcd\", \"cdabcdab\")) # Output: 3\n",
    "print(minRepeats(\"ab\", \"cab\")) "
   ]
  },
  {
   "cell_type": "code",
   "execution_count": null,
   "metadata": {},
   "outputs": [],
   "source": [
    "def minRepeats(s1,s2):\n",
    "    original_s1 = s1\n",
    "    count = 1\n",
    "\n",
    "    while len(s2) > len(s1):\n",
    "        s1 += original_s1\n",
    "        count += 1\n",
    "    if s2 in s1:\n",
    "        return count\n",
    "    s1 += original_s1\n",
    "    count += 1\n",
    "    if s2 in  s1 : return count\n",
    "\n",
    "    return -1\n",
    "\n",
    "print(minRepeats(\"ww\", \"www\"))        # Output: 2\n",
    "print(minRepeats(\"abcd\", \"cdabcdab\")) # Output: 3\n",
    "print(minRepeats(\"ab\", \"cab\")) "
   ]
  },
  {
   "cell_type": "code",
   "execution_count": null,
   "metadata": {},
   "outputs": [],
   "source": [
    "def moveZeros(nums):\n",
    "    last_non_zero = 0\n",
    "    for i in range(len(nums)):\n",
    "        if nums[i] != 0:\n",
    "            nums[last_non_zero],nums[i] = nums[i],nums[last_non_zero]\n",
    "            last_non_zero += 1\n",
    "    return nums\n",
    "moveZeros([0,2,0,4,3,0,4,9])"
   ]
  },
  {
   "cell_type": "code",
   "execution_count": null,
   "metadata": {},
   "outputs": [],
   "source": [
    "def intersection(head1,head2):\n",
    "    l1,l2 = head1,head2\n",
    "    while l1 != l2:\n",
    "        l1 = l1.next if l1 else head2\n",
    "        l2 = l2.next if l2 else head1\n",
    "    return l1\n",
    "    "
   ]
  },
  {
   "cell_type": "code",
   "execution_count": null,
   "metadata": {},
   "outputs": [],
   "source": [
    "#Nearly sorted array\n",
    "def nearlySorted(arr,k):\n",
    "    #Initialize a sorted array to fuction as a min_heap\n",
    "    sorted_window = sorted(arr[:k+1])\n",
    "    #index to write the sorted elements back to the array\n",
    "    j = 0\n",
    "\n",
    "    #process each element beyond the initial k+ 1\n",
    "    for i in range(k+ 1,len(arr)):\n",
    "        arr[j] = sorted_window.pop(0) #remove the smallest element from the min_heap\n",
    "        j += 1\n",
    "\n",
    "        #insert the new element in sorted order\n",
    "        new_elem = arr[i]\n",
    "        insert_index = 0\n",
    "        while insert_index < len(sorted_window) and sorted_window[insert_index] < new_elem:\n",
    "            insert_index += 1\n",
    "        sorted_window.insert(insert_index, new_elem)\n",
    "\n",
    "    # place the remaining elements back in the arr ?\n",
    "    while sorted_window:\n",
    "        arr[j] = sorted_window.pop(0)\n",
    "        j += 1\n",
    "arr = [6, 5, 3, 2, 8, 10, 9]\n",
    "k = 3\n",
    "nearlySorted(arr, k)\n",
    "print(arr)\n",
    "\n"
   ]
  },
  {
   "cell_type": "code",
   "execution_count": null,
   "metadata": {},
   "outputs": [],
   "source": [
    "def nearlySorted(arr,k):\n",
    "    sorted_window = sorted(arr[:k+1])\n",
    "\n",
    "    j= 0\n",
    "    for i in range(k+1, len(arr)):\n",
    "        arr[j] = sorted_window.pop(0)\n",
    "        j+= 1\n",
    "\n",
    "        insert_index = 0\n",
    "        new_elem = arr[i]\n",
    "        while insert_index < len(sorted_window) and sorted_window[insert_index] < new_elem:\n",
    "            insert_index += 1\n",
    "        sorted_window.insert(insert_index,new_elem)\n",
    "\n",
    "    while sorted_window:\n",
    "        arr[j] = sorted_window.pop(0)\n",
    "        j +=1 \n",
    "    \n",
    "\n",
    "arr = [6, 5, 3, 2, 8, 10, 9]\n",
    "k = 3\n",
    "nearlySorted(arr, k)\n",
    "print(arr)\n"
   ]
  },
  {
   "cell_type": "code",
   "execution_count": null,
   "metadata": {},
   "outputs": [],
   "source": [
    "def second_largest(arr):\n",
    "    secondLargest = 0\n",
    "    largest = 0\n",
    "    for num in arr:\n",
    "        if num > largest:\n",
    "            secondLargest = largest\n",
    "            largest = num\n",
    "        if num > secondLargest and num < largest:\n",
    "            secondLargest = num\n",
    "            \n",
    "    return largest,secondLargest\n",
    "\n",
    "second_largest([42,3,2,230,5,6,5])\n"
   ]
  },
  {
   "cell_type": "code",
   "execution_count": null,
   "metadata": {},
   "outputs": [],
   "source": [
    "def rotateArr(arr,k):\n",
    "    k = k % len(arr)\n",
    "\n",
    "    l,r = 0,len(arr) - 1\n",
    "    while l < r :\n",
    "        arr[l],arr[r] = arr[r],arr[l]\n",
    "        l,r = l + 1, r - 1\n",
    "    \n",
    "    l,r = 0,k-1\n",
    "    while l < r :\n",
    "        arr[l],arr[r] = arr[r],arr[l]\n",
    "        l,r = l + 1, r - 1\n",
    "    l,r = k,len(arr) - 1\n",
    "    while l < r :\n",
    "        arr[l],arr[r] = arr[r],arr[l]\n",
    "        l,r = l + 1, r - 1\n",
    "\n",
    "\n",
    "    return arr\n",
    "rotateArr([1,2,3,4,5], 2)"
   ]
  },
  {
   "cell_type": "code",
   "execution_count": null,
   "metadata": {},
   "outputs": [],
   "source": [
    "def rotateArr(arr,k):\n",
    "    k %= len(arr)\n",
    "\n",
    "    def reverse(start,end):\n",
    "        while start < end:\n",
    "            arr[start] ,arr[end] = arr[end], arr[start]\n",
    "            start,end = start + 1,end - 1\n",
    "    #rotate the first k elements\n",
    "    reverse (0,k-1)\n",
    "    #reverse the rest of the array\n",
    "    reverse(k, len(arr) - 1)\n",
    "\n",
    "    reverse(0,len(arr) -1)\n",
    "    return arr\n",
    "rotateArr([1,2,3,4,5], 2)"
   ]
  },
  {
   "cell_type": "code",
   "execution_count": null,
   "metadata": {},
   "outputs": [],
   "source": [
    "def increasingTriplet(arr):\n",
    "    # Initialize two variables to track the smallest and second smallest numbers\n",
    "    first = float('inf')\n",
    "    second = float('inf')\n",
    "\n",
    "    #traverse the array\n",
    "    for num in arr:\n",
    "        if num <= first:\n",
    "            first = num #update the smallest number\n",
    "        elif num <= second:\n",
    "            second = num #update the second smallest number\n",
    "        else:\n",
    "            #we encountered  a number bigger than the two forming a triplet\n",
    "            return True\n",
    "    return False\n",
    "\n",
    "arr = [5,4,3,2,1]\n",
    "increasingTriplet(arr)\n",
    "\n"
   ]
  },
  {
   "cell_type": "code",
   "execution_count": null,
   "metadata": {},
   "outputs": [],
   "source": [
    "def inrTriplets(arr):\n",
    "    n = len(arr)\n",
    "\n",
    "    if n < 3:\n",
    "        return False\n",
    "    #CREATE the left min array\n",
    "    left_min = [-1] * n\n",
    "    min_idx = 0\n",
    "\n",
    "    for i in range(1,n):\n",
    "        "
   ]
  },
  {
   "cell_type": "code",
   "execution_count": null,
   "metadata": {},
   "outputs": [],
   "source": [
    "def twoSum(arr, target):\n",
    "    # code here\n",
    "    for num in arr:\n",
    "        compliment = target - num\n",
    "        print(compliment)\n",
    "        if compliment in arr:\n",
    "            return True\n",
    "    return False\n",
    "twoSum([1, 4 ,45, 6 ,10 ,8],16)"
   ]
  },
  {
   "cell_type": "code",
   "execution_count": null,
   "metadata": {},
   "outputs": [],
   "source": [
    "def twoSum(arr,target):\n",
    "\n",
    "    seen = set()\n",
    "    for num in arr:\n",
    "        complement = target - num\n",
    "        if complement in seen:\n",
    "            return True\n",
    "        seen.add(num)\n",
    "    return False\n",
    "\n",
    "twoSum([1, 4 ,45, 6 ,10 ,8],16)\n"
   ]
  },
  {
   "cell_type": "code",
   "execution_count": null,
   "metadata": {},
   "outputs": [],
   "source": [
    "def reverseBits(n):\n",
    "    result = 0\n",
    "    for _ in  range(32):\n",
    "        #extract the last bit of n and add it to the result\n",
    "        result = (result << 1) | (n & 1)\n",
    "        #right shift n to process the next bit\n",
    "        n >>= 1\n",
    "    return result\n",
    "n = 0b00000010100101000001111010011100\n",
    "reverseBits(n)\n",
    "       "
   ]
  },
  {
   "cell_type": "code",
   "execution_count": null,
   "metadata": {},
   "outputs": [],
   "source": [
    "#Find the max sum subarray in a given array\n",
    "# Given an integer array nums, find the \n",
    "# subarray\n",
    "#  with the largest sum, and return its sum.\n",
    "def max_sum(arr):\n",
    "    max_sum = float('-inf')\n",
    "    cur_sum = 0\n",
    "\n",
    "    for num in arr:\n",
    "        cur_sum += num\n",
    "        max_sum = max(max_sum,cur_sum)\n",
    "\n",
    "        if cur_sum < 0:\n",
    "            cur_sum = 0\n",
    "    return max_sum\n",
    "max_sum([-2,7,-3,4])"
   ]
  },
  {
   "cell_type": "code",
   "execution_count": null,
   "metadata": {},
   "outputs": [],
   "source": [
    "def buyAndSell(prices):\n",
    "    max_profit = float('-inf')\n",
    "    for i in range(len(prices)):\n",
    "        for j in range(i+ 1, len(prices)):\n",
    "            profit = prices[j] - prices[i]\n",
    "\n",
    "            if profit > 0:\n",
    "                max_profit = max(max_profit,profit)\n",
    "    return max_profit if max_profit != float('-inf') else 0\n",
    "prices = [7,1,5,3,6,4]\n",
    "\n",
    "buyAndSell(prices)"
   ]
  },
  {
   "cell_type": "code",
   "execution_count": null,
   "metadata": {},
   "outputs": [],
   "source": [
    "def max_profit(prices):\n",
    "    min_price = float('inf')\n",
    "    max_profit = 0\n",
    "\n",
    "    for price in prices:\n",
    "        if price < min_price:\n",
    "            min_price = price\n",
    "        \n",
    "        profit = price - min_price\n",
    "        max_profit = max(max_profit,profit)\n",
    "    return max_profit\n",
    "\n",
    "prices = [7,1,5,3,6,4]\n",
    "max_profit(prices)"
   ]
  },
  {
   "cell_type": "code",
   "execution_count": null,
   "metadata": {},
   "outputs": [],
   "source": [
    "# You are given an integer array prices where prices[i] is the price of a given stock on the ith day.\n",
    "\n",
    "# On each day, you may decide to buy and/or sell the stock. You can only hold at most one share of the stock at any time. However, you can buy it then immediately sell it on the same day.\n",
    "\n",
    "# Find and return the maximum profit you can achieve.\n",
    "\n",
    "def BuyandSellII(prices):\n",
    "    max_profit = 0\n",
    "\n",
    "    for i in range(1,len(prices)):\n",
    "        profit = prices[i] - prices[i-1]\n",
    "        if profit > 0:\n",
    "            max_profit += profit\n",
    "    return max_profit\n",
    "prices = [7,1,5,3,6,4]\n",
    "BuyandSellII(prices)\n"
   ]
  },
  {
   "cell_type": "code",
   "execution_count": null,
   "metadata": {},
   "outputs": [],
   "source": [
    "def buyAndSellII(prices):\n",
    "    high = prices[0]\n",
    "    low = prices[0]\n",
    "    i = 0\n",
    "    profit = 0\n",
    "    n = len(prices)\n",
    "\n",
    "    while i < n-1:\n",
    "        #look where to buy\n",
    "        while i < n-1 and prices[i] >= prices[i+ 1]:\n",
    "            i += 1\n",
    "        low = prices[i]\n",
    "        #look where to sell\n",
    "        while i < n-1 and prices[i] <= prices[i+1]:\n",
    "            i += 1\n",
    "        high = prices[i]\n",
    "\n",
    "        profit += high - low\n",
    "    return profit\n",
    "\n",
    "prices = [7,1,5,3,6,4]\n",
    "# prices = [3,3,5,0,0,3,1,4]\n",
    "buyAndSellII(prices)"
   ]
  },
  {
   "cell_type": "code",
   "execution_count": null,
   "metadata": {},
   "outputs": [],
   "source": [
    "def buyAndSellIII(prices):\n",
    "    if not prices : return 0\n",
    "    min_price1 = float('inf')#min price for transaction one\n",
    "    min_price2  = float('inf') # min price for second transaction\n",
    "    profit1  = 0\n",
    "    profit2 = 0 # max profit after second transaction\n",
    "\n",
    "    for price in prices:\n",
    "        #update the min price for transaction one\n",
    "        min_price1 = min(min_price1,price)\n",
    "        #Update first profit after the first transaction\n",
    "        profit1 = max(profit1,price - min_price1)\n",
    "        #Update the effective min price for transaction two\n",
    "        min_price2 = min(min_price2, price - profit1)\n",
    "        #Update the profit after the second transaction\n",
    "        profit2 = max(profit2, price - min_price2)\n",
    "    return profit2\n",
    "prices = [1,4,2]\n",
    "buyAndSellIII(prices)"
   ]
  },
  {
   "cell_type": "code",
   "execution_count": null,
   "metadata": {},
   "outputs": [],
   "source": [
    "def buyAndSellIII(prices):\n",
    "    if not prices:\n",
    "        return 0\n",
    "    min_price1 = float('inf')\n",
    "    min_price2 = float('inf')\n",
    "    profit1 = 0\n",
    "    profit2 = 0\n",
    "\n",
    "    for price in prices:\n",
    "        min_price1 = min(min_price1, price)\n",
    "        profit1 = max(profit1, price - min_price1)\n",
    "        min_price2 = min(min_price2, price - profit1)\n",
    "        profit2 = max(profit2, price - min_price2)\n",
    "    return profit2\n",
    "prices = [1,4,2]\n",
    "buyAndSellIII(prices)"
   ]
  },
  {
   "cell_type": "code",
   "execution_count": null,
   "metadata": {},
   "outputs": [],
   "source": [
    "def nextPermutation(arr):\n",
    "    n = len(arr)\n",
    "    i = n-2\n",
    "    #Find the Pivot \n",
    "    while i >= 0 and arr[i] >= arr[i + 1]:\n",
    "        i -= 1\n",
    "    #If the pivot is found\n",
    "    # print(arr[i])\n",
    "    if i >= 0:\n",
    "        #Find the smallest element larger than arr[i]\n",
    "        j = n-1\n",
    "        while arr[i] >= arr[j]:\n",
    "            j -= 1\n",
    "        #swap arr[j] with arr[i]\n",
    "        arr[i],arr[j] = arr[j],arr[i]\n",
    "    #reverse the suffix\n",
    "    left,right = i + 1,n-1\n",
    "    while left < right:\n",
    "        arr[left],arr[right] = arr[right],arr[left]\n",
    "        left,right = left + 1,right - 1\n",
    "    return arr\n",
    "\n",
    "nextPermutation([3, 2, 1])\n"
   ]
  },
  {
   "cell_type": "code",
   "execution_count": null,
   "metadata": {},
   "outputs": [],
   "source": [
    "#Find all possible premutaions of an arr\n",
    "def permutation(arr):\n",
    "    n = len(arr)\n",
    "    sol,res = [],[]\n",
    "\n",
    "    def backtrack():\n",
    "        if len(sol) == n:\n",
    "            res.append(sol[:])\n",
    "        \n",
    "        for num in arr:\n",
    "            if num not in sol:\n",
    "                sol.append(num)\n",
    "                backtrack()\n",
    "                sol.pop()\n",
    "    backtrack()\n",
    "    return res\n",
    "#Time Complexity O(n!)\n",
    "#space complexity O(n) for the recursive callstack\n",
    "permutation([1,2,3])"
   ]
  },
  {
   "cell_type": "code",
   "execution_count": null,
   "metadata": {},
   "outputs": [],
   "source": [
    "def majorityElement( arr):\n",
    "        #Your code here\n",
    "        ans = -1\n",
    "        count = 0\n",
    "        for num in arr:\n",
    "            if count == 0:\n",
    "                ans = num\n",
    "            if ans == num:\n",
    "                 count += 1\n",
    "            else:\n",
    "                 count -=1\n",
    "        return ans\n",
    "majorityElement([3, 1, 3, 3, 2])"
   ]
  },
  {
   "cell_type": "code",
   "execution_count": null,
   "metadata": {},
   "outputs": [],
   "source": [
    "def majorityElement(arr):\n",
    "    # find the candidate fro majority_element \n",
    "    candidate = None\n",
    "    count = 0\n",
    "\n",
    "    for num in arr:\n",
    "        if count == 0:\n",
    "            candidate = num\n",
    "        count += (1 if num == candidate else -1)\n",
    "    \n",
    "    #verify the candidate is actually a majority element\n",
    "    if arr.count(candidate) > len(arr)//2:\n",
    "        return candidate\n",
    "    return -1"
   ]
  },
  {
   "cell_type": "code",
   "execution_count": null,
   "metadata": {},
   "outputs": [],
   "source": [
    "#most frequent even number in an arr\n",
    "def mostFrequentEven(arr):\n",
    "    count = {}\n",
    "\n",
    "    for num in arr:\n",
    "        if num % 2 == 0:\n",
    "            if num in count:   \n",
    "                count[num] += 1\n",
    "            else:\n",
    "                count[num] = 1\n",
    "    \n",
    "    if not count:\n",
    "        return -1\n",
    "    \n",
    "    most_frequent = -1\n",
    "    highest_frequency = 0\n",
    "\n",
    "    for num, freq in count.items():\n",
    "        #check if the current freq is higher or its tied with a smaller number\n",
    "        if freq > highest_frequency or (freq == highest_frequency and num < most_frequent):\n",
    "            highest_frequency = freq\n",
    "            most_frequent = num\n",
    "\n",
    "    return most_frequent\n",
    "print(mostFrequentEven([0, 1, 2, 2, 4, 4, 1]))  # Output: 2\n",
    "print(mostFrequentEven([4, 4, 4, 9, 2, 4]))     # Output: 4\n",
    "print(mostFrequentEven([29, 47, 21, 41, 13, 37, 25, 7]))"
   ]
  },
  {
   "cell_type": "code",
   "execution_count": null,
   "metadata": {},
   "outputs": [],
   "source": [
    "from collections import defaultdict\n",
    "\n",
    "d = defaultdict(int)\n",
    "arr = [2,2,3,2,3,2,3,23]\n",
    "\n",
    "for num in arr:\n",
    "    d[num] += 1\n",
    "\n",
    "d[2]\n",
    "print(d)\n",
    "\n",
    "from collections import Counter\n",
    "\n",
    "mapp = Counter(arr)\n",
    "print(mapp)"
   ]
  },
  {
   "cell_type": "code",
   "execution_count": null,
   "metadata": {},
   "outputs": [],
   "source": [
    "def singleNum(arr):\n",
    "    s = defaultdict(int)\n",
    "    for num in arr:\n",
    "        s[num] += 1\n",
    "    res = []\n",
    "    for key,val in s.items():\n",
    "        if val % 2 == 1:\n",
    "            res.append(key)\n",
    "    return res\n",
    "singleNum([1,1,3,2,3,4])"
   ]
  },
  {
   "cell_type": "code",
   "execution_count": 54,
   "metadata": {},
   "outputs": [
    {
     "data": {
      "text/plain": [
       "({9: [1, 2, 4], 2: [0, 3], 5: [5]}, [9, 9, 9, 2, 2, 5])"
      ]
     },
     "execution_count": 54,
     "metadata": {},
     "output_type": "execute_result"
    }
   ],
   "source": [
    "def sortbyFreq(arr):\n",
    "    res = []\n",
    "    dist = {char:[] for char in set(arr)}\n",
    "\n",
    "    for index,num in enumerate(arr):\n",
    "        dist[num].append(index)\n",
    "    for num in dist:\n",
    "        res.extend([num]* len(dist[num]))\n",
    "    return dist,res\n",
    "\n",
    "sortbyFreq( [2, 9, 9, 2,9, 5])"
   ]
  },
  {
   "cell_type": "code",
   "execution_count": 48,
   "metadata": {},
   "outputs": [
    {
     "name": "stdout",
     "output_type": "stream",
     "text": [
      "2\n",
      "{1: [4], 2: [0, 2], 3: [1, 3], 5: [5, 7], 6: [6, 8], 7: [9]}\n",
      "[1, 2, 2, 3, 3, 5, 5, 6, 6, 7]\n"
     ]
    }
   ],
   "source": [
    "lst = [2,3,2,3,1,5,6,5,6,7]\n",
    "res = []\n",
    "\n",
    "reps = {char:[] for char in set(lst)}\n",
    "\n",
    "for index,char in enumerate(lst):\n",
    "    reps[char].append(index)\n",
    "\n",
    "for num in reps:\n",
    "\n",
    "    res.extend([num] * len(reps[num]))\n",
    "\n",
    "print(len(reps[6]))\n",
    "print(reps)\n",
    "print(res)"
   ]
  },
  {
   "cell_type": "code",
   "execution_count": null,
   "metadata": {},
   "outputs": [],
   "source": [
    "def closestThreeSum(arr,target):\n",
    "    arr.sort()\n",
    "    left,right = 0,len(arr) - 1\n",
    "    n  = len(arr)\n",
    "    closest_sum = float('inf')\n",
    "    for i in range(n - 2):\n",
    "        left, right = i + 1, n-1\n",
    "        while left < right:\n",
    "            current_sum = arr[i] + arr[left] + arr[right]\n",
    "            diff = abs(target - current_sum)\n",
    "\n",
    "            if diff < abs(target - closest_sum):\n",
    "                closest_sum = current_sum\n",
    "            elif diff == abs(target - closest_sum):\n",
    "                closest_sum = max(closest_sum, current_sum)\n",
    "\n",
    "            if current_sum < target:\n",
    "            \n",
    "                left += 1\n",
    "            else:\n",
    "                right -= 1\n",
    "    return closest_sum\n",
    "\n",
    "\n",
    "print(closestThreeSum([-7, 9, 8, 3, 1, 1], 2))  # Output: 2\n",
    "print(closestThreeSum([5, 2, 7, 5], 13))       # Output: 14\n",
    "\n",
    "\n"
   ]
  },
  {
   "cell_type": "code",
   "execution_count": 34,
   "metadata": {},
   "outputs": [
    {
     "name": "stdout",
     "output_type": "stream",
     "text": [
      "[[0, 0, 0]]\n"
     ]
    }
   ],
   "source": [
    "def threeSum(nums):\n",
    "    nums.sort()\n",
    "    res = []\n",
    "    n = len(nums)\n",
    "    if len(nums) < 3:\n",
    "        return []\n",
    "\n",
    "    for i in range(n-2):\n",
    "        if i > 0 and  nums[i] == nums[i - 1]:\n",
    "            continue\n",
    "        left, right = i + 1,n-1\n",
    "        \n",
    "        while left < right :\n",
    "            current_sum = nums[i] + nums[left] + nums[right]\n",
    "            curr_arr = [nums[i] , nums[left] , nums[right]]\n",
    "\n",
    "            if current_sum == 0 :\n",
    "                res.append([nums[i] , nums[left] , nums[right]])\n",
    "\n",
    "                #skip duplicates for left and right pointers\n",
    "                while left < right and nums[left] == nums[left + 1]:\n",
    "                    left += 1\n",
    "                while left < right and nums[right] == nums[right - 1]:\n",
    "                    right -= 1\n",
    "\n",
    "                # #move pointers inward\n",
    "                # left += 1\n",
    "                # right -= 1\n",
    "\n",
    "            if current_sum < 0:\n",
    "                left += 1\n",
    "            else:\n",
    "                right -= 1\n",
    "    return res \n",
    "\n",
    "print(threeSum([0,0,0,0]\n",
    "))      "
   ]
  },
  {
   "cell_type": "code",
   "execution_count": 45,
   "metadata": {},
   "outputs": [
    {
     "name": "stdout",
     "output_type": "stream",
     "text": [
      "(85, [-70, -59, 16, 19, 61, 83])\n"
     ]
    }
   ],
   "source": [
    "# Minimize the Heights I\n",
    "\n",
    "def minimizeHeights(arr,k):\n",
    "    n = len(arr)\n",
    "\n",
    "    if n == 1:\n",
    "        return 0 #If there is only one tower the diff is always zero\n",
    "    #sort the array\n",
    "    arr.sort()\n",
    "\n",
    "    #Initial diff btwn min and max heights\n",
    "    initial_diff = arr[-1] - arr[0]\n",
    "\n",
    "    # initialize the minimun difference \n",
    "    min_diff = initial_diff\n",
    "\n",
    "    #smallest and largest values after modification\n",
    "    small = arr[0] + k\n",
    "    large = arr[-1] - k\n",
    "\n",
    "    # Ensure small is always less than large\n",
    "    if small > large:\n",
    "        small,large = large,small\n",
    "    #Iterate through the array and calculate possible differences\n",
    "    for i in range(n - 1):\n",
    "        min_h = min(small,arr[i + 1] - k)\n",
    "        max_h = max(large,arr[i] + k)\n",
    "        min_diff = min(min_diff,max_h - min_h)\n",
    "    return min_diff,arr\n",
    "\n",
    "k = 80\n",
    "arr = [-70, -59 , 83, 16 ,61, 19]\n",
    "print(minimizeHeights(arr, k))  \n",
    "# Output: 5\n"
   ]
  },
  {
   "cell_type": "code",
   "execution_count": 55,
   "metadata": {},
   "outputs": [
    {
     "name": "stdout",
     "output_type": "stream",
     "text": [
      "85\n"
     ]
    }
   ],
   "source": [
    "def minHeights(arr,k):\n",
    "    n = len(arr)\n",
    "    if n == 1:\n",
    "        return 0\n",
    "    arr.sort()\n",
    "    \n",
    "    diff = arr[-1] - arr[0]\n",
    "    min_diff = diff\n",
    "\n",
    "    small,large = arr[0] + k,arr[-1] - k\n",
    "\n",
    "    if small > large:\n",
    "        small,large = large,small\n",
    "\n",
    "    for i in range(n-1):\n",
    "        minh = min(small, arr[i+1] - k)\n",
    "        maxh = max(large, arr[i] + k)\n",
    "        min_diff = min(min_diff, maxh - minh)\n",
    "    return min_diff\n",
    "\n",
    "k = 80\n",
    "arr = [-70, -59 , 83, 16 ,61, 19]\n",
    "print(minHeights(arr, k))  "
   ]
  },
  {
   "cell_type": "code",
   "execution_count": 56,
   "metadata": {},
   "outputs": [
    {
     "ename": "SyntaxError",
     "evalue": "incomplete input (1576217456.py, line 3)",
     "output_type": "error",
     "traceback": [
      "\u001b[1;36m  Cell \u001b[1;32mIn[56], line 3\u001b[1;36m\u001b[0m\n\u001b[1;33m    \u001b[0m\n\u001b[1;37m    ^\u001b[0m\n\u001b[1;31mSyntaxError\u001b[0m\u001b[1;31m:\u001b[0m incomplete input\n"
     ]
    }
   ],
   "source": [
    "#kadanes\n",
    "def maxSubArray(nums):\n",
    "    "
   ]
  },
  {
   "cell_type": "code",
   "execution_count": 66,
   "metadata": {},
   "outputs": [
    {
     "data": {
      "text/plain": [
       "[2, 2, 2, 2, 2, 2, 2, 3, 3, 3, 1, 1, 4, 4]"
      ]
     },
     "execution_count": 66,
     "metadata": {},
     "output_type": "execute_result"
    }
   ],
   "source": [
    "def decrFrequency(arr):\n",
    "    seen = {}\n",
    "\n",
    "    for num in arr:\n",
    "        seen[num] = seen.get(num,0) + 1\n",
    "    seen_sort = sorted(seen.items(),key= lambda x:(-x[1],x[0]))\n",
    "\n",
    "    res = []\n",
    "    for num,freq in seen_sort:\n",
    "        res.extend([num] * freq)\n",
    "    return res\n",
    "decrFrequency([4,4,2,2,3,2,1,2,3,2,2,3,1,2])\n"
   ]
  },
  {
   "cell_type": "code",
   "execution_count": 79,
   "metadata": {},
   "outputs": [
    {
     "data": {
      "text/plain": [
       "[4, 1]"
      ]
     },
     "execution_count": 79,
     "metadata": {},
     "output_type": "execute_result"
    }
   ],
   "source": [
    "def MostFrequentk(arr,k):\n",
    "    seen = {}\n",
    "\n",
    "    for num in arr:\n",
    "        seen[num] = seen.get(num,0) + 1\n",
    "    seen_sort = sorted(seen.items(),key= lambda x:(-x[1],-x[0]))\n",
    "    res = []\n",
    "\n",
    "    for num,freq in seen_sort[:k]:\n",
    "        res.append(num)\n",
    "    \n",
    "\n",
    "    return res \n",
    "MostFrequentk([3, 1, 4, 4, 5, 2, 6, 1],2)\n"
   ]
  },
  {
   "cell_type": "code",
   "execution_count": 88,
   "metadata": {},
   "outputs": [
    {
     "data": {
      "text/plain": [
       "[0, 2, 2, 0, 1]"
      ]
     },
     "execution_count": 88,
     "metadata": {},
     "output_type": "execute_result"
    }
   ],
   "source": [
    "def frequencyCount( arr):\n",
    "    res = [0] * len(arr)\n",
    "\n",
    "    for num in arr:\n",
    "        res[num - 1] += 1\n",
    "    return res\n",
    "frequencyCount([2, 3, 2, 3, 5])\n"
   ]
  },
  {
   "cell_type": "code",
   "execution_count": 101,
   "metadata": {},
   "outputs": [
    {
     "data": {
      "text/plain": [
       "([(1, 1), (2, 1), (3, 1), (4, 1), (5, 1)], 5)"
      ]
     },
     "execution_count": 101,
     "metadata": {},
     "output_type": "execute_result"
    }
   ],
   "source": [
    "def maxFrequencyElements( nums) -> int:\n",
    "    seen = {}\n",
    "\n",
    "    for num in nums:\n",
    "        seen[num] = seen.get(num, 0) + 1\n",
    "    sorted_seen = sorted(seen.items(),key = lambda x: (-x[1],x[0]))\n",
    "    most_freq = sorted_seen[0][1]\n",
    "    res = 0\n",
    "    for num, freq in seen.items():\n",
    "        if freq  == most_freq:\n",
    "            res += freq\n",
    "    return sorted_seen,res\n",
    "maxFrequencyElements([1,2,3,4,5])"
   ]
  },
  {
   "cell_type": "code",
   "execution_count": 112,
   "metadata": {},
   "outputs": [
    {
     "data": {
      "text/plain": [
       "180"
      ]
     },
     "execution_count": 112,
     "metadata": {},
     "output_type": "execute_result"
    }
   ],
   "source": [
    "# Maximum Product Subarray\n",
    "\n",
    "def maxProduct(arr):\n",
    "    res = max(arr)\n",
    "    max_product,min_product = 1,1\n",
    "\n",
    "    for num in arr:\n",
    "        # if n == 0:\n",
    "        #     curMin,curMax = 1,1\n",
    "\n",
    "        temp_max = max_product * num\n",
    "        max_product = max(min_product *num , max_product * num , num)\n",
    "        min_product = min(temp_max,min_product * num, num)\n",
    "\n",
    "        res = max(res, max_product)\n",
    "    return res\n",
    "\n",
    "maxProduct([-2, 6, -3, -10, 0, 2])\n",
    "\n"
   ]
  },
  {
   "cell_type": "code",
   "execution_count": 1,
   "metadata": {},
   "outputs": [
    {
     "name": "stdout",
     "output_type": "stream",
     "text": [
      "5\n",
      "2\n"
     ]
    }
   ],
   "source": [
    "# Minimum steps to make product equal to one \n",
    "\n",
    "def makeProductOne(N, arr):\n",
    "    steps = 0\n",
    "    neg_count =0 #coutn -ve nums\n",
    "    zero_count = 0\n",
    "\n",
    "    for num in arr:\n",
    "        if num == 0:\n",
    "            steps += 1\n",
    "            zero_count += 1\n",
    "        elif num > 0:\n",
    "            steps += (num -1)\n",
    "        else:\n",
    "            steps += (-1-num) #steps to change num to -1\n",
    "            neg_count += 1\n",
    "    #If number of -ve nums is odd handle it\n",
    "    if neg_count % 2 != 0:\n",
    "        if zero_count > 0:\n",
    "            pass \n",
    "        else:\n",
    "            steps += 2 #convert -1 to 1\n",
    "\n",
    "    return steps\n",
    "# Examples\n",
    "print(makeProductOne(3, [-2, 4, 0]))  # Output: 5\n",
    "print(makeProductOne(3, [-1, 1])) "
   ]
  },
  {
   "cell_type": "code",
   "execution_count": 8,
   "metadata": {},
   "outputs": [
    {
     "name": "stdout",
     "output_type": "stream",
     "text": [
      "22\n",
      "23\n",
      "52\n"
     ]
    }
   ],
   "source": [
    "def maxCircularSubarraySum(arr):\n",
    "    # function to ompute max subarray sum using kadanes algorithm \n",
    "\n",
    "    def kadane(arr):\n",
    "        max_sum = float('-inf')\n",
    "        cur_sum = 0\n",
    "\n",
    "        for num in arr:\n",
    "            cur_sum += num\n",
    "\n",
    "            if cur_sum < 0:\n",
    "                cur_sum = 0\n",
    "\n",
    "            max_sum = max(max_sum, cur_sum)\n",
    "        return max_sum\n",
    "    #Total sum of the array\n",
    "    total_sum = sum(arr)\n",
    "    #Max subarray using kadanes algo\n",
    "    max_kadane = kadane(arr)\n",
    "\n",
    "    #Minimum subarray sum (using kadanes algo on negated array)\n",
    "    min_kadane = kadane([-x for x in arr])\n",
    "\n",
    "    #Maximum circular sum\n",
    "    circular_sum = total_sum + min_kadane # + bcoz min_kadane was calculated on negated values\n",
    "\n",
    "    #If all numbers are -ve , max_kadane is the answer\n",
    "    if max_kadane < 0:\n",
    "        return max_kadane\n",
    "    \n",
    "\n",
    "    return max(max_kadane,circular_sum)\n",
    "\n",
    "maxCircularSubarraySum([-1,2,3,-2])\n",
    "\n",
    "# Test cases\n",
    "arr1 = [8, -8, 9, -9, 10, -11, 12]\n",
    "arr2 = [10, -3, -4, 7, 6, 5, -4, -1]\n",
    "arr3 = [-1, 40, -14, 7, 6, 5, -4, -1]\n",
    "\n",
    "print(maxCircularSubarraySum(arr1))  # Output: 22\n",
    "print(maxCircularSubarraySum(arr2))  # Output: 23\n",
    "print(maxCircularSubarraySum(arr3))"
   ]
  },
  {
   "cell_type": "code",
   "execution_count": 13,
   "metadata": {},
   "outputs": [
    {
     "name": "stdout",
     "output_type": "stream",
     "text": [
      "22\n",
      "23\n",
      "0\n"
     ]
    }
   ],
   "source": [
    "def maxCircularSubarraySum(arr):\n",
    "    def kadane(arr):\n",
    "        max_sum,cur_sum = float('-inf'),0\n",
    "\n",
    "        for num in arr:\n",
    "            cur_sum += num\n",
    "\n",
    "            if cur_sum < 0:\n",
    "                cur_sum = 0\n",
    "            max_sum = max(max_sum, cur_sum)\n",
    "        return max_sum\n",
    "    max_kadane = kadane(arr)\n",
    "    total_sum = sum(arr)\n",
    "    min_kadane = kadane([-x for x in arr])\n",
    "\n",
    "    circular_sum = total_sum + min_kadane\n",
    "\n",
    "    if max_kadane < 0:\n",
    "        return max_kadane\n",
    "    \n",
    "    return max(max_kadane,circular_sum)\n",
    "# Test cases\n",
    "arr1 = [8, -8, 9, -9, 10, -11, 12]\n",
    "arr2 = [10, -3, -4, 7, 6, 5, -4, -1]\n",
    "arr3 = [-3,-2,-3]\n",
    "\n",
    "print(maxCircularSubarraySum(arr1))  # Output: 22\n",
    "print(maxCircularSubarraySum(arr2))  # Output: 23\n",
    "print(maxCircularSubarraySum(arr3))"
   ]
  },
  {
   "cell_type": "code",
   "execution_count": 14,
   "metadata": {},
   "outputs": [
    {
     "name": "stdout",
     "output_type": "stream",
     "text": [
      "6\n",
      "4\n",
      "1\n"
     ]
    }
   ],
   "source": [
    "def countZeroSumSubarrays(arr):\n",
    "    #Initialize prefix sum, count and hashmap\n",
    "    prefix_sum,count,freq_map = 0,0,{}\n",
    "\n",
    "    for num in arr:\n",
    "        #Update prefix_sum\n",
    "        prefix_sum += num\n",
    "\n",
    "        # if prefix_sum is zero increment count \n",
    "        if prefix_sum == 0:\n",
    "            count += 1\n",
    "        #If prefix sum exists in freq_map and its frequency to count\n",
    "        if prefix_sum in freq_map:\n",
    "            count += freq_map[prefix_sum]\n",
    "        \n",
    "        #Update the frequency of the current prefix_sum in  freq_map\n",
    "        freq_map[prefix_sum] = freq_map.get(prefix_sum,0) + 1\n",
    "\n",
    "    return count\n",
    "\n",
    "# Test cases\n",
    "arr1 = [0, 0, 5, 5, 0, 0]\n",
    "arr2 = [6, -1, -3, 4, -2, 2, 4, 6, -12, -7]\n",
    "arr3 = [0]\n",
    "\n",
    "print(countZeroSumSubarrays(arr1))  # Output: 6\n",
    "print(countZeroSumSubarrays(arr2))  # Output: 4\n",
    "print(countZeroSumSubarrays(arr3))  # Output: 1"
   ]
  },
  {
   "cell_type": "code",
   "execution_count": 16,
   "metadata": {},
   "outputs": [
    {
     "data": {
      "text/plain": [
       "-2"
      ]
     },
     "execution_count": 16,
     "metadata": {},
     "output_type": "execute_result"
    }
   ],
   "source": [
    "def kadane(arr):\n",
    "    max_ending_here = max_so_far = arr[0]\n",
    "    for num in arr[1:]:\n",
    "        max_ending_here = max(num, max_ending_here + num)\n",
    "        max_so_far = max(max_so_far,max_ending_here)\n",
    "    return max_so_far\n",
    "kadane([-3,-2,-3])"
   ]
  },
  {
   "cell_type": "code",
   "execution_count": 21,
   "metadata": {},
   "outputs": [
    {
     "data": {
      "text/plain": [
       "5"
      ]
     },
     "execution_count": 21,
     "metadata": {},
     "output_type": "execute_result"
    }
   ],
   "source": [
    "def findKthLargest( nums, k):\n",
    "    nums.sort()\n",
    "    return nums[len(nums)  - k]\n",
    "\n",
    "findKthLargest([3,2,1,5,6,4],2)"
   ]
  },
  {
   "cell_type": "code",
   "execution_count": 24,
   "metadata": {},
   "outputs": [
    {
     "data": {
      "text/plain": [
       "5"
      ]
     },
     "execution_count": 24,
     "metadata": {},
     "output_type": "execute_result"
    }
   ],
   "source": [
    "# Approach: Using a Min-Heap\n",
    "import heapq\n",
    "def findKthlargest(nums,k):\n",
    "    #create a min-heap of size k\n",
    "    min_heap = []\n",
    "    for num in nums:\n",
    "        heapq.heappush(min_heap,num) #add num to heap\n",
    "        if len(min_heap) > k:\n",
    "            heapq.heappop(min_heap) #Remove the smallest element if size exceeds k\n",
    "\n",
    "    #the root of the heap is the k-th largest element\n",
    "    return min_heap[0]\n",
    "findKthlargest([3,2,1,5,6,4],2)\n"
   ]
  },
  {
   "cell_type": "code",
   "execution_count": 27,
   "metadata": {},
   "outputs": [
    {
     "data": {
      "text/plain": [
       "6"
      ]
     },
     "execution_count": 27,
     "metadata": {},
     "output_type": "execute_result"
    }
   ],
   "source": [
    "def findKthLargest(nums, k):\n",
    "    min_heap = []\n",
    "\n",
    "    for num in nums:\n",
    "        heapq.heappush(min_heap, num)\n",
    "        if len(min_heap) > k:\n",
    "            heapq.heappop(min_heap)\n",
    "\n",
    "    return min_heap[0]\n",
    "findKthLargest([3,2,1,5,7,6,4],2)\n"
   ]
  },
  {
   "cell_type": "code",
   "execution_count": 28,
   "metadata": {},
   "outputs": [],
   "source": [
    "import heapq\n",
    "\n",
    "def maxCombinations(N, K, A, B):\n",
    "    #sort A B in desc order\n",
    "    A.sort(reverse = True)\n",
    "    B.sort(reverse = True)\n",
    "\n",
    "    #max_heap to store sums(-ve for Python's heapq)\n",
    "    max_heap = []\n",
    "    #Set to store visited indices\n",
    "    visited = set()\n",
    "\n",
    "    #Push the largest sum initialy\n",
    "    heapq.heappush(max_heap, (-(A[0] + B[0]),0,0))\n",
    "    visited.add((0,0))\n",
    "\n",
    "    result = []\n",
    "\n",
    "    # extract k max sums \n",
    "    while k > 0 and max_heap:\n",
    "        #Get the largest sum\n",
    "        cur_sum,i,j = heapq.heappop(max_heap)\n",
    "        result.append(-cur_sum) #add the result and covert back t +ve\n",
    "        k-= 1"
   ]
  },
  {
   "cell_type": "code",
   "execution_count": 39,
   "metadata": {},
   "outputs": [
    {
     "name": "stdout",
     "output_type": "stream",
     "text": [
      "2\n",
      "1\n"
     ]
    },
    {
     "data": {
      "text/plain": [
       "[2, 1]"
      ]
     },
     "execution_count": 39,
     "metadata": {},
     "output_type": "execute_result"
    }
   ],
   "source": [
    "class stack:\n",
    "    def __init__(self):\n",
    "        self.s=[]\n",
    "        self.minEle=[]\n",
    "\n",
    "    def push(self,x):\n",
    "        #CODE HERE\n",
    "        self.s.append(x)\n",
    "        if not self.minEle:\n",
    "            self.minEle.append(x)\n",
    "        elif self.minEle[-1] < x:\n",
    "            self.minEle.append(self.minEle[-1])\n",
    "        else:\n",
    "            self.minEle.append(x)\n",
    "\n",
    "    def pop(self):\n",
    "        #CODE HERE\n",
    "        self.s.pop()\n",
    "        self.minEle.pop()\n",
    "        \n",
    "\n",
    "    def getMin(self):\n",
    "        #CODE HERE\n",
    "        return self.minEle[-1]\n",
    "    def getStack(self):\n",
    "        return self.s\n",
    "s = stack()\n",
    "\n",
    "s.push(2)\n",
    "s.push(3)\n",
    "s.pop()\n",
    "print(s.getMin())\n",
    "s.push(1)\n",
    "print(s.getMin())\n",
    "\n",
    "\n",
    "\n",
    "s.getStack()"
   ]
  },
  {
   "cell_type": "code",
   "execution_count": 5,
   "metadata": {},
   "outputs": [
    {
     "data": {
      "text/plain": [
       "3"
      ]
     },
     "execution_count": 5,
     "metadata": {},
     "output_type": "execute_result"
    }
   ],
   "source": [
    "def missingNumber(arr):\n",
    "        #Your code here\n",
    "        hashset = set(arr)\n",
    "        for i in range(1,len(arr)+ 2):\n",
    "            if i not in hashset:\n",
    "                return i\n",
    "missingNumber([1,2,4,5])\n"
   ]
  },
  {
   "cell_type": "code",
   "execution_count": 21,
   "metadata": {},
   "outputs": [
    {
     "data": {
      "text/plain": [
       "3"
      ]
     },
     "execution_count": 21,
     "metadata": {},
     "output_type": "execute_result"
    }
   ],
   "source": [
    "def missingNumber(arr):\n",
    "    for i in range(len(arr)):\n",
    "        if arr[i] < 0:\n",
    "            arr[i] = 0\n",
    "    for num in range(len(arr)):\n",
    "        abs_num = abs(arr[num])\n",
    "        if 1 <= abs_num  <= len(arr):\n",
    "            if arr[abs_num - 1] > 0:\n",
    "                arr[abs_num - 1] *= -1\n",
    "            if arr[abs_num - 1] == 0:\n",
    "                arr[abs_num - 1] = -1 * (len(arr) +1)\n",
    "    for i in range(1, len(arr) + 1):\n",
    "        if arr[i - 1] >= 0:\n",
    "            return i\n",
    "        \n",
    "\n",
    "    return len(arr) + 1\n",
    "missingNumber([2, -18, 1, 19])\n"
   ]
  },
  {
   "cell_type": "code",
   "execution_count": 25,
   "metadata": {},
   "outputs": [
    {
     "data": {
      "text/plain": [
       "[2, 1]"
      ]
     },
     "execution_count": 25,
     "metadata": {},
     "output_type": "execute_result"
    }
   ],
   "source": [
    "def findTwoElement( arr): \n",
    "    # code here\n",
    "    seen,missing_num,rep_num= {},0,0\n",
    "    for num in arr:\n",
    "        seen[num] = seen.get(num,0) + 1\n",
    "    \n",
    "    for num in range(1,len(arr)+ 1):\n",
    "        if num not in seen:\n",
    "            missing_num = num\n",
    "        elif num in seen and seen[num] > 1:\n",
    "            rep_num = num\n",
    "    return [rep_num, missing_num]\n",
    "findTwoElement([2,2])\n"
   ]
  },
  {
   "cell_type": "code",
   "execution_count": 29,
   "metadata": {},
   "outputs": [
    {
     "data": {
      "text/plain": [
       "[2, 1]"
      ]
     },
     "execution_count": 29,
     "metadata": {},
     "output_type": "execute_result"
    }
   ],
   "source": [
    "def findMissingAndRepeating(arr):\n",
    "    n = len(arr)\n",
    "    repeating = -1\n",
    "    missing = -1\n",
    "    for num in arr:\n",
    "        val = abs(num)\n",
    "        if arr[val-1] < 0:\n",
    "            repeating = val\n",
    "        else:\n",
    "            arr[val - 1] *= -1\n",
    "    for num in range(n):\n",
    "        if arr[num ] > 0:\n",
    "            missing = num + 1\n",
    "    return [repeating, missing]\n",
    "findMissingAndRepeating([2,2])\n"
   ]
  },
  {
   "cell_type": "code",
   "execution_count": 32,
   "metadata": {},
   "outputs": [
    {
     "name": "stdout",
     "output_type": "stream",
     "text": [
      "-123\n"
     ]
    }
   ],
   "source": [
    "def atoi(s):\n",
    "    maxInt = 2**31 -1\n",
    "    minInt = -2**31\n",
    "\n",
    "    #remove leading spaces\n",
    "    s = s.lstrip()\n",
    "    if not s:\n",
    "        return 0 #handle empty string\n",
    "    \n",
    "    # check for a sign \n",
    "    sign ,index = 1,0\n",
    "    if s[0] == '-':\n",
    "        sign = -1\n",
    "        index += 1\n",
    "    elif s[0] == '+':\n",
    "        index += 1\n",
    "    #convert digits to integer\n",
    "    result = 0\n",
    "    while index < len(s) and s[index].isdigit():\n",
    "        digit = int(s[index])\n",
    "        #check for overflow and underflow\n",
    "        if result > (maxInt - digit) // 10:\n",
    "            return maxInt if sign == 1 else minInt\n",
    "        result = result * 10 + digit\n",
    "        index += 1\n",
    "    \n",
    "    return sign * result\n",
    "s = \"-123\"\n",
    "print(atoi(s))  "
   ]
  },
  {
   "cell_type": "code",
   "execution_count": 36,
   "metadata": {},
   "outputs": [
    {
     "name": "stdout",
     "output_type": "stream",
     "text": [
      "2147483647\n"
     ]
    }
   ],
   "source": [
    "def my_atoi(s):\n",
    "    maxInt, minInt = 2 **31 -1, -2**31\n",
    "    s.lstrip()\n",
    "    sign,index = 1,0\n",
    "    if s[0] == '-':\n",
    "        sign = -1\n",
    "        index += 1\n",
    "    elif s[0] == '+':\n",
    "        index += 1\n",
    "    \n",
    "    result = 0\n",
    "    while index < len(s) and s[index].isdigit():\n",
    "        digit = int(s[index])\n",
    "        if result > (maxInt - digit) // 10:\n",
    "            return maxInt if sign == 1 else minInt\n",
    "        result = result * 10 + digit\n",
    "        index += 1\n",
    "    return result * sign\n",
    "\n",
    "s = \"1231231231311133\"\n",
    "print(my_atoi(s))  \n",
    "\n"
   ]
  },
  {
   "cell_type": "code",
   "execution_count": null,
   "metadata": {},
   "outputs": [
    {
     "name": "stdout",
     "output_type": "stream",
     "text": [
      "4\n",
      "3\n"
     ]
    }
   ],
   "source": [
    "def maxSubStr(s):\n",
    "    bal,count = 0,0\n",
    "\n",
    "    for char in s:\n",
    "        if char == '0':\n",
    "            bal += 1\n",
    "        elif char == '1':\n",
    "            bal -= 1\n",
    "        \n",
    "        #increment the count when balane is 0\n",
    "        if bal == 0:\n",
    "            count += 1\n",
    "    return count if bal == 0 else -1\n",
    "# Examples\n",
    "S1 = \"0100110101\"\n",
    "S2 = \"0111100010\"\n",
    "\n",
    "print(maxSubStr(S1))  # Output: 4\n",
    "print(maxSubStr(S2))  # Output: 3\n"
   ]
  },
  {
   "cell_type": "code",
   "execution_count": 17,
   "metadata": {},
   "outputs": [
    {
     "data": {
      "text/plain": [
       "True"
      ]
     },
     "execution_count": 17,
     "metadata": {},
     "output_type": "execute_result"
    }
   ],
   "source": [
    "def areNumbersAscending( s: str) -> bool:\n",
    "        digits = []\n",
    "        words = s.split()\n",
    "\n",
    "        for word in words :\n",
    "            if word.isdigit():\n",
    "                digits.append(int(word))\n",
    "        for num in range(len(digits) - 1):\n",
    "             if digits[num] >= digits[num + 1]:\n",
    "                  return False\n",
    "        return True\n",
    "s = \"sunset is at 7 51 pm overnight lows will be in the low 510 and 620 s\"\n",
    "areNumbersAscending(s)"
   ]
  },
  {
   "cell_type": "code",
   "execution_count": 22,
   "metadata": {},
   "outputs": [
    {
     "data": {
      "text/plain": [
       "True"
      ]
     },
     "execution_count": 22,
     "metadata": {},
     "output_type": "execute_result"
    }
   ],
   "source": [
    "def IspowerOfFour(n):\n",
    "    return n > 0 and (n & (n-1)) == 0 and (n & 0xaaaaaaaa) == 0\n",
    "IspowerOfFour(64)"
   ]
  },
  {
   "cell_type": "code",
   "execution_count": 27,
   "metadata": {},
   "outputs": [
    {
     "data": {
      "text/plain": [
       "'1001'"
      ]
     },
     "execution_count": 27,
     "metadata": {},
     "output_type": "execute_result"
    }
   ],
   "source": [
    "def addBinaryStrings(s1: str, s2: str) -> str:\n",
    "    #Normalize lengths by padding with zeros\n",
    "    max_len = max(len(s1),len(s2))\n",
    "    s1 = s1.zfill(max_len)\n",
    "    s2 = s2.zfill(max_len)\n",
    "\n",
    "    carry = 0\n",
    "    res = []\n",
    "    #Traverse both strings from right to left\n",
    "    for i in range(max_len - 1,-1,-1):\n",
    "        bit1 = int(s1[i])\n",
    "        bit2 = int(s2[i])\n",
    "        #compute sum of bits\n",
    "        total = bit1 + bit2 + carry\n",
    "        res.append(str(total % 2)) # append the current bit\n",
    "        carry = total // 2\n",
    "    \n",
    "    #If carry is left append it \n",
    "    if carry:\n",
    "        res.append('1')\n",
    "    #Reverse the result list and join to form the output string\n",
    "    ans = ''.join(res[::-1])\n",
    "    #remove leading zeros\n",
    "    return ans.lstrip('0') or '0' #Ensure at least a zero is returned\n",
    "s1 = \"00100\"\n",
    "s2 = \"0101\"\n",
    "\n",
    "addBinaryStrings(s1,s2)\n"
   ]
  },
  {
   "cell_type": "code",
   "execution_count": 31,
   "metadata": {},
   "outputs": [
    {
     "data": {
      "text/plain": [
       "'1001'"
      ]
     },
     "execution_count": 31,
     "metadata": {},
     "output_type": "execute_result"
    }
   ],
   "source": [
    "def addBinaryStrings(s1,s2):\n",
    "    maxLen = max(len(s1),len(s2))\n",
    "    s1 = s1.zfill(maxLen)\n",
    "    s2 = s2.zfill(maxLen)\n",
    "\n",
    "    carry = 0\n",
    "    res = []\n",
    "    for i in range(maxLen - 1,-1,-1):\n",
    "        bit1 = int(s1[i])\n",
    "        bit2 = int(s2[i])\n",
    "        total = bit1 + bit2 + carry\n",
    "        res.append(str(total % 2))\n",
    "        carry = total // 2\n",
    "    if carry:\n",
    "        res.append('1')\n",
    "\n",
    "    ans = ''.join(res[::-1])\n",
    "\n",
    "    return ans.lstrip('0') or '0'\n",
    "s1 = \"00100\"\n",
    "s2 = \"0101\"\n",
    "\n",
    "addBinaryStrings(s1,s2)\n",
    "    "
   ]
  },
  {
   "cell_type": "code",
   "execution_count": 33,
   "metadata": {},
   "outputs": [
    {
     "data": {
      "text/plain": [
       "'48'"
      ]
     },
     "execution_count": 33,
     "metadata": {},
     "output_type": "execute_result"
    }
   ],
   "source": [
    "def findSum(X: str, Y: str) -> str:\n",
    "    # Reverse the strings to make addition easier\n",
    "    X = X[::-1]\n",
    "    Y = Y[::-1]\n",
    "\n",
    "    res = [] # To store the result\n",
    "    carry = 0\n",
    "    i,j = 0,0\n",
    "\n",
    "    # loop through both strings \n",
    "    while i < len(X) or j < len(Y) or carry:\n",
    "        #get the digits or use 0 if index exceeds string length\n",
    "        digitX = int(X[i]) if i < len(X) else 0\n",
    "        digitY = int(Y[i]) if i < len(Y) else 0\n",
    "\n",
    "        #Compute the sum of digits and carry\n",
    "        total = digitX + digitY  + carry\n",
    "        res.append(str(total % 10)) #Add the least significant digit to res\n",
    "        carry = total // 10 # update carry\n",
    "\n",
    "        j+= 1\n",
    "        i += 1\n",
    "\n",
    "    return ''.join(res[::-1]).lstrip('0') or '0'\n",
    "\n",
    "X = \"25\"\n",
    "Y = \"23\"\n",
    "findSum(X,Y)"
   ]
  },
  {
   "cell_type": "code",
   "execution_count": 36,
   "metadata": {},
   "outputs": [
    {
     "data": {
      "text/plain": [
       "'48'"
      ]
     },
     "execution_count": 36,
     "metadata": {},
     "output_type": "execute_result"
    }
   ],
   "source": [
    "def strSum(x,y):\n",
    "    x,y = x[::-1],y[::-1]\n",
    "\n",
    "    carry,res = 0,[]\n",
    "    i,j =0,0\n",
    "    while i < len(x) or j < len(y):\n",
    "        digitx,digity = int(x[i]) , int(y[i])\n",
    "        total = digitx + digity + carry\n",
    "\n",
    "        res.append(str(total % 10))\n",
    "        carry = total // 10\n",
    "\n",
    "        j,i = j+1,i+ 1\n",
    "    return ''.join(res[::-1]).lstrip('0') or '0'\n",
    "X = \"25\"\n",
    "Y = \"23\"\n",
    "findSum(X,Y)\n"
   ]
  },
  {
   "cell_type": "code",
   "execution_count": 38,
   "metadata": {},
   "outputs": [
    {
     "data": {
      "text/plain": [
       "[1, 2]"
      ]
     },
     "execution_count": 38,
     "metadata": {},
     "output_type": "execute_result"
    }
   ],
   "source": [
    "def countEvenOddIndices(n: int) :\n",
    "    binary = bin(n)[2:]\n",
    "    even,odd =0,0\n",
    "\n",
    "    for index, bit in enumerate(reversed(binary)):\n",
    "        if bit == '1':\n",
    "            if index % 2 == 0: \n",
    "                even += 1\n",
    "            else:\n",
    "                odd += 1\n",
    "    return [even,odd]\n",
    "\n",
    "countEvenOddIndices(50)"
   ]
  },
  {
   "cell_type": "code",
   "execution_count": 1,
   "metadata": {},
   "outputs": [],
   "source": [
    "import heapq\n",
    "\n",
    "def maxCombinations(N, K, A, B):\n",
    "    # Step 1: Sort both arrays in descending order\n",
    "    A.sort(reverse=True)\n",
    "    B.sort(reverse=True)\n",
    "\n",
    "    max"
   ]
  },
  {
   "cell_type": "code",
   "execution_count": 3,
   "metadata": {},
   "outputs": [],
   "source": [
    "def anagram(s1, s2):\n",
    "    if len(s1) != len(s2):\n",
    "        return False\n",
    "\n",
    "    #Use a freq array to count the characters\n",
    "    freq = [0] * 26\n",
    "\n",
    "    for char in s1:\n",
    "        freq[ord(char) - ord('a')] += 1  #Increment for s1\n",
    "\n",
    "    for char in s2:\n",
    "        freq[ ord(char) - ord('a')] -= 1 #decrement for s2\n",
    "\n",
    "    #check if all counts a re zero\n",
    "    return all(count == 0 for count in  freq)"
   ]
  },
  {
   "cell_type": "code",
   "execution_count": 7,
   "metadata": {},
   "outputs": [
    {
     "data": {
      "text/plain": [
       "True"
      ]
     },
     "execution_count": 7,
     "metadata": {},
     "output_type": "execute_result"
    }
   ],
   "source": [
    "from collections import Counter\n",
    "\n",
    "def anagram(s1,s2):\n",
    "    dicts1 = Counter(s1)\n",
    "    dicts2 = Counter(s2)\n",
    "\n",
    "    return dicts1 == dicts2\n",
    "\n",
    "s1 = 'rhtf'\n",
    "s2 = \"ftrh\"\n",
    "anagram(s1,s2)"
   ]
  },
  {
   "cell_type": "code",
   "execution_count": 14,
   "metadata": {},
   "outputs": [
    {
     "data": {
      "text/plain": [
       "['((()))', '(()())', '(())()', '()(())', '()()()']"
      ]
     },
     "execution_count": 14,
     "metadata": {},
     "output_type": "execute_result"
    }
   ],
   "source": [
    "def generateParenthesis(n):\n",
    "    res,sol = [],[]\n",
    "\n",
    "    def backtrack(open,close):\n",
    "        if len(sol) == n* 2:\n",
    "            res.append(''.join(sol))\n",
    "            return\n",
    "        \n",
    "        if open < n:\n",
    "            sol.append('(')\n",
    "            backtrack(open + 1, close)\n",
    "            sol.pop()\n",
    "        \n",
    "        if close < open:\n",
    "            sol.append(')')\n",
    "            backtrack(open,close + 1)\n",
    "            sol.pop()\n",
    "    backtrack(0,0)\n",
    "    return res\n",
    "generateParenthesis(3)"
   ]
  },
  {
   "cell_type": "code",
   "execution_count": 20,
   "metadata": {},
   "outputs": [
    {
     "data": {
      "text/plain": [
       "False"
      ]
     },
     "execution_count": 20,
     "metadata": {},
     "output_type": "execute_result"
    }
   ],
   "source": [
    "def checkValidString(s):\n",
    "    leftMin,leftMax = 0,0\n",
    "\n",
    "    for c in s:\n",
    "        if c == '(':\n",
    "            leftMin,leftMax = leftMin + 1, leftMax + 1\n",
    "        elif c == ')':\n",
    "            leftMin,leftMax = leftMin - 1, leftMax - 1\n",
    "        else:\n",
    "            leftMin,leftMax = leftMin -1 ,leftMax + 1\n",
    "        if leftMax < 0:\n",
    "            return False\n",
    "        if leftMin < 0:\n",
    "            leftMin = 0\n",
    "    return leftMin == 0\n",
    "\n",
    "s = \"(*)(\"\n",
    "checkValidString(s)"
   ]
  },
  {
   "cell_type": "code",
   "execution_count": 36,
   "metadata": {},
   "outputs": [
    {
     "name": "stdout",
     "output_type": "stream",
     "text": [
      "[(2, 2, 2, 2, 2, 2, 2, 2), (2, 2, 2, 2, 2, 6), (2, 2, 2, 5, 5), (2, 2, 5, 7), (2, 2, 6, 6), (2, 7, 7), (5, 5, 6)]\n"
     ]
    }
   ],
   "source": [
    "def combinationSum(arr,target):\n",
    "    def backtrack(start, target, current):\n",
    "        if target == 0:\n",
    "            res.append(tuple(current)) #Add the combbination\n",
    "            return\n",
    "        for i in range(start,len(arr)):\n",
    "            if arr[i] > target:\n",
    "                break\n",
    "            current.append(arr[i])\n",
    "            backtrack(i, target - arr[i], current) \n",
    "            current.pop()\n",
    "    arr = sorted(set(arr))\n",
    "    res = []\n",
    "    backtrack(0, target, [])\n",
    "    return sorted(res)\n",
    "\n",
    "# Example Usage\n",
    "N = 4\n",
    "arr = [7, 2, 6, 5]\n",
    "target = 16\n",
    "print(combinationSum(arr, target))\n"
   ]
  },
  {
   "cell_type": "code",
   "execution_count": 38,
   "metadata": {},
   "outputs": [
    {
     "name": "stdout",
     "output_type": "stream",
     "text": [
      "[(2, 2, 2, 2, 2, 2, 2, 2), (2, 2, 2, 2, 2, 6), (2, 2, 2, 5, 5), (2, 2, 5, 7), (2, 2, 6, 6), (2, 7, 7), (5, 5, 6)]\n"
     ]
    }
   ],
   "source": [
    "def combinationSum(arr,target):\n",
    "    def backtrack(start,current,target):\n",
    "        if target == 0:\n",
    "            result.append(tuple(current))\n",
    "            return\n",
    "        \n",
    "        for i in range(start,len(arr)):\n",
    "            if arr[i] > target:\n",
    "                break\n",
    "            current.append(arr[i])\n",
    "            backtrack(i,  current, target - arr[i])\n",
    "            current.pop()\n",
    "    result = []\n",
    "    arr = sorted(set(arr))\n",
    "    backtrack(0,[],target)\n",
    "\n",
    "    return sorted(result)\n",
    "N = 4\n",
    "arr = [7, 2, 6, 5]\n",
    "target = 16\n",
    "print(combinationSum(arr, target))"
   ]
  },
  {
   "cell_type": "code",
   "execution_count": 45,
   "metadata": {},
   "outputs": [
    {
     "data": {
      "text/plain": [
       "[[2, 2, 3], [7]]"
      ]
     },
     "execution_count": 45,
     "metadata": {},
     "output_type": "execute_result"
    }
   ],
   "source": [
    "def combinationSum( candidates, target: int) :\n",
    "        def backtrack(start,current, target):\n",
    "            if target == 0:\n",
    "                res.append(list(current))\n",
    "                return\n",
    "            for i in range(start,len(candidates)):\n",
    "                if candidates[i] > target:\n",
    "                    break\n",
    "                current.append(candidates[i])\n",
    "                backtrack(i,current, target - candidates[i])\n",
    "                current.pop()\n",
    "        res = []\n",
    "        candidates.sort()\n",
    "        backtrack(0,[],target)\n",
    "        return res\n",
    "candidates =[2,3,6,7]\n",
    "target=  7\n",
    "combinationSum(candidates, target)"
   ]
  },
  {
   "cell_type": "code",
   "execution_count": 50,
   "metadata": {},
   "outputs": [
    {
     "name": "stdout",
     "output_type": "stream",
     "text": [
      "0\n"
     ]
    },
    {
     "data": {
      "text/plain": [
       "0"
      ]
     },
     "execution_count": 50,
     "metadata": {},
     "output_type": "execute_result"
    }
   ],
   "source": [
    "def firstUniqChar( s: str) -> int:\n",
    "        freq,ans = {},0\n",
    "        for c in s:\n",
    "            freq[c] = freq.get(c, 0) + 1\n",
    "        print(ans)\n",
    "        for i in range(len(s)):\n",
    "            if freq[s[i]] == 1:\n",
    "                return i\n",
    "        return -1\n",
    "firstUniqChar('leetcode')        "
   ]
  },
  {
   "cell_type": "code",
   "execution_count": 54,
   "metadata": {},
   "outputs": [
    {
     "data": {
      "text/plain": [
       "9"
      ]
     },
     "execution_count": 54,
     "metadata": {},
     "output_type": "execute_result"
    }
   ],
   "source": [
    "from math import floor,ceil\n",
    "\n",
    "def reversePolishNotation(tokens):\n",
    "    stk = []\n",
    "    for t in tokens:\n",
    "        if t in '+*-/':\n",
    "            b,a = stk.pop(),stk.pop()\n",
    "            if  t == '+':\n",
    "                stk.append(b + a)\n",
    "            elif t == '-':\n",
    "                stk.append(a - b)\n",
    "            elif t == '*':\n",
    "                stk.append(a*b)\n",
    "            else:\n",
    "                division = a / b\n",
    "                if division < 0:\n",
    "                    stk.append(ceil(division))\n",
    "                else:\n",
    "                    stk.append(floor(division))\n",
    "        else:\n",
    "            stk.append(int(t))\n",
    "    return stk[0]\n",
    "reversePolishNotation([\"2\",\"1\",\"+\",\"3\",\"*\"])"
   ]
  },
  {
   "cell_type": "code",
   "execution_count": 1,
   "metadata": {},
   "outputs": [
    {
     "name": "stdout",
     "output_type": "stream",
     "text": [
      "[0, 3]\n",
      "[]\n",
      "[0, 9, 12]\n"
     ]
    }
   ],
   "source": [
    "def kmp_search(txt, pat):\n",
    "    def build_lps(pat):\n",
    "        lps = [0] * len(pat)\n",
    "        length = 0\n",
    "        i = 1\n",
    "        while i < len(pat):\n",
    "            if pat[i] == pat[length]:\n",
    "                length += 1\n",
    "                lps[i] = length\n",
    "                i += 1\n",
    "            else:\n",
    "                if length != 0:\n",
    "                    length = lps[length - 1]\n",
    "                else:\n",
    "                    lps[i] = 0\n",
    "                    i += 1\n",
    "        return lps\n",
    "    lps = build_lps(pat)\n",
    "    i,j =0,0\n",
    "    res = []\n",
    "    while i < len(txt):\n",
    "        if txt[i] == pat[j]:\n",
    "            i += 1\n",
    "            j += 1\n",
    "\n",
    "        if j == len(pat):\n",
    "            res.append(i - j)\n",
    "            j = lps[j - 1]\n",
    "        elif i < len(txt) and txt[i] != pat[j]:\n",
    "            if j != 0:\n",
    "                j = lps[j-1]\n",
    "            else:\n",
    "                i += 1\n",
    "    return res\n",
    "\n",
    "# Example usage:\n",
    "txt1, pat1 = \"abcab\", \"ab\"\n",
    "print(kmp_search(txt1, pat1))  # Output: [0, 3]\n",
    "\n",
    "txt2, pat2 = \"abesdu\", \"edu\"\n",
    "print(kmp_search(txt2, pat2))  # Output: []\n",
    "\n",
    "txt3, pat3 = \"aabaacaadaabaaba\", \"aaba\"\n",
    "print(kmp_search(txt3, pat3))  # Output: [0, 9, 12]"
   ]
  },
  {
   "cell_type": "code",
   "execution_count": 6,
   "metadata": {},
   "outputs": [
    {
     "data": {
      "text/plain": [
       "9"
      ]
     },
     "execution_count": 6,
     "metadata": {},
     "output_type": "execute_result"
    }
   ],
   "source": [
    "def findLongestConseqSubseq(nums):\n",
    "    longest = 0\n",
    "    s = set(nums)\n",
    "    \n",
    "    for num in nums:\n",
    "        if num -1 not in s:\n",
    "            length = 1\n",
    "            next_num = num + 1\n",
    "            while next_num in s:\n",
    "                next_num += 1\n",
    "                length += 1\n",
    "            longest = max(longest, length)\n",
    "    return longest\n",
    "\n",
    "# Example usage\n",
    "nums1 = [100, 4, 200, 1, 3, 2]\n",
    "nums2 = [0, 3, 7, 2, 5, 8, 4, 6, 0, 1]\n",
    "findLongestConseqSubseq(nums2)"
   ]
  },
  {
   "cell_type": "code",
   "execution_count": 1,
   "metadata": {},
   "outputs": [
    {
     "data": {
      "text/plain": [
       "-1"
      ]
     },
     "execution_count": 1,
     "metadata": {},
     "output_type": "execute_result"
    }
   ],
   "source": [
    "def isPrefixOfWord( sentence: str, searchWord: str) -> int:\n",
    "        words = sentence.split()\n",
    "\n",
    "        for i,word in enumerate(words):\n",
    "            if word.startswith(searchWord):\n",
    "                return i + 1\n",
    "        return -1\n",
    "isPrefixOfWord(\"hellohello hellohellohello\",\"ell\")"
   ]
  },
  {
   "cell_type": "code",
   "execution_count": 3,
   "metadata": {},
   "outputs": [
    {
     "name": "stdout",
     "output_type": "stream",
     "text": [
      "[3, 4, 4, -1]\n",
      "[8, -1, 1, 3, 6]\n"
     ]
    }
   ],
   "source": [
    "def nextGreaterElement(arr, n):\n",
    "    ans = [-1] * n #initializa all the elements to -1\n",
    "    stack = [] #monotonic stack to store indices\n",
    "\n",
    "    # loop the array twice for circular traversal \n",
    "    for i in range( 2* n):\n",
    "        curr = arr[ i % n]\n",
    "\n",
    "        # while the stack is not empty and curr element is greater \n",
    "        while stack and  arr[stack[-1]] < curr:\n",
    "            index = stack.pop()\n",
    "            ans[index] = curr\n",
    "        \n",
    "\n",
    "        #push the index onto the stack only in the first pass\n",
    "        if i < n:\n",
    "            stack.append(i)\n",
    "    return ans\n",
    "\n",
    "# Example Usage\n",
    "n1, arr1 = 4, [1, 3, 2, 4]\n",
    "n2, arr2 = 5, [6, 8, 0, 1, 3]\n",
    "\n",
    "print(nextGreaterElement(arr1, n1))  # Output: [3, 4, 4, -1]\n",
    "print(nextGreaterElement(arr2, n2))  # Output: [8, -1, 1, 3, 6]"
   ]
  },
  {
   "cell_type": "code",
   "execution_count": 5,
   "metadata": {},
   "outputs": [
    {
     "name": "stdout",
     "output_type": "stream",
     "text": [
      "[3, 4, 4, -1]\n",
      "[8, -1, 1, 3, 6]\n"
     ]
    }
   ],
   "source": [
    "def nextGreaterElement(arr, n):\n",
    "    ans = [-1] * n\n",
    "    stk = []\n",
    "\n",
    "    for i in range(2 * n):\n",
    "        curr = arr[i % n]\n",
    "\n",
    "        while stk and arr[stk[-1]] < curr:\n",
    "            index = stk.pop()\n",
    "            ans[index] = curr\n",
    "        if i < n:\n",
    "            stk.append(i)\n",
    "    return ans\n",
    "\n",
    "# Example Usage\n",
    "n1, arr1 = 4, [1, 3, 2, 4]\n",
    "n2, arr2 = 5, [6, 8, 0, 1, 3]\n",
    "\n",
    "print(nextGreaterElement(arr1, n1))  # Output: [3, 4, 4, -1]\n",
    "print(nextGreaterElement(arr2, n2))  # Output: [8, -1, 1, 3, 6]"
   ]
  },
  {
   "cell_type": "code",
   "execution_count": null,
   "metadata": {},
   "outputs": [
    {
     "name": "stdout",
     "output_type": "stream",
     "text": [
      "2\n",
      "2\n"
     ]
    }
   ],
   "source": [
    "def minCharsToAddForPalindrome(s):\n",
    "    #concat the string with its reverse using a delimeter\n",
    "    rev_s =  s[::-1]\n",
    "    concat = s + '#' + rev_s\n",
    "\n",
    "    # compote the LPS array \n",
    "    n = len(concat)\n",
    "    lps = [0] * n\n",
    "    j = 0 #length of previous longest prefix-suffix\n",
    "\n",
    "    for i in range(1,n):\n",
    "        while j > 0 and concat[i] != concat[j]:\n",
    "            j = lps[j-1]\n",
    "        if concat[i] == concat[j]:\n",
    "            j += 1\n",
    "        lps[i] = j\n",
    "\n",
    "    #min chars t add = total lenght - length of longest palindromic prefix\n",
    "    return len(s) - lps[-1]\n",
    "# Example Usage\n",
    "print(minCharsToAddForPalindrome(\"abc\"))         # Output: 2\n",
    "print(minCharsToAddForPalindrome(\"aacecaaaa\"))   # Output: 2"
   ]
  },
  {
   "cell_type": "code",
   "execution_count": 13,
   "metadata": {},
   "outputs": [
    {
     "name": "stdout",
     "output_type": "stream",
     "text": [
      "(1,)\n",
      "(2,)\n"
     ]
    }
   ],
   "source": [
    "def minCharsToAddForPalindrome(s):\n",
    "    concat = s + '#' + s[::-1]\n",
    "    N = len(concat)\n",
    "    lps = [0] * N\n",
    "    j = 0\n",
    "    countMoves = 0\n",
    "\n",
    "    for i in range(1,N):\n",
    "        while j > 0 and concat[i] != concat[j]:\n",
    "            j = lps[j - 1]\n",
    "            countMoves += 1\n",
    "        if concat[i] == concat[j]:\n",
    "            j += 1\n",
    "            countMoves += 1\n",
    "        lps[i] = j\n",
    "    return len(s) - lps[-1],\n",
    "\n",
    "# Example Usage\n",
    "print(minCharsToAddForPalindrome(\"letelt\"))         # Output: 2\n",
    "print(minCharsToAddForPalindrome(\"aacecaaaa\"))   # Output: 2\n",
    "\n"
   ]
  },
  {
   "cell_type": "code",
   "execution_count": 15,
   "metadata": {},
   "outputs": [
    {
     "name": "stdout",
     "output_type": "stream",
     "text": [
      "Leetcode Helps Me Learn\n",
      "i code in py thon\n",
      " s p a c i n g\n"
     ]
    }
   ],
   "source": [
    "def addSpaces(s, spaces):\n",
    "    res = []\n",
    "    space_ids = 0 # pointer for spaces array\n",
    "    n = len(spaces)\n",
    "\n",
    "    for i,char in enumerate(s):\n",
    "        #If the current index  matches the space position , insert a space\n",
    "        if space_ids < n and i == spaces[space_ids]:\n",
    "            res.append(' ')\n",
    "            space_ids += 1\n",
    "        res.append(char)\n",
    "    return ''.join(res)\n",
    "\n",
    "# Example Usage\n",
    "print(addSpaces(\"LeetcodeHelpsMeLearn\", [8, 13, 15]))  # Output: \"Leetcode Helps Me Learn\"\n",
    "print(addSpaces(\"icodeinpython\", [1, 5, 7, 9]))        # Output: \"i code in py thon\"\n",
    "print(addSpaces(\"spacing\", [0, 1, 2, 3, 4, 5, 6]))     # Output: \" s p a c i n g\"\n"
   ]
  },
  {
   "cell_type": "code",
   "execution_count": 3,
   "metadata": {},
   "outputs": [
    {
     "data": {
      "text/plain": [
       "3"
      ]
     },
     "execution_count": 3,
     "metadata": {},
     "output_type": "execute_result"
    }
   ],
   "source": [
    "def search( nums, target: int) -> int:\n",
    "        left,right = 0,len(nums) - 1\n",
    "\n",
    "        while left <= right:\n",
    "            mid = left + (right - left) // 2\n",
    "\n",
    "            if nums[mid]  == target :\n",
    "                return mid\n",
    "            elif nums[mid] > target:\n",
    "                right = mid - 1\n",
    "            else:\n",
    "                left = mid + 1\n",
    "        return -1\n",
    "nums=[-1,0,2,4,6,8]\n",
    "target=4\n",
    "search(nums,target)"
   ]
  },
  {
   "cell_type": "code",
   "execution_count": 16,
   "metadata": {},
   "outputs": [
    {
     "data": {
      "text/plain": [
       "True"
      ]
     },
     "execution_count": 16,
     "metadata": {},
     "output_type": "execute_result"
    }
   ],
   "source": [
    "# Make String a Subsequence Using Cyclic Increments | Leetcode 2825\n",
    "\n",
    "def canMakeSubsequence(s1,s2):\n",
    "    m,n = len(s1),len(s2)\n",
    "    if n > m:\n",
    "        return False\n",
    "    \n",
    "    first,second = 0,0\n",
    "    while first < m and second < n:\n",
    "        # Compute the next character using cyclic increments \n",
    "        next_char = chr(((ord(s1[first]) - ord('a') + 1) % 26) + ord('a'))\n",
    "        if s2[second] == next_char or s2[second] == s1[first]:\n",
    "            second += 1\n",
    "        first += 1\n",
    "    return second == n\n",
    "str1 = \"abc\"\n",
    "str2 = \"ad\"\n",
    "canMakeSubsequence(str1,str2)"
   ]
  },
  {
   "cell_type": "code",
   "execution_count": 20,
   "metadata": {},
   "outputs": [
    {
     "name": "stdout",
     "output_type": "stream",
     "text": [
      "False\n"
     ]
    }
   ],
   "source": [
    "def canMakeSubsequence(s1,s2):\n",
    "    m,n = len(s1),len(s2)\n",
    "    if n > m:\n",
    "        return False\n",
    "    \n",
    "    first,second = 0,0\n",
    "    while first < m and second < n:\n",
    "        # compute for the next char \n",
    "        next_char = chr(((ord(s1[first]) - ord('a') + 1) % 26) + ord('a'))\n",
    "        if s2[second] == s1[first] or s2[second] == next_char:\n",
    "            second += 1\n",
    "        first += 1\n",
    "    return second == n\n",
    "\n",
    "str1 = \"abc\"\n",
    "str2 = \"ae\"\n",
    "print(canMakeSubsequence(str1, str2)) "
   ]
  },
  {
   "cell_type": "code",
   "execution_count": 22,
   "metadata": {},
   "outputs": [
    {
     "data": {
      "text/plain": [
       "24"
      ]
     },
     "execution_count": 22,
     "metadata": {},
     "output_type": "execute_result"
    }
   ],
   "source": [
    "def findSum(s):\n",
    "    curNum = 0\n",
    "    total = 0\n",
    "\n",
    "    for char in s:\n",
    "        if char.isdigit():\n",
    "            curNum = curNum * 10 + int(char)\n",
    "        else:\n",
    "            total += curNum\n",
    "            curNum = 0\n",
    "    total += curNum\n",
    "    return total\n",
    "\n",
    "findSum('1ba23')"
   ]
  },
  {
   "cell_type": "code",
   "execution_count": 27,
   "metadata": {},
   "outputs": [
    {
     "data": {
      "text/plain": [
       "'e'"
      ]
     },
     "execution_count": 27,
     "metadata": {},
     "output_type": "execute_result"
    }
   ],
   "source": [
    "def getMaxOccurringChar( s):\n",
    "        #code here\\\n",
    "        seen = {}\n",
    "        for char in s:\n",
    "            seen[char ] = seen.get(char,0) + 1\n",
    "        seen_sort = sorted(seen.items(),key= lambda x:(-x[1],x[0]))\n",
    "        \n",
    "        return seen_sort[0][0]\n",
    "\n",
    "getMaxOccurringChar('testsample')"
   ]
  },
  {
   "cell_type": "code",
   "execution_count": 31,
   "metadata": {},
   "outputs": [
    {
     "name": "stdout",
     "output_type": "stream",
     "text": [
      "[['eat', 'tea', 'ate'], ['tan', 'nat'], ['bat']]\n",
      "[['']]\n",
      "[['a']]\n"
     ]
    }
   ],
   "source": [
    "from collections import defaultdict\n",
    "\n",
    "def groupAnagrams(sts):\n",
    "    group = defaultdict(list)\n",
    "\n",
    "    for s in sts:\n",
    "        sorted_sts = ''.join(sorted(s))\n",
    "\n",
    "        group[sorted_sts].append(s)\n",
    "    return list(group.values())\n",
    "\n",
    "# Examples\n",
    "print(groupAnagrams([\"eat\", \"tea\", \"tan\", \"ate\", \"nat\", \"bat\"]))\n",
    "# Output: [[\"bat\"], [\"tan\", \"nat\"], [\"eat\", \"tea\", \"ate\"]]\n",
    "\n",
    "print(groupAnagrams([\"\"]))\n",
    "# Output: [[\"\"]]\n",
    "\n",
    "print(groupAnagrams([\"a\"]))\n",
    "# Output: [[\"a\"]]"
   ]
  },
  {
   "cell_type": "code",
   "execution_count": 35,
   "metadata": {},
   "outputs": [
    {
     "name": "stdout",
     "output_type": "stream",
     "text": [
      "[['eat', 'tea', 'ate'], ['tan', 'nat'], ['bat']]\n",
      "[['']]\n",
      "[['a']]\n"
     ]
    }
   ],
   "source": [
    "from collections import defaultdict\n",
    "\n",
    "def groupAnagrams(strs):\n",
    "    groups = defaultdict(list)\n",
    "\n",
    "    for s in strs:\n",
    "        char_count = [0] * 26\n",
    "\n",
    "        for char in s:\n",
    "            char_count[ord(char) - ord('a')] += 1\n",
    "        key = tuple(char_count)\n",
    "\n",
    "        groups[key].append(s)\n",
    "    return list(groups.values())\n",
    "\n",
    "# Examples\n",
    "print(groupAnagrams([\"eat\", \"tea\", \"tan\", \"ate\", \"nat\", \"bat\"]))\n",
    "# Output: [[\"bat\"], [\"tan\", \"nat\"], [\"eat\", \"tea\", \"ate\"]]\n",
    "\n",
    "print(groupAnagrams([\"\"]))\n",
    "# Output: [[\"\"]]\n",
    "\n",
    "print(groupAnagrams([\"a\"]))\n",
    "# Output: [[\"a\"]]"
   ]
  }
 ],
 "metadata": {
  "kernelspec": {
   "display_name": "base",
   "language": "python",
   "name": "python3"
  },
  "language_info": {
   "codemirror_mode": {
    "name": "ipython",
    "version": 3
   },
   "file_extension": ".py",
   "mimetype": "text/x-python",
   "name": "python",
   "nbconvert_exporter": "python",
   "pygments_lexer": "ipython3",
   "version": "3.12.7"
  }
 },
 "nbformat": 4,
 "nbformat_minor": 2
}
