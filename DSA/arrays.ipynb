{
 "cells": [
  {
   "cell_type": "code",
   "execution_count": null,
   "metadata": {},
   "outputs": [],
   "source": []
  },
  {
   "cell_type": "code",
   "execution_count": 10,
   "metadata": {},
   "outputs": [
    {
     "name": "stdout",
     "output_type": "stream",
     "text": [
      "[2200, 2350, 2600, 1930, 2190, 1980]\n"
     ]
    }
   ],
   "source": [
    "expenses = [2200, 2350, 2600, 2130, 2190]\n",
    "total_expense = 0\n",
    "\n",
    "# print(expenses[1] - expenses[0])\n",
    "\n",
    "for i in range(0,3):\n",
    "    total_expense += expenses[i]\n",
    "# print(total_expense)\n",
    "\n",
    "for i in range(len(expenses)):\n",
    "    if expenses[i] == 2000:\n",
    "        print(True)\n",
    "\n",
    "# print(False)\n",
    "# print(2000 in expenses)\n",
    "expenses.append(1980)\n",
    "# print(expenses)\n",
    "\n",
    "expenses[3] = expenses[3] - 200\n",
    "print(expenses)\n"
   ]
  },
  {
   "cell_type": "code",
   "execution_count": 24,
   "metadata": {},
   "outputs": [
    {
     "name": "stdout",
     "output_type": "stream",
     "text": [
      "5\n",
      "['spider man', 'thor', 'hulk', 'iron man', 'captain america', 'black panther']\n",
      "['spider man', 'thor', 'hulk', 'black panther', 'iron man', 'captain america']\n",
      "['spider man', 'doctor strange', 'black panther', 'iron man', 'captain america']\n",
      "['black panther', 'captain america', 'doctor strange', 'iron man', 'spider man']\n"
     ]
    }
   ],
   "source": [
    "heros=['spider man','thor','hulk','iron man','captain america']\n",
    "\n",
    "print(len(heros))\n",
    "heros.append('black panther')\n",
    "print(heros)\n",
    "heros.pop()\n",
    "heros.insert(3,'black panther')\n",
    "print(heros)\n",
    "heros[1:3] = ['doctor strange']\n",
    "print(heros)\n",
    "heros.sort()\n",
    "print(heros)\n",
    "\n",
    "\n"
   ]
  },
  {
   "cell_type": "code",
   "execution_count": 8,
   "metadata": {},
   "outputs": [
    {
     "name": "stdout",
     "output_type": "stream",
     "text": [
      "5 6 2 3 4 1 "
     ]
    }
   ],
   "source": [
    "# Python Program to reverse an array using temporary array\n",
    "\n",
    "# func to reverse array\n",
    "def reverseArray(arr):\n",
    "    n = len(arr)\n",
    "    #init the temp array to hold reversed arr\n",
    "    temp = [0] * n\n",
    "    # now Add the elements in the temp array in reverse order\n",
    "    for i in range(n):\n",
    "        temp[i] = arr[n-i-1]\n",
    "    #then copy the reversed elements back to the array\n",
    "    for i in range(n):\n",
    "        arr[i] = temp[i]\n",
    "        \n",
    "if __name__ == \"__main__\":\n",
    "    arr = [1, 4, 3, 2, 6, 5]\n",
    "\n",
    "    reverseArray(arr)\n",
    "  \n",
    "    for i in range(len(arr)):\n",
    "        print(arr[i], end=\" \")\n"
   ]
  },
  {
   "cell_type": "code",
   "execution_count": 12,
   "metadata": {},
   "outputs": [
    {
     "name": "stdout",
     "output_type": "stream",
     "text": [
      "1 4 5 7 9 8 2 3 5 4 3 "
     ]
    }
   ],
   "source": [
    "#reverse array by using a temporary array\n",
    "def reverseArray(arr):\n",
    "    n = len(arr)\n",
    "\n",
    "    #create the temp array \n",
    "    temp = [0] *n\n",
    "\n",
    "    # copy the arr elements to the temporary array in reverse order \n",
    "    for i in range(n):\n",
    "        temp[i] = arr[n-i-1]\n",
    "    \n",
    "    #copy the temp array to the original arr\n",
    "    for i in range(n):\n",
    "        arr[i] = temp[i]\n",
    "    return arr\n",
    "\n",
    "if __name__ == \"__main__\":   \n",
    "    arr = [3,4,5,3,2,8,9,7,5,4,1]\n",
    "    reverseArray(arr)\n",
    "\n",
    "    for i in range(len(arr)):\n",
    "        print(arr[i],end= \" \")\n",
    "\n",
    "#TIME COMPLEXITY: O(n) since copying items in a new array is linear\n",
    "#SPACE COMPLEXITY: O(n) since we use an extra array to reverse the array\n",
    "\n"
   ]
  },
  {
   "cell_type": "code",
   "execution_count": 14,
   "metadata": {},
   "outputs": [
    {
     "name": "stdout",
     "output_type": "stream",
     "text": [
      "8 7 6 5 4 3 2 1 "
     ]
    }
   ],
   "source": [
    "#reversing an array using two pointers\n",
    "def reverseArray(arr):\n",
    "    #initialize left to the begining and right to the end\n",
    "    left = 0\n",
    "    right = len(arr) - 1\n",
    "\n",
    "    #iterate till left is less than right\n",
    "    while left < right :\n",
    "        #swap the elements at left and right position\n",
    "        arr[left],arr[right] = arr[right], arr[left]\n",
    "\n",
    "        #Increment the left pointer\n",
    "        left += 1\n",
    "         #decrement the right pointer\n",
    "        right -= 1\n",
    "\n",
    "\n",
    "\n",
    "\n",
    "if __name__ == \"__main__\":   \n",
    "    arr = [1,2,3,4,5,6,7,8]\n",
    "    reverseArray(arr)\n",
    "\n",
    "    for i in range(len(arr)):\n",
    "        print(arr[i],end= \" \")"
   ]
  },
  {
   "cell_type": "code",
   "execution_count": 16,
   "metadata": {},
   "outputs": [
    {
     "name": "stdout",
     "output_type": "stream",
     "text": [
      "10 9 8 7 6 5 4 3 2 1 "
     ]
    }
   ],
   "source": [
    "def reverseArray(arr):\n",
    "    left = 0\n",
    "    right = len(arr) - 1\n",
    "\n",
    "    while left < right:\n",
    "        arr[left],arr[right] = arr[right],arr[left]\n",
    "\n",
    "        left += 1\n",
    "        right -= 1\n",
    "\n",
    "\n",
    "\n",
    "\n",
    "if __name__ == \"__main__\":   \n",
    "    arr = [1,2,3,4,5,6,7,8,9,10]\n",
    "    reverseArray(arr)\n",
    "\n",
    "    for i in range(len(arr)):\n",
    "        print(arr[i],end= \" \")"
   ]
  },
  {
   "cell_type": "code",
   "execution_count": 17,
   "metadata": {},
   "outputs": [
    {
     "name": "stdout",
     "output_type": "stream",
     "text": [
      "10 9 8 7 6 5 4 3 2 1 "
     ]
    }
   ],
   "source": [
    "#reversing an array by swapping elements\n",
    "def reverseArray(arr):\n",
    "    n = len(arr)\n",
    "\n",
    "    for i in range(len(arr)//2):\n",
    "        temp = arr[i]\n",
    "        arr[i] = arr[n-i-1]\n",
    "        arr[n-i-1] = temp\n",
    "\n",
    "\n",
    "\n",
    "\n",
    "if __name__ == \"__main__\":   \n",
    "    arr = [1,2,3,4,5,6,7,8,9,10]\n",
    "    reverseArray(arr)\n",
    "\n",
    "    for i in range(len(arr)):\n",
    "        print(arr[i],end= \" \")"
   ]
  },
  {
   "cell_type": "code",
   "execution_count": 20,
   "metadata": {},
   "outputs": [
    {
     "name": "stdout",
     "output_type": "stream",
     "text": [
      "10 9 8 7 6 5 4 3 2 1 "
     ]
    }
   ],
   "source": [
    "#reversing an array using recursion\n",
    "def reverseArray(arr,l,r):\n",
    "    \n",
    "\n",
    "    if l >= r :\n",
    "        return\n",
    "        \n",
    "    arr[l],arr[r] = arr[r],arr[l]\n",
    "    reverseArray(arr,l+1, r-1)\n",
    "\n",
    "\n",
    "if __name__ == \"__main__\":   \n",
    "    arr = [1,2,3,4,5,6,7,8,9,10]\n",
    "    l = 0\n",
    "    r = len(arr) -1 \n",
    "    reverseArray(arr,l,r)\n",
    "\n",
    "    for i in range(len(arr)):\n",
    "        print(arr[i],end= \" \")"
   ]
  },
  {
   "cell_type": "markdown",
   "metadata": {},
   "source": [
    "#second largest element in the array\n",
    "Time Complexity: O(n*logn), as sorting the array takes O(n*logn) time and traversing the array can take O(n) time in the worst case, so total time complexity = (n*logn + n) = O(n*logn).\n",
    "Auxiliary space: O(1), as no extra space is required\n"
   ]
  },
  {
   "cell_type": "code",
   "execution_count": 26,
   "metadata": {},
   "outputs": [
    {
     "name": "stdout",
     "output_type": "stream",
     "text": [
      "35\n"
     ]
    }
   ],
   "source": [
    "\n",
    "def secondLargest(arr):\n",
    "    arr.sort()\n",
    "    n = len(arr)\n",
    "\n",
    "    for i in range(n-2,-1,-1):\n",
    "        if arr[i] != arr[n-1]:\n",
    "            return arr[i]\n",
    "    return -1\n",
    "\n",
    "    \n",
    "if __name__ == \"__main__\":\n",
    "    arr = [12, 35, 211, 10, 34, 1]\n",
    "    print(secondLargest(arr))"
   ]
  },
  {
   "cell_type": "code",
   "execution_count": 28,
   "metadata": {},
   "outputs": [
    {
     "name": "stdout",
     "output_type": "stream",
     "text": [
      "211\n"
     ]
    }
   ],
   "source": [
    "#two pass search to find the second largest element in an  array\n",
    "def secondLargest(arr):\n",
    "    n = len(arr)\n",
    "\n",
    "    largest = -1\n",
    "    secondLargest = -1\n",
    "    #find the largest element\n",
    "    for i in range(n):\n",
    "        if arr[i] > largest:\n",
    "            largest = arr[i]\n",
    "    \n",
    "    #find the second largest by looping through the array and \n",
    "    #looking for the largest element that does not equal the largest\n",
    "    for i in range(n):\n",
    "        if arr[i] > secondLargest and arr[i] != largest:\n",
    "            secondLargest = arr[i]\n",
    "    \n",
    "    return secondLargest\n",
    "\n",
    "if __name__ == \"__main__\":\n",
    "    arr = [12, 305, 211, 10, 34, 1]\n",
    "    print(secondLargest(arr))"
   ]
  },
  {
   "cell_type": "code",
   "execution_count": 30,
   "metadata": {},
   "outputs": [
    {
     "name": "stdout",
     "output_type": "stream",
     "text": [
      "305\n"
     ]
    }
   ],
   "source": [
    "#One pass search to find the second largest element in an array\n",
    "def secondLargest(arr):\n",
    "    n= len(arr)\n",
    "\n",
    "    largest = -1\n",
    "    secondLargest = -1\n",
    "\n",
    "    for i in range(n):\n",
    "        #if arr[i] > largest , largest = arr[i] and second = the current largest\n",
    "        if arr[i] > largest:\n",
    "        \n",
    "            secondLargest = largest\n",
    "            largest = arr[i]\n",
    "        elif arr[i] < largest and arr[i] > secondLargest:\n",
    "            secondLargest = arr[i]\n",
    "\n",
    "    return secondLargest\n",
    "\n",
    "if __name__ == \"__main__\":\n",
    "    arr = [12, 305, 211, 1000, 34, 1]\n",
    "    print(secondLargest(arr))"
   ]
  },
  {
   "cell_type": "code",
   "execution_count": 3,
   "metadata": {},
   "outputs": [
    {
     "name": "stdout",
     "output_type": "stream",
     "text": [
      "1\n",
      "[]\n"
     ]
    }
   ],
   "source": [
    "def commonElements( arr1, arr2, arr3):\n",
    "        #Code Here\n",
    "        result = []\n",
    "        for i in range(len(arr1)):\n",
    "            print(arr1[i])\n",
    "            if arr1[i] in arr2 and arr1[i] in arr3:\n",
    "                print(arr1[i])\n",
    "                result.append(arr1[i])\n",
    "            return  result\n",
    "        \n",
    "        return -1\n",
    "if __name__ == \"__main__\":\n",
    "    arr1 = [1, 5, 10 ,20, 40, 80]\n",
    "    arr2 = [6 ,7 ,20, 80 ,100]\n",
    "    arr3 = [3, 4 ,15, 20 ,30, 70, 80, 120]\n",
    "    print(commonElements(arr1,arr2,arr3))"
   ]
  },
  {
   "cell_type": "code",
   "execution_count": 2,
   "metadata": {},
   "outputs": [],
   "source": [
    "def commonElements(self, arr1, arr2, arr3):\n",
    "        #Code Here\n",
    "        result = []\n",
    "        i, j, k = 0, 0, 0  # Initialize pointers for arr1, arr2, arr3\n",
    "        \n",
    "        # Traverse all arrays simultaneously\n",
    "        while i < len(arr1) and j < len(arr2) and k < len(arr3):\n",
    "            # If the same element is present in all three arrays\n",
    "            if arr1[i] == arr2[j] == arr3[k]:\n",
    "                # Avoid adding duplicates\n",
    "                if len(result) == 0 or result[-1] != arr1[i]:\n",
    "                    result.append(arr1[i])\n",
    "                i += 1\n",
    "                j += 1\n",
    "                k += 1\n",
    "            # If arr1[i] is smaller, increment i\n",
    "            elif arr1[i] < arr2[j]:\n",
    "                i += 1\n",
    "            # If arr2[j] is smaller, increment j\n",
    "            elif arr2[j] < arr3[k]:\n",
    "                j += 1\n",
    "            # If arr3[k] is smaller, increment k\n",
    "            else:\n",
    "                k += 1\n",
    "        \n",
    "        return result"
   ]
  },
  {
   "cell_type": "code",
   "execution_count": 1,
   "metadata": {},
   "outputs": [
    {
     "name": "stdout",
     "output_type": "stream",
     "text": [
      "6\n"
     ]
    }
   ],
   "source": [
    "def potion_strength(formula):\n",
    "    # Write code here \n",
    "    potion = 1\n",
    "\n",
    "\n",
    "    if '!' in formula:\n",
    "        potion //=2\n",
    "    if '*' in formula:\n",
    "        potion *= 3\n",
    "    if '#' in formula:\n",
    "        potion += 5\n",
    "    return potion\n",
    "if __name__ == \"__main__\":\n",
    "    formula = \"##\"\n",
    "    print(potion_strength(formula))"
   ]
  },
  {
   "cell_type": "code",
   "execution_count": 7,
   "metadata": {},
   "outputs": [
    {
     "name": "stdout",
     "output_type": "stream",
     "text": [
      "5\n"
     ]
    }
   ],
   "source": [
    "#Given an array identify the missing element\n",
    "\n",
    "def missing(arr):\n",
    "    \n",
    "    n = len(arr) + 1\n",
    "    expected_sum = n * (n+1) // 2\n",
    "    actual_sum = sum(arr)\n",
    "\n",
    "    print( expected_sum - actual_sum)\n",
    "\n",
    "if __name__ == '__main__':\n",
    "    arr = [1,2,3,4,6]\n",
    "    missing(arr)"
   ]
  },
  {
   "cell_type": "code",
   "execution_count": 10,
   "metadata": {},
   "outputs": [
    {
     "name": "stdout",
     "output_type": "stream",
     "text": [
      "2\n"
     ]
    }
   ],
   "source": [
    "def extra_element(n,a,b):\n",
    "    for i in range(n):\n",
    "        if a[i] not in b:\n",
    "            print(i)\n",
    "if __name__ == '__main__':\n",
    "    n = 4\n",
    "    a = [2,3,1,4]\n",
    "    b = [2,3,4]\n",
    "\n",
    "    extra_element(n,a,b)"
   ]
  },
  {
   "cell_type": "code",
   "execution_count": 11,
   "metadata": {},
   "outputs": [
    {
     "name": "stdout",
     "output_type": "stream",
     "text": [
      "4\n",
      "3\n"
     ]
    }
   ],
   "source": [
    "def findExtraElementIndex(arr1, arr2):\n",
    "    left, right = 0, len(arr2) - 1\n",
    "    \n",
    "    while left <= right:\n",
    "        mid = left + (right - left) // 2\n",
    "        \n",
    "        # Compare corresponding elements in arr1 and arr2\n",
    "        if arr1[mid] == arr2[mid]:\n",
    "            # Extra element is in the right half\n",
    "            left = mid + 1\n",
    "        else:\n",
    "            # Extra element is in the left half\n",
    "            right = mid - 1\n",
    "    \n",
    "    # The left pointer will point to the index of the extra element\n",
    "    return left\n",
    "\n",
    "# Example usage:\n",
    "arr1 = [2, 4, 6, 8, 9, 10, 12]\n",
    "arr2 = [2, 4, 6, 8, 10, 12]\n",
    "print(findExtraElementIndex(arr1, arr2))  # Output: 4\n",
    "\n",
    "arr1 = [3, 5, 7, 8, 11, 13]\n",
    "arr2 = [3, 5, 7, 11, 13]\n",
    "print(findExtraElementIndex(arr1, arr2))  # Output: 3\n"
   ]
  },
  {
   "cell_type": "code",
   "execution_count": 1,
   "metadata": {},
   "outputs": [
    {
     "name": "stdout",
     "output_type": "stream",
     "text": [
      "3\n"
     ]
    }
   ],
   "source": [
    "def extra_element(n,a , b):\n",
    "    left,right = 0, n-2\n",
    "\n",
    "    while left <= right:\n",
    "        mid = left + (right-left)//2\n",
    "\n",
    "        if a[mid] == b[mid]:\n",
    "            left = mid + 1\n",
    "        else:\n",
    "            right = mid-1\n",
    "    return left\n",
    "\n",
    "if __name__ == '__main__':\n",
    "    n = 4\n",
    "    a = [2,3,4,7]\n",
    "    b = [2,3,4]\n",
    "\n",
    "    print(extra_element(n,a,b))"
   ]
  },
  {
   "cell_type": "code",
   "execution_count": null,
   "metadata": {},
   "outputs": [
    {
     "ename": "",
     "evalue": "",
     "output_type": "error",
     "traceback": [
      "\u001b[1;31mRunning cells with 'venv (Python 3.12.7)' requires the ipykernel package.\n",
      "\u001b[1;31mRun the following command to install 'ipykernel' into the Python environment. \n",
      "\u001b[1;31mCommand: 'c:/Users/danka/projects/frontend_api/venv/Scripts/python.exe -m pip install ipykernel -U --force-reinstall'"
     ]
    }
   ],
   "source": [
    "#3 Sum – Find All Triplets with Zero Sum\n",
    "\n",
    "#Using three nested loops\n",
    "def find_triplets(arr):\n",
    "    res = []\n",
    "    n = len(arr)\n",
    "\n",
    "    #generating all triplets\n",
    "    for i in range(n-2):\n",
    "        for j in range(i+ 1, n-1):\n",
    "            for k in range(j+1, n):\n",
    "                #if the sum of the triplets equals zero\n",
    "                #then add it to the result\n",
    "                if arr[i] + arr[j] + arr[k] == 0:\n",
    "                    res.append([i,j,k])\n",
    "    return res\n",
    "\n",
    "arr = [0, -1, 2, -3, 1]\n",
    "res = find_triplets(arr)\n",
    "for triplet in res:\n",
    "    print(triplet[0], triplet[1], triplet[2])"
   ]
  },
  {
   "cell_type": "code",
   "execution_count": null,
   "metadata": {},
   "outputs": [
    {
     "name": "stdout",
     "output_type": "stream",
     "text": [
      "0 1 4\n",
      "2 3 4\n"
     ]
    }
   ],
   "source": [
    "#Python program to find all triplets with zero sum using hashing\n",
    "def findTriplets(arr):\n",
    "    #set to handle duplicates\n",
    "    resSet = set()\n",
    "    n = len(arr)\n",
    "    mp = {}\n",
    "\n",
    "    #store sum of all the pairs with their indices\n",
    "    for i in range(n):\n",
    "        for j in range(i+ 1, n):\n",
    "            s = arr[i] + arr[j]\n",
    "            if s not in mp:\n",
    "                mp[s] = []\n",
    "            mp[s].append((i,j))\n",
    "    for i in range"
   ]
  },
  {
   "cell_type": "code",
   "execution_count": null,
   "metadata": {},
   "outputs": [
    {
     "data": {
      "text/plain": [
       "True"
      ]
     },
     "execution_count": 1,
     "metadata": {},
     "output_type": "execute_result"
    }
   ],
   "source": [
    "#valid parenthesis\n",
    "def validPar(arr):\n",
    "    #hashmap to hold the closing par as keys and opening pars as values\n",
    "    hashmap = {')':'(',']':'[','}':'{'}\n",
    "    # initialize a stack \n",
    "    stk = []\n",
    "    #iterate throuhg the array\n",
    "    for c in arr:\n",
    "        # if the opening braket is not in the map addit to the stack \n",
    "        if c not in hashmap:\n",
    "            stk.append(c)\n",
    "        else:\n",
    "            # if the satack is empty return false\n",
    "            if not stk:\n",
    "                return False\n",
    "                # else pop the top of the stack and chek if it does match the closing par \n",
    "            popped = stk.pop()\n",
    "            \n",
    "            if popped != hashmap[c]:\n",
    "                return False\n",
    "    return not stk\n",
    "\n",
    "arr = ['(',')']\n",
    "validPar(arr)"
   ]
  },
  {
   "cell_type": "code",
   "execution_count": 13,
   "metadata": {},
   "outputs": [
    {
     "name": "stdout",
     "output_type": "stream",
     "text": [
      "['i', 'like', 'this', 'program', 'very', 'much']\n"
     ]
    },
    {
     "data": {
      "text/plain": [
       "'i.ekil.siht.margorp.yrev.hcum'"
      ]
     },
     "execution_count": 13,
     "metadata": {},
     "output_type": "execute_result"
    }
   ],
   "source": [
    "# Reverse each word in a given string\n",
    "\n",
    "\n",
    "def reverseWords( s):\n",
    "    # code here\n",
    "    words =  s.split('.')\n",
    "    res = []\n",
    "    print(words)\n",
    "    for word in words :\n",
    "        res.append(word[::-1])\n",
    "    return '.'.join(res)\n",
    "\n",
    "\n",
    "s = \"i.like.this.program.very.much\"\n",
    "\n",
    "reverseWords(s)"
   ]
  },
  {
   "cell_type": "code",
   "execution_count": 16,
   "metadata": {},
   "outputs": [
    {
     "data": {
      "text/plain": [
       "2523"
      ]
     },
     "execution_count": 16,
     "metadata": {},
     "output_type": "execute_result"
    }
   ],
   "source": [
    "\n",
    "\n",
    "def findSum( X, Y):\n",
    "    numy = int(Y)\n",
    "    numx= int(X)\n",
    "\n",
    "    return numy + numx\n",
    "X = \"2500\"\n",
    "Y = \"23\"\n",
    "findSum(X,Y)\n",
    "\n"
   ]
  },
  {
   "cell_type": "code",
   "execution_count": 1,
   "metadata": {},
   "outputs": [
    {
     "data": {
      "text/plain": [
       "2"
      ]
     },
     "execution_count": 1,
     "metadata": {},
     "output_type": "execute_result"
    }
   ],
   "source": [
    "#Fibonacci\n",
    "def fib(n):\n",
    "    if n == 0: return 0\n",
    "    if n == 1 : return 1\n",
    "    return fib(n-1) + fib(n-2)\n",
    "\n",
    "fib(3)"
   ]
  },
  {
   "cell_type": "code",
   "execution_count": 6,
   "metadata": {},
   "outputs": [
    {
     "data": {
      "text/plain": [
       "8"
      ]
     },
     "execution_count": 6,
     "metadata": {},
     "output_type": "execute_result"
    }
   ],
   "source": [
    "# You are climbing a staircase. It takes n steps to reach the top.\n",
    "\n",
    "# Each time you can either climb 1 or 2 steps. In how many distinct ways can you climb to the top?\n",
    "\n",
    "# Example 1:\n",
    "\n",
    "# Input: n = 2\n",
    "# Output: 2\n",
    "# Explanation: There are two ways to climb to the top.\n",
    "# 1. 1 step + 1 step\n",
    "# 2. 2 steps\n",
    "# Example 2:\n",
    "\n",
    "# Input: n = 3\n",
    "# Output: 3\n",
    "# Explanation: There are three ways to climb to the top.\n",
    "# 1. 1 step + 1 step + 1 step\n",
    "# 2. 1 step + 2 steps\n",
    "# 3. 2 steps + 1 step\n",
    "\n",
    "def climbing(n):\n",
    "    if n == 1 : return 1\n",
    "    if n== 2 : return 2\n",
    "    first = 1\n",
    "    second = 2\n",
    "\n",
    "    for i in range(3,n+ 1):\n",
    "        current = first + second\n",
    "        first = second\n",
    "        second  = current\n",
    "    return second\n",
    "\n",
    "climbing(5)"
   ]
  },
  {
   "cell_type": "code",
   "execution_count": 15,
   "metadata": {},
   "outputs": [
    {
     "data": {
      "text/plain": [
       "8"
      ]
     },
     "execution_count": 15,
     "metadata": {},
     "output_type": "execute_result"
    }
   ],
   "source": [
    "# You are climbing a staircase. It takes n steps to reach the top.\n",
    "\n",
    "# Each time you can either climb 1 or 2 steps. In how many distinct ways can you climb to the top?\n",
    "\n",
    "# Example 1:\n",
    "\n",
    "# Input: n = 2\n",
    "# Output: 2\n",
    "# Explanation: There are two ways to climb to the top.\n",
    "# 1. 1 step + 1 step\n",
    "# 2. 2 steps\n",
    "# Example 2:\n",
    "\n",
    "# Input: n = 3\n",
    "# Output: 3\n",
    "# Explanation: There are three ways to climb to the top.\n",
    "# 1. 1 step + 1 step + 1 step\n",
    "# 2. 1 step + 2 steps\n",
    "# 3. 2 steps + 1 step\n",
    "\n",
    "def climbing_stairs(n):\n",
    "    if n <= 0:\n",
    "        return 0\n",
    "    if n == 1: \n",
    "        return 1\n",
    "    if n == 2 : return 2\n",
    "    return climbing_stairs(n-2) + climbing_stairs(n-1)\n",
    "\n",
    "climbing_stairs(5)\n",
    "\n"
   ]
  },
  {
   "cell_type": "code",
   "execution_count": 19,
   "metadata": {},
   "outputs": [
    {
     "data": {
      "text/plain": [
       "6"
      ]
     },
     "execution_count": 19,
     "metadata": {},
     "output_type": "execute_result"
    }
   ],
   "source": [
    "#min cost climbing stairs\n",
    "def min_cost(cost):\n",
    "    n = len(cost)\n",
    "    def minn(x):\n",
    "        if x < 2:\n",
    "            return 0\n",
    "        return min(cost[x-2]+ minn(x-2),cost[x-1]+ minn(x-1))\n",
    "    return minn(n)\n",
    "\n",
    "cost = [1,100,1,1,1,100,1,1,100,1]\n",
    "min_cost(cost)"
   ]
  },
  {
   "cell_type": "code",
   "execution_count": 23,
   "metadata": {},
   "outputs": [
    {
     "data": {
      "text/plain": [
       "6"
      ]
     },
     "execution_count": 23,
     "metadata": {},
     "output_type": "execute_result"
    }
   ],
   "source": [
    "# min cost using recursion with dynamic programming \n",
    "def min_cost_climbing(cost):\n",
    "    n = len(cost)\n",
    "    #dp array to store min cost for reaching each step\n",
    "    dp = [0] * (n+1)\n",
    "\n",
    "    for i in range(2, n+ 1):\n",
    "        dp[i] = min(dp[i-1]+cost[i-1], dp[i-2]+cost[i-2])\n",
    "    return dp[n]\n",
    "cost = [1,100,1,1,1,100,1,1,100,1]\n",
    "min_cost_climbing(cost)\n"
   ]
  },
  {
   "cell_type": "code",
   "execution_count": 27,
   "metadata": {},
   "outputs": [
    {
     "name": "stdout",
     "output_type": "stream",
     "text": [
      "2<->3<->4<->5<->6<->None\n",
      "[]\n",
      "2<->3<->4<->5<->6<->34<->None\n"
     ]
    }
   ],
   "source": [
    "#Reversing a doubly linked list\n",
    "class Node:\n",
    "    def __init__(self,data):\n",
    "        self.data = data\n",
    "        self.next = None\n",
    "        self.prev = None\n",
    "\n",
    "class double_list:\n",
    "    def __init__(self, head=None):\n",
    "        self.head = head\n",
    "\n",
    "    def append(self,data):\n",
    "        new_node = Node(data)\n",
    "        if not self.head:\n",
    "            self.head = new_node\n",
    "            return\n",
    "        cur = self.head\n",
    "        while cur.next:\n",
    "            cur = cur.next\n",
    "        cur.next = new_node\n",
    "        new_node.prev = cur\n",
    "    def reverse(self):\n",
    "        curr = self.head\n",
    "        temp = None\n",
    "\n",
    "        while curr:\n",
    "            temp = curr.prev\n",
    "            curr.prev = curr.next\n",
    "            curr.next = temp\n",
    "            curr = curr.prev\n",
    "\n",
    "        if temp:\n",
    "            self.head = temp.prev\n",
    "\n",
    "    def remove_duplicates(self):\n",
    "        if not self.head:\n",
    "            return\n",
    "        curr = self.head\n",
    "\n",
    "        seen = set()\n",
    "        while curr.next:\n",
    "            if curr.data not in seen:\n",
    "                seen.add(curr.data)\n",
    "            else:\n",
    "                if curr.prev:\n",
    "                    curr.prev.next = curr.next\n",
    "                if curr.next:\n",
    "                    curr.next.prev = curr.prev\n",
    "                if curr == self.head:\n",
    "                    self.head = curr.next\n",
    "            curr = curr.next\n",
    "    \n",
    "    def pairs_with_sum(self,sum_val):\n",
    "        p = self.head\n",
    "        q = None\n",
    "        pairs = []\n",
    "\n",
    "        while p:\n",
    "            q = p.next\n",
    "            while q:\n",
    "                if (p.data + q.data) == sum_val:\n",
    "                    pairs.append(f'({p.data}, {q.data})')\n",
    "                q = q.next\n",
    "            p = p.next\n",
    "        return pairs\n",
    "        \n",
    "    \n",
    "    def print_dll(self):\n",
    "        cur = self.head\n",
    "        while cur:\n",
    "            print(f'{cur.data}',end='<->')\n",
    "            cur = cur.next\n",
    "        print('None')\n",
    "\n",
    "dll = double_list()\n",
    "dll.append(2)\n",
    "dll.append(3)\n",
    "dll.append(4)\n",
    "dll.append(5)\n",
    "dll.append(6)\n",
    "dll.print_dll()\n",
    "dll.append(34)\n",
    "print(dll.pairs_with_sum(70))\n",
    "dll.remove_duplicates()\n",
    "# dll.reverse()\n",
    "dll.print_dll()\n",
    "\n"
   ]
  },
  {
   "cell_type": "code",
   "execution_count": null,
   "metadata": {},
   "outputs": [
    {
     "name": "stdout",
     "output_type": "stream",
     "text": [
      "2\n",
      "3\n",
      "-1\n"
     ]
    }
   ],
   "source": [
    "\n",
    "import math\n",
    "\n",
    "def minRepeats(s1,s2):\n",
    "    min_repeat = math.ceil(len(s2)/len(s1))\n",
    "\n",
    "    repeateds1 = s1 * min_repeat\n",
    "\n",
    "    if s2 in repeateds1:\n",
    "        return min_repeat\n",
    "    repeateds1 += s1\n",
    "\n",
    "    if s2 in repeateds1:\n",
    "        return min_repeat + 1\n",
    "    return -1\n",
    "print(minRepeats(\"ww\", \"www\"))        # Output: 2\n",
    "print(minRepeats(\"abcd\", \"cdabcdab\")) # Output: 3\n",
    "print(minRepeats(\"ab\", \"cab\")) "
   ]
  },
  {
   "cell_type": "code",
   "execution_count": 13,
   "metadata": {},
   "outputs": [
    {
     "name": "stdout",
     "output_type": "stream",
     "text": [
      "2\n",
      "3\n",
      "-1\n"
     ]
    }
   ],
   "source": [
    "def minRepeats(s1,s2):\n",
    "    original_s1 = s1\n",
    "    count = 1\n",
    "\n",
    "    while len(s2) > len(s1):\n",
    "        s1 += original_s1\n",
    "        count += 1\n",
    "    if s2 in s1:\n",
    "        return count\n",
    "    s1 += original_s1\n",
    "    count += 1\n",
    "    if s2 in  s1 : return count\n",
    "\n",
    "    return -1\n",
    "\n",
    "print(minRepeats(\"ww\", \"www\"))        # Output: 2\n",
    "print(minRepeats(\"abcd\", \"cdabcdab\")) # Output: 3\n",
    "print(minRepeats(\"ab\", \"cab\")) "
   ]
  },
  {
   "cell_type": "code",
   "execution_count": 16,
   "metadata": {},
   "outputs": [
    {
     "data": {
      "text/plain": [
       "[2, 4, 3, 4, 9, 0, 0, 0]"
      ]
     },
     "execution_count": 16,
     "metadata": {},
     "output_type": "execute_result"
    }
   ],
   "source": [
    "def moveZeros(nums):\n",
    "    last_non_zero = 0\n",
    "    for i in range(len(nums)):\n",
    "        if nums[i] != 0:\n",
    "            nums[last_non_zero],nums[i] = nums[i],nums[last_non_zero]\n",
    "            last_non_zero += 1\n",
    "    return nums\n",
    "moveZeros([0,2,0,4,3,0,4,9])"
   ]
  },
  {
   "cell_type": "code",
   "execution_count": 2,
   "metadata": {},
   "outputs": [],
   "source": [
    "def intersection(head1,head2):\n",
    "    l1,l2 = head1,head2\n",
    "    while l1 != l2:\n",
    "        l1 = l1.next if l1 else head2\n",
    "        l2 = l2.next if l2 else head1\n",
    "    return l1\n",
    "    "
   ]
  },
  {
   "cell_type": "code",
   "execution_count": 1,
   "metadata": {},
   "outputs": [
    {
     "name": "stdout",
     "output_type": "stream",
     "text": [
      "[2, 3, 5, 6, 8, 9, 10]\n"
     ]
    }
   ],
   "source": [
    "#Nearly sorted array\n",
    "def nearlySorted(arr,k):\n",
    "    #Initialize a sorted array to fuction as a min_heap\n",
    "    sorted_window = sorted(arr[:k+1])\n",
    "    #index to write the sorted elements back to the array\n",
    "    j = 0\n",
    "\n",
    "    #process each element beyond the initial k+ 1\n",
    "    for i in range(k+ 1,len(arr)):\n",
    "        arr[j] = sorted_window.pop(0) #remove the smallest element from the min_heap\n",
    "        j += 1\n",
    "\n",
    "        #insert the new element in sorted order\n",
    "        new_elem = arr[i]\n",
    "        insert_index = 0\n",
    "        while insert_index < len(sorted_window) and sorted_window[insert_index] < new_elem:\n",
    "            insert_index += 1\n",
    "        sorted_window.insert(insert_index, new_elem)\n",
    "\n",
    "    # place the remaining elements back in the arr ?\n",
    "    while sorted_window:\n",
    "        arr[j] = sorted_window.pop(0)\n",
    "        j += 1\n",
    "arr = [6, 5, 3, 2, 8, 10, 9]\n",
    "k = 3\n",
    "nearlySorted(arr, k)\n",
    "print(arr)\n",
    "\n"
   ]
  },
  {
   "cell_type": "code",
   "execution_count": 4,
   "metadata": {},
   "outputs": [
    {
     "name": "stdout",
     "output_type": "stream",
     "text": [
      "[2, 3, 5, 6, 8, 9, 10]\n"
     ]
    }
   ],
   "source": [
    "def nearlySorted(arr,k):\n",
    "    sorted_window = sorted(arr[:k+1])\n",
    "\n",
    "    j= 0\n",
    "    for i in range(k+1, len(arr)):\n",
    "        arr[j] = sorted_window.pop(0)\n",
    "        j+= 1\n",
    "\n",
    "        insert_index = 0\n",
    "        new_elem = arr[i]\n",
    "        while insert_index < len(sorted_window) and sorted_window[insert_index] < new_elem:\n",
    "            insert_index += 1\n",
    "        sorted_window.insert(insert_index,new_elem)\n",
    "\n",
    "    while sorted_window:\n",
    "        arr[j] = sorted_window.pop(0)\n",
    "        j +=1 \n",
    "    \n",
    "\n",
    "arr = [6, 5, 3, 2, 8, 10, 9]\n",
    "k = 3\n",
    "nearlySorted(arr, k)\n",
    "print(arr)\n"
   ]
  },
  {
   "cell_type": "code",
   "execution_count": 29,
   "metadata": {},
   "outputs": [
    {
     "data": {
      "text/plain": [
       "(230, 42)"
      ]
     },
     "execution_count": 29,
     "metadata": {},
     "output_type": "execute_result"
    }
   ],
   "source": [
    "def second_largest(arr):\n",
    "    secondLargest = 0\n",
    "    largest = 0\n",
    "    for num in arr:\n",
    "        if num > largest:\n",
    "            secondLargest = largest\n",
    "            largest = num\n",
    "        if num > secondLargest and num < largest:\n",
    "            secondLargest = num\n",
    "            \n",
    "    return largest,secondLargest\n",
    "\n",
    "second_largest([42,3,2,230,5,6,5])\n"
   ]
  },
  {
   "cell_type": "code",
   "execution_count": 35,
   "metadata": {},
   "outputs": [
    {
     "data": {
      "text/plain": [
       "[4, 5, 1, 2, 3]"
      ]
     },
     "execution_count": 35,
     "metadata": {},
     "output_type": "execute_result"
    }
   ],
   "source": [
    "def rotateArr(arr,k):\n",
    "    k = k % len(arr)\n",
    "\n",
    "    l,r = 0,len(arr) - 1\n",
    "    while l < r :\n",
    "        arr[l],arr[r] = arr[r],arr[l]\n",
    "        l,r = l + 1, r - 1\n",
    "    \n",
    "    l,r = 0,k-1\n",
    "    while l < r :\n",
    "        arr[l],arr[r] = arr[r],arr[l]\n",
    "        l,r = l + 1, r - 1\n",
    "    l,r = k,len(arr) - 1\n",
    "    while l < r :\n",
    "        arr[l],arr[r] = arr[r],arr[l]\n",
    "        l,r = l + 1, r - 1\n",
    "\n",
    "\n",
    "    return arr\n",
    "rotateArr([1,2,3,4,5], 2)"
   ]
  },
  {
   "cell_type": "code",
   "execution_count": 37,
   "metadata": {},
   "outputs": [
    {
     "data": {
      "text/plain": [
       "[3, 4, 5, 1, 2]"
      ]
     },
     "execution_count": 37,
     "metadata": {},
     "output_type": "execute_result"
    }
   ],
   "source": [
    "def rotateArr(arr,k):\n",
    "    k %= len(arr)\n",
    "\n",
    "    def reverse(start,end):\n",
    "        while start < end:\n",
    "            arr[start] ,arr[end] = arr[end], arr[start]\n",
    "            start,end = start + 1,end - 1\n",
    "    #rotate the first k elements\n",
    "    reverse (0,k-1)\n",
    "    #reverse the rest of the array\n",
    "    reverse(k, len(arr) - 1)\n",
    "\n",
    "    reverse(0,len(arr) -1)\n",
    "    return arr\n",
    "rotateArr([1,2,3,4,5], 2)"
   ]
  },
  {
   "cell_type": "code",
   "execution_count": 41,
   "metadata": {},
   "outputs": [
    {
     "data": {
      "text/plain": [
       "False"
      ]
     },
     "execution_count": 41,
     "metadata": {},
     "output_type": "execute_result"
    }
   ],
   "source": [
    "def increasingTriplet(arr):\n",
    "    # Initialize two variables to track the smallest and second smallest numbers\n",
    "    first = float('inf')\n",
    "    second = float('inf')\n",
    "\n",
    "    #traverse the array\n",
    "    for num in arr:\n",
    "        if num <= first:\n",
    "            first = num #update the smallest number\n",
    "        elif num <= second:\n",
    "            second = num #update the second smallest number\n",
    "        else:\n",
    "            #we encountered  a number bigger than the two forming a triplet\n",
    "            return True\n",
    "    return False\n",
    "\n",
    "arr = [5,4,3,2,1]\n",
    "increasingTriplet(arr)\n",
    "\n"
   ]
  },
  {
   "cell_type": "code",
   "execution_count": 42,
   "metadata": {},
   "outputs": [
    {
     "ename": "SyntaxError",
     "evalue": "incomplete input (1265977103.py, line 11)",
     "output_type": "error",
     "traceback": [
      "\u001b[0;36m  Cell \u001b[0;32mIn[42], line 11\u001b[0;36m\u001b[0m\n\u001b[0;31m    \u001b[0m\n\u001b[0m    ^\u001b[0m\n\u001b[0;31mSyntaxError\u001b[0m\u001b[0;31m:\u001b[0m incomplete input\n"
     ]
    }
   ],
   "source": [
    "def inrTriplets(arr):\n",
    "    n = len(arr)\n",
    "\n",
    "    if n < 3:\n",
    "        return False\n",
    "    #CREATE the left min array\n",
    "    left_min = [-1] * n\n",
    "    min_idx = 0\n",
    "\n",
    "    for i in range(1,n):\n",
    "        "
   ]
  },
  {
   "cell_type": "code",
   "execution_count": 12,
   "metadata": {},
   "outputs": [
    {
     "name": "stdout",
     "output_type": "stream",
     "text": [
      "15\n",
      "12\n",
      "-29\n",
      "10\n"
     ]
    },
    {
     "data": {
      "text/plain": [
       "True"
      ]
     },
     "execution_count": 13,
     "metadata": {},
     "output_type": "execute_result"
    }
   ],
   "source": [
    "def twoSum(arr, target):\n",
    "    # code here\n",
    "    for num in arr:\n",
    "        compliment = target - num\n",
    "        print(compliment)\n",
    "        if compliment in arr:\n",
    "            return True\n",
    "    return False\n",
    "twoSum([1, 4 ,45, 6 ,10 ,8],16)"
   ]
  },
  {
   "cell_type": "code",
   "execution_count": 49,
   "metadata": {},
   "outputs": [
    {
     "data": {
      "text/plain": [
       "True"
      ]
     },
     "execution_count": 49,
     "metadata": {},
     "output_type": "execute_result"
    }
   ],
   "source": [
    "def twoSum(arr,target):\n",
    "\n",
    "    seen = set()\n",
    "    for num in arr:\n",
    "        complement = target - num\n",
    "        if complement in seen:\n",
    "            return True\n",
    "        seen.add(num)\n",
    "    return False\n",
    "\n",
    "twoSum([1, 4 ,45, 6 ,10 ,8],16)\n"
   ]
  },
  {
   "cell_type": "code",
   "execution_count": 53,
   "metadata": {},
   "outputs": [
    {
     "data": {
      "text/plain": [
       "964176192"
      ]
     },
     "execution_count": 53,
     "metadata": {},
     "output_type": "execute_result"
    }
   ],
   "source": [
    "def reverseBits(n):\n",
    "    result = 0\n",
    "    for _ in  range(32):\n",
    "        #extract the last bit of n and add it to the result\n",
    "        result = (result << 1) | (n & 1)\n",
    "        #right shift n to process the next bit\n",
    "        n >>= 1\n",
    "    return result\n",
    "n = 0b00000010100101000001111010011100\n",
    "reverseBits(n)\n",
    "       "
   ]
  },
  {
   "cell_type": "code",
   "execution_count": 57,
   "metadata": {},
   "outputs": [
    {
     "data": {
      "text/plain": [
       "8"
      ]
     },
     "execution_count": 57,
     "metadata": {},
     "output_type": "execute_result"
    }
   ],
   "source": [
    "#Find the max sum subarray in a given array\n",
    "# Given an integer array nums, find the \n",
    "# subarray\n",
    "#  with the largest sum, and return its sum.\n",
    "def max_sum(arr):\n",
    "    max_sum = float('-inf')\n",
    "    cur_sum = 0\n",
    "\n",
    "    for num in arr:\n",
    "        cur_sum += num\n",
    "        max_sum = max(max_sum,cur_sum)\n",
    "\n",
    "        if cur_sum < 0:\n",
    "            cur_sum = 0\n",
    "    return max_sum\n",
    "max_sum([-2,7,-3,4])"
   ]
  },
  {
   "cell_type": "code",
   "execution_count": 64,
   "metadata": {},
   "outputs": [
    {
     "data": {
      "text/plain": [
       "5"
      ]
     },
     "execution_count": 64,
     "metadata": {},
     "output_type": "execute_result"
    }
   ],
   "source": [
    "def buyAndSell(prices):\n",
    "    max_profit = float('-inf')\n",
    "    for i in range(len(prices)):\n",
    "        for j in range(i+ 1, len(prices)):\n",
    "            profit = prices[j] - prices[i]\n",
    "\n",
    "            if profit > 0:\n",
    "                max_profit = max(max_profit,profit)\n",
    "    return max_profit if max_profit != float('-inf') else 0\n",
    "prices = [7,1,5,3,6,4]\n",
    "\n",
    "buyAndSell(prices)"
   ]
  },
  {
   "cell_type": "code",
   "execution_count": 69,
   "metadata": {},
   "outputs": [
    {
     "data": {
      "text/plain": [
       "5"
      ]
     },
     "execution_count": 69,
     "metadata": {},
     "output_type": "execute_result"
    }
   ],
   "source": [
    "def max_profit(prices):\n",
    "    min_price = float('inf')\n",
    "    max_profit = 0\n",
    "\n",
    "    for price in prices:\n",
    "        if price < min_price:\n",
    "            min_price = price\n",
    "        \n",
    "        profit = price - min_price\n",
    "        max_profit = max(max_profit,profit)\n",
    "    return max_profit\n",
    "\n",
    "prices = [7,1,5,3,6,4]\n",
    "max_profit(prices)"
   ]
  },
  {
   "cell_type": "code",
   "execution_count": null,
   "metadata": {},
   "outputs": [
    {
     "data": {
      "text/plain": [
       "7"
      ]
     },
     "execution_count": 72,
     "metadata": {},
     "output_type": "execute_result"
    }
   ],
   "source": [
    "# You are given an integer array prices where prices[i] is the price of a given stock on the ith day.\n",
    "\n",
    "# On each day, you may decide to buy and/or sell the stock. You can only hold at most one share of the stock at any time. However, you can buy it then immediately sell it on the same day.\n",
    "\n",
    "# Find and return the maximum profit you can achieve.\n",
    "\n",
    "def BuyandSellII(prices):\n",
    "    max_profit = 0\n",
    "\n",
    "    for i in range(1,len(prices)):\n",
    "        profit = prices[i] - prices[i-1]\n",
    "        if profit > 0:\n",
    "            max_profit += profit\n",
    "    return max_profit\n",
    "prices = [7,1,5,3,6,4]\n",
    "BuyandSellII(prices)\n"
   ]
  },
  {
   "cell_type": "code",
   "execution_count": 82,
   "metadata": {},
   "outputs": [
    {
     "data": {
      "text/plain": [
       "7"
      ]
     },
     "execution_count": 82,
     "metadata": {},
     "output_type": "execute_result"
    }
   ],
   "source": [
    "def buyAndSellII(prices):\n",
    "    high = prices[0]\n",
    "    low = prices[0]\n",
    "    i = 0\n",
    "    profit = 0\n",
    "    n = len(prices)\n",
    "\n",
    "    while i < n-1:\n",
    "        #look where to buy\n",
    "        while i < n-1 and prices[i] >= prices[i+ 1]:\n",
    "            i += 1\n",
    "        low = prices[i]\n",
    "        #look where to sell\n",
    "        while i < n-1 and prices[i] <= prices[i+1]:\n",
    "            i += 1\n",
    "        high = prices[i]\n",
    "\n",
    "        profit += high - low\n",
    "    return profit\n",
    "\n",
    "prices = [7,1,5,3,6,4]\n",
    "# prices = [3,3,5,0,0,3,1,4]\n",
    "buyAndSellII(prices)"
   ]
  },
  {
   "cell_type": "code",
   "execution_count": 98,
   "metadata": {},
   "outputs": [
    {
     "data": {
      "text/plain": [
       "3"
      ]
     },
     "execution_count": 98,
     "metadata": {},
     "output_type": "execute_result"
    }
   ],
   "source": [
    "def buyAndSellIII(prices):\n",
    "    if not prices : return 0\n",
    "    min_price1 = float('inf')#min price for transaction one\n",
    "    min_price2  = float('inf') # min price for second transaction\n",
    "    profit1  = 0\n",
    "    profit2 = 0 # max profit after second transaction\n",
    "\n",
    "    for price in prices:\n",
    "        #update the min price for transaction one\n",
    "        min_price1 = min(min_price1,price)\n",
    "        #Update first profit after the first transaction\n",
    "        profit1 = max(profit1,price - min_price1)\n",
    "        #Update the effective min price for transaction two\n",
    "        min_price2 = min(min_price2, price - profit1)\n",
    "        #Update the profit after the second transaction\n",
    "        profit2 = max(profit2, price - min_price2)\n",
    "    return profit2\n",
    "prices = [1,4,2]\n",
    "buyAndSellIII(prices)"
   ]
  },
  {
   "cell_type": "code",
   "execution_count": 100,
   "metadata": {},
   "outputs": [
    {
     "data": {
      "text/plain": [
       "3"
      ]
     },
     "execution_count": 100,
     "metadata": {},
     "output_type": "execute_result"
    }
   ],
   "source": [
    "def buyAndSellIII(prices):\n",
    "    if not prices:\n",
    "        return 0\n",
    "    min_price1 = float('inf')\n",
    "    min_price2 = float('inf')\n",
    "    profit1 = 0\n",
    "    profit2 = 0\n",
    "\n",
    "    for price in prices:\n",
    "        min_price1 = min(min_price1, price)\n",
    "        profit1 = max(profit1, price - min_price1)\n",
    "        min_price2 = min(min_price2, price - profit1)\n",
    "        profit2 = max(profit2, price - min_price2)\n",
    "    return profit2\n",
    "prices = [1,4,2]\n",
    "buyAndSellIII(prices)"
   ]
  },
  {
   "cell_type": "code",
   "execution_count": 107,
   "metadata": {},
   "outputs": [
    {
     "data": {
      "text/plain": [
       "[1, 2, 3]"
      ]
     },
     "execution_count": 107,
     "metadata": {},
     "output_type": "execute_result"
    }
   ],
   "source": [
    "def nextPermutation(arr):\n",
    "    n = len(arr)\n",
    "    i = n-2\n",
    "    #Find the Pivot \n",
    "    while i >= 0 and arr[i] >= arr[i + 1]:\n",
    "        i -= 1\n",
    "    #If the pivot is found\n",
    "    # print(arr[i])\n",
    "    if i >= 0:\n",
    "        #Find the smallest element larger than arr[i]\n",
    "        j = n-1\n",
    "        while arr[i] >= arr[j]:\n",
    "            j -= 1\n",
    "        #swap arr[j] with arr[i]\n",
    "        arr[i],arr[j] = arr[j],arr[i]\n",
    "    #reverse the suffix\n",
    "    left,right = i + 1,n-1\n",
    "    while left < right:\n",
    "        arr[left],arr[right] = arr[right],arr[left]\n",
    "        left,right = left + 1,right - 1\n",
    "    return arr\n",
    "\n",
    "nextPermutation([3, 2, 1])\n"
   ]
  },
  {
   "cell_type": "code",
   "execution_count": null,
   "metadata": {},
   "outputs": [
    {
     "data": {
      "text/plain": [
       "[[1, 2, 3], [1, 3, 2], [2, 1, 3], [2, 3, 1], [3, 1, 2], [3, 2, 1]]"
      ]
     },
     "execution_count": 108,
     "metadata": {},
     "output_type": "execute_result"
    }
   ],
   "source": [
    "#Find all possible premutaions of an arr\n",
    "def permutation(arr):\n",
    "    n = len(arr)\n",
    "    sol,res = [],[]\n",
    "\n",
    "    def backtrack():\n",
    "        if len(sol) == n:\n",
    "            res.append(sol[:])\n",
    "        \n",
    "        for num in arr:\n",
    "            if num not in sol:\n",
    "                sol.append(num)\n",
    "                backtrack()\n",
    "                sol.pop()\n",
    "    backtrack()\n",
    "    return res\n",
    "#Time Complexity O(n!)\n",
    "#space complexity O(n) for the recursive callstack\n",
    "permutation([1,2,3])"
   ]
  },
  {
   "cell_type": "code",
   "execution_count": 18,
   "metadata": {},
   "outputs": [
    {
     "data": {
      "text/plain": [
       "3"
      ]
     },
     "execution_count": 18,
     "metadata": {},
     "output_type": "execute_result"
    }
   ],
   "source": [
    "def majorityElement( arr):\n",
    "        #Your code here\n",
    "        ans = -1\n",
    "        count = 0\n",
    "        for num in arr:\n",
    "            if count == 0:\n",
    "                ans = num\n",
    "            if ans == num:\n",
    "                 count += 1\n",
    "            else:\n",
    "                 count -=1\n",
    "        return ans\n",
    "majorityElement([3, 1, 3, 3, 2])"
   ]
  },
  {
   "cell_type": "code",
   "execution_count": 19,
   "metadata": {},
   "outputs": [],
   "source": [
    "def majorityElement(arr):\n",
    "    # find the candidate fro majority_element \n",
    "    candidate = None\n",
    "    count = 0\n",
    "\n",
    "    for num in arr:\n",
    "        if count == 0:\n",
    "            candidate = num\n",
    "        count += (1 if num == candidate else -1)\n",
    "    \n",
    "    #verify the candidate is actually a majority element\n",
    "    if arr.count(candidate) > len(arr)//2:\n",
    "        return candidate\n",
    "    return -1"
   ]
  },
  {
   "cell_type": "code",
   "execution_count": 1,
   "metadata": {},
   "outputs": [
    {
     "name": "stdout",
     "output_type": "stream",
     "text": [
      "2\n",
      "4\n",
      "-1\n"
     ]
    }
   ],
   "source": [
    "#most frequent even number in an arr\n",
    "def mostFrequentEven(arr):\n",
    "    count = {}\n",
    "\n",
    "    for num in arr:\n",
    "        if num % 2 == 0:\n",
    "            if num in count:   \n",
    "                count[num] += 1\n",
    "            else:\n",
    "                count[num] = 1\n",
    "    \n",
    "    if not count:\n",
    "        return -1\n",
    "    \n",
    "    most_frequent = -1\n",
    "    highest_frequency = 0\n",
    "\n",
    "    for num, freq in count.items():\n",
    "        #check if the current freq is higher or its tied with a smaller number\n",
    "        if freq > highest_frequency or (freq == highest_frequency and num < most_frequent):\n",
    "            highest_frequency = freq\n",
    "            most_frequent = num\n",
    "\n",
    "    return most_frequent\n",
    "print(mostFrequentEven([0, 1, 2, 2, 4, 4, 1]))  # Output: 2\n",
    "print(mostFrequentEven([4, 4, 4, 9, 2, 4]))     # Output: 4\n",
    "print(mostFrequentEven([29, 47, 21, 41, 13, 37, 25, 7]))"
   ]
  },
  {
   "cell_type": "code",
   "execution_count": 8,
   "metadata": {},
   "outputs": [
    {
     "name": "stdout",
     "output_type": "stream",
     "text": [
      "defaultdict(<class 'int'>, {2: 4, 3: 3, 23: 1})\n",
      "Counter({2: 4, 3: 3, 23: 1})\n"
     ]
    }
   ],
   "source": [
    "from collections import defaultdict\n",
    "\n",
    "d = defaultdict(int)\n",
    "arr = [2,2,3,2,3,2,3,23]\n",
    "\n",
    "for num in arr:\n",
    "    d[num] += 1\n",
    "\n",
    "d[2]\n",
    "print(d)\n",
    "\n",
    "from collections import Counter\n",
    "\n",
    "mapp = Counter(arr)\n",
    "print(mapp)"
   ]
  },
  {
   "cell_type": "code",
   "execution_count": 16,
   "metadata": {},
   "outputs": [
    {
     "data": {
      "text/plain": [
       "[2, 4]"
      ]
     },
     "execution_count": 16,
     "metadata": {},
     "output_type": "execute_result"
    }
   ],
   "source": [
    "def singleNum(arr):\n",
    "    s = defaultdict(int)\n",
    "    for num in arr:\n",
    "        s[num] += 1\n",
    "    res = []\n",
    "    for key,val in s.items():\n",
    "        if val % 2 == 1:\n",
    "            res.append(key)\n",
    "    return res\n",
    "singleNum([1,1,3,2,3,4])"
   ]
  }
 ],
 "metadata": {
  "kernelspec": {
   "display_name": "base",
   "language": "python",
   "name": "python3"
  },
  "language_info": {
   "codemirror_mode": {
    "name": "ipython",
    "version": 3
   },
   "file_extension": ".py",
   "mimetype": "text/x-python",
   "name": "python",
   "nbconvert_exporter": "python",
   "pygments_lexer": "ipython3",
   "version": "3.12.7"
  }
 },
 "nbformat": 4,
 "nbformat_minor": 2
}
