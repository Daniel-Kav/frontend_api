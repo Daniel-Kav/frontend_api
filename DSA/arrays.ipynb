{
 "cells": [
  {
   "cell_type": "code",
   "execution_count": null,
   "metadata": {},
   "outputs": [],
   "source": []
  },
  {
   "cell_type": "code",
   "execution_count": 10,
   "metadata": {},
   "outputs": [
    {
     "name": "stdout",
     "output_type": "stream",
     "text": [
      "[2200, 2350, 2600, 1930, 2190, 1980]\n"
     ]
    }
   ],
   "source": [
    "expenses = [2200, 2350, 2600, 2130, 2190]\n",
    "total_expense = 0\n",
    "\n",
    "# print(expenses[1] - expenses[0])\n",
    "\n",
    "for i in range(0,3):\n",
    "    total_expense += expenses[i]\n",
    "# print(total_expense)\n",
    "\n",
    "for i in range(len(expenses)):\n",
    "    if expenses[i] == 2000:\n",
    "        print(True)\n",
    "\n",
    "# print(False)\n",
    "# print(2000 in expenses)\n",
    "expenses.append(1980)\n",
    "# print(expenses)\n",
    "\n",
    "expenses[3] = expenses[3] - 200\n",
    "print(expenses)\n"
   ]
  },
  {
   "cell_type": "code",
   "execution_count": 24,
   "metadata": {},
   "outputs": [
    {
     "name": "stdout",
     "output_type": "stream",
     "text": [
      "5\n",
      "['spider man', 'thor', 'hulk', 'iron man', 'captain america', 'black panther']\n",
      "['spider man', 'thor', 'hulk', 'black panther', 'iron man', 'captain america']\n",
      "['spider man', 'doctor strange', 'black panther', 'iron man', 'captain america']\n",
      "['black panther', 'captain america', 'doctor strange', 'iron man', 'spider man']\n"
     ]
    }
   ],
   "source": [
    "heros=['spider man','thor','hulk','iron man','captain america']\n",
    "\n",
    "print(len(heros))\n",
    "heros.append('black panther')\n",
    "print(heros)\n",
    "heros.pop()\n",
    "heros.insert(3,'black panther')\n",
    "print(heros)\n",
    "heros[1:3] = ['doctor strange']\n",
    "print(heros)\n",
    "heros.sort()\n",
    "print(heros)\n",
    "\n",
    "\n"
   ]
  },
  {
   "cell_type": "code",
   "execution_count": 8,
   "metadata": {},
   "outputs": [
    {
     "name": "stdout",
     "output_type": "stream",
     "text": [
      "5 6 2 3 4 1 "
     ]
    }
   ],
   "source": [
    "# Python Program to reverse an array using temporary array\n",
    "\n",
    "# func to reverse array\n",
    "def reverseArray(arr):\n",
    "    n = len(arr)\n",
    "    #init the temp array to hold reversed arr\n",
    "    temp = [0] * n\n",
    "    # now Add the elements in the temp array in reverse order\n",
    "    for i in range(n):\n",
    "        temp[i] = arr[n-i-1]\n",
    "    #then copy the reversed elements back to the array\n",
    "    for i in range(n):\n",
    "        arr[i] = temp[i]\n",
    "        \n",
    "if __name__ == \"__main__\":\n",
    "    arr = [1, 4, 3, 2, 6, 5]\n",
    "\n",
    "    reverseArray(arr)\n",
    "  \n",
    "    for i in range(len(arr)):\n",
    "        print(arr[i], end=\" \")\n"
   ]
  },
  {
   "cell_type": "code",
   "execution_count": 12,
   "metadata": {},
   "outputs": [
    {
     "name": "stdout",
     "output_type": "stream",
     "text": [
      "1 4 5 7 9 8 2 3 5 4 3 "
     ]
    }
   ],
   "source": [
    "#reverse array by using a temporary array\n",
    "def reverseArray(arr):\n",
    "    n = len(arr)\n",
    "\n",
    "    #create the temp array \n",
    "    temp = [0] *n\n",
    "\n",
    "    # copy the arr elements to the temporary array in reverse order \n",
    "    for i in range(n):\n",
    "        temp[i] = arr[n-i-1]\n",
    "    \n",
    "    #copy the temp array to the original arr\n",
    "    for i in range(n):\n",
    "        arr[i] = temp[i]\n",
    "    return arr\n",
    "\n",
    "if __name__ == \"__main__\":   \n",
    "    arr = [3,4,5,3,2,8,9,7,5,4,1]\n",
    "    reverseArray(arr)\n",
    "\n",
    "    for i in range(len(arr)):\n",
    "        print(arr[i],end= \" \")\n",
    "\n",
    "#TIME COMPLEXITY: O(n) since copying items in a new array is linear\n",
    "#SPACE COMPLEXITY: O(n) since we use an extra array to reverse the array\n",
    "\n"
   ]
  },
  {
   "cell_type": "code",
   "execution_count": 14,
   "metadata": {},
   "outputs": [
    {
     "name": "stdout",
     "output_type": "stream",
     "text": [
      "8 7 6 5 4 3 2 1 "
     ]
    }
   ],
   "source": [
    "#reversing an array using two pointers\n",
    "def reverseArray(arr):\n",
    "    #initialize left to the begining and right to the end\n",
    "    left = 0\n",
    "    right = len(arr) - 1\n",
    "\n",
    "    #iterate till left is less than right\n",
    "    while left < right :\n",
    "        #swap the elements at left and right position\n",
    "        arr[left],arr[right] = arr[right], arr[left]\n",
    "\n",
    "        #Increment the left pointer\n",
    "        left += 1\n",
    "         #decrement the right pointer\n",
    "        right -= 1\n",
    "\n",
    "\n",
    "\n",
    "\n",
    "if __name__ == \"__main__\":   \n",
    "    arr = [1,2,3,4,5,6,7,8]\n",
    "    reverseArray(arr)\n",
    "\n",
    "    for i in range(len(arr)):\n",
    "        print(arr[i],end= \" \")"
   ]
  },
  {
   "cell_type": "code",
   "execution_count": 16,
   "metadata": {},
   "outputs": [
    {
     "name": "stdout",
     "output_type": "stream",
     "text": [
      "10 9 8 7 6 5 4 3 2 1 "
     ]
    }
   ],
   "source": [
    "def reverseArray(arr):\n",
    "    left = 0\n",
    "    right = len(arr) - 1\n",
    "\n",
    "    while left < right:\n",
    "        arr[left],arr[right] = arr[right],arr[left]\n",
    "\n",
    "        left += 1\n",
    "        right -= 1\n",
    "\n",
    "\n",
    "\n",
    "\n",
    "if __name__ == \"__main__\":   \n",
    "    arr = [1,2,3,4,5,6,7,8,9,10]\n",
    "    reverseArray(arr)\n",
    "\n",
    "    for i in range(len(arr)):\n",
    "        print(arr[i],end= \" \")"
   ]
  },
  {
   "cell_type": "code",
   "execution_count": 17,
   "metadata": {},
   "outputs": [
    {
     "name": "stdout",
     "output_type": "stream",
     "text": [
      "10 9 8 7 6 5 4 3 2 1 "
     ]
    }
   ],
   "source": [
    "#reversing an array by swapping elements\n",
    "def reverseArray(arr):\n",
    "    n = len(arr)\n",
    "\n",
    "    for i in range(len(arr)//2):\n",
    "        temp = arr[i]\n",
    "        arr[i] = arr[n-i-1]\n",
    "        arr[n-i-1] = temp\n",
    "\n",
    "\n",
    "\n",
    "\n",
    "if __name__ == \"__main__\":   \n",
    "    arr = [1,2,3,4,5,6,7,8,9,10]\n",
    "    reverseArray(arr)\n",
    "\n",
    "    for i in range(len(arr)):\n",
    "        print(arr[i],end= \" \")"
   ]
  },
  {
   "cell_type": "code",
   "execution_count": 20,
   "metadata": {},
   "outputs": [
    {
     "name": "stdout",
     "output_type": "stream",
     "text": [
      "10 9 8 7 6 5 4 3 2 1 "
     ]
    }
   ],
   "source": [
    "#reversing an array using recursion\n",
    "def reverseArray(arr,l,r):\n",
    "    \n",
    "\n",
    "    if l >= r :\n",
    "        return\n",
    "        \n",
    "    arr[l],arr[r] = arr[r],arr[l]\n",
    "    reverseArray(arr,l+1, r-1)\n",
    "\n",
    "\n",
    "if __name__ == \"__main__\":   \n",
    "    arr = [1,2,3,4,5,6,7,8,9,10]\n",
    "    l = 0\n",
    "    r = len(arr) -1 \n",
    "    reverseArray(arr,l,r)\n",
    "\n",
    "    for i in range(len(arr)):\n",
    "        print(arr[i],end= \" \")"
   ]
  },
  {
   "cell_type": "markdown",
   "metadata": {},
   "source": [
    "#second largest element in the array\n",
    "Time Complexity: O(n*logn), as sorting the array takes O(n*logn) time and traversing the array can take O(n) time in the worst case, so total time complexity = (n*logn + n) = O(n*logn).\n",
    "Auxiliary space: O(1), as no extra space is required\n"
   ]
  },
  {
   "cell_type": "code",
   "execution_count": 26,
   "metadata": {},
   "outputs": [
    {
     "name": "stdout",
     "output_type": "stream",
     "text": [
      "35\n"
     ]
    }
   ],
   "source": [
    "\n",
    "def secondLargest(arr):\n",
    "    arr.sort()\n",
    "    n = len(arr)\n",
    "\n",
    "    for i in range(n-2,-1,-1):\n",
    "        if arr[i] != arr[n-1]:\n",
    "            return arr[i]\n",
    "    return -1\n",
    "\n",
    "    \n",
    "if __name__ == \"__main__\":\n",
    "    arr = [12, 35, 211, 10, 34, 1]\n",
    "    print(secondLargest(arr))"
   ]
  },
  {
   "cell_type": "code",
   "execution_count": 28,
   "metadata": {},
   "outputs": [
    {
     "name": "stdout",
     "output_type": "stream",
     "text": [
      "211\n"
     ]
    }
   ],
   "source": [
    "#two pass search to find the second largest element in an  array\n",
    "def secondLargest(arr):\n",
    "    n = len(arr)\n",
    "\n",
    "    largest = -1\n",
    "    secondLargest = -1\n",
    "    #find the largest element\n",
    "    for i in range(n):\n",
    "        if arr[i] > largest:\n",
    "            largest = arr[i]\n",
    "    \n",
    "    #find the second largest by looping through the array and \n",
    "    #looking for the largest element that does not equal the largest\n",
    "    for i in range(n):\n",
    "        if arr[i] > secondLargest and arr[i] != largest:\n",
    "            secondLargest = arr[i]\n",
    "    \n",
    "    return secondLargest\n",
    "\n",
    "if __name__ == \"__main__\":\n",
    "    arr = [12, 305, 211, 10, 34, 1]\n",
    "    print(secondLargest(arr))"
   ]
  },
  {
   "cell_type": "code",
   "execution_count": 30,
   "metadata": {},
   "outputs": [
    {
     "name": "stdout",
     "output_type": "stream",
     "text": [
      "305\n"
     ]
    }
   ],
   "source": [
    "#One pass search to find the second largest element in an array\n",
    "def secondLargest(arr):\n",
    "    n= len(arr)\n",
    "\n",
    "    largest = -1\n",
    "    secondLargest = -1\n",
    "\n",
    "    for i in range(n):\n",
    "        #if arr[i] > largest , largest = arr[i] and second = the current largest\n",
    "        if arr[i] > largest:\n",
    "        \n",
    "            secondLargest = largest\n",
    "            largest = arr[i]\n",
    "        elif arr[i] < largest and arr[i] > secondLargest:\n",
    "            secondLargest = arr[i]\n",
    "\n",
    "    return secondLargest\n",
    "\n",
    "if __name__ == \"__main__\":\n",
    "    arr = [12, 305, 211, 1000, 34, 1]\n",
    "    print(secondLargest(arr))"
   ]
  },
  {
   "cell_type": "code",
   "execution_count": 3,
   "metadata": {},
   "outputs": [
    {
     "name": "stdout",
     "output_type": "stream",
     "text": [
      "1\n",
      "[]\n"
     ]
    }
   ],
   "source": [
    "def commonElements( arr1, arr2, arr3):\n",
    "        #Code Here\n",
    "        result = []\n",
    "        for i in range(len(arr1)):\n",
    "            print(arr1[i])\n",
    "            if arr1[i] in arr2 and arr1[i] in arr3:\n",
    "                print(arr1[i])\n",
    "                result.append(arr1[i])\n",
    "            return  result\n",
    "        \n",
    "        return -1\n",
    "if __name__ == \"__main__\":\n",
    "    arr1 = [1, 5, 10 ,20, 40, 80]\n",
    "    arr2 = [6 ,7 ,20, 80 ,100]\n",
    "    arr3 = [3, 4 ,15, 20 ,30, 70, 80, 120]\n",
    "    print(commonElements(arr1,arr2,arr3))"
   ]
  },
  {
   "cell_type": "code",
   "execution_count": 2,
   "metadata": {},
   "outputs": [],
   "source": [
    "def commonElements(self, arr1, arr2, arr3):\n",
    "        #Code Here\n",
    "        result = []\n",
    "        i, j, k = 0, 0, 0  # Initialize pointers for arr1, arr2, arr3\n",
    "        \n",
    "        # Traverse all arrays simultaneously\n",
    "        while i < len(arr1) and j < len(arr2) and k < len(arr3):\n",
    "            # If the same element is present in all three arrays\n",
    "            if arr1[i] == arr2[j] == arr3[k]:\n",
    "                # Avoid adding duplicates\n",
    "                if len(result) == 0 or result[-1] != arr1[i]:\n",
    "                    result.append(arr1[i])\n",
    "                i += 1\n",
    "                j += 1\n",
    "                k += 1\n",
    "            # If arr1[i] is smaller, increment i\n",
    "            elif arr1[i] < arr2[j]:\n",
    "                i += 1\n",
    "            # If arr2[j] is smaller, increment j\n",
    "            elif arr2[j] < arr3[k]:\n",
    "                j += 1\n",
    "            # If arr3[k] is smaller, increment k\n",
    "            else:\n",
    "                k += 1\n",
    "        \n",
    "        return result"
   ]
  },
  {
   "cell_type": "code",
   "execution_count": 1,
   "metadata": {},
   "outputs": [
    {
     "name": "stdout",
     "output_type": "stream",
     "text": [
      "6\n"
     ]
    }
   ],
   "source": [
    "def potion_strength(formula):\n",
    "    # Write code here \n",
    "    potion = 1\n",
    "\n",
    "\n",
    "    if '!' in formula:\n",
    "        potion //=2\n",
    "    if '*' in formula:\n",
    "        potion *= 3\n",
    "    if '#' in formula:\n",
    "        potion += 5\n",
    "    return potion\n",
    "if __name__ == \"__main__\":\n",
    "    formula = \"##\"\n",
    "    print(potion_strength(formula))"
   ]
  },
  {
   "cell_type": "code",
   "execution_count": 7,
   "metadata": {},
   "outputs": [
    {
     "name": "stdout",
     "output_type": "stream",
     "text": [
      "5\n"
     ]
    }
   ],
   "source": [
    "#Given an array identify the missing element\n",
    "\n",
    "def missing(arr):\n",
    "    \n",
    "    n = len(arr) + 1\n",
    "    expected_sum = n * (n+1) // 2\n",
    "    actual_sum = sum(arr)\n",
    "\n",
    "    print( expected_sum - actual_sum)\n",
    "\n",
    "if __name__ == '__main__':\n",
    "    arr = [1,2,3,4,6]\n",
    "    missing(arr)"
   ]
  },
  {
   "cell_type": "code",
   "execution_count": 10,
   "metadata": {},
   "outputs": [
    {
     "name": "stdout",
     "output_type": "stream",
     "text": [
      "2\n"
     ]
    }
   ],
   "source": [
    "def extra_element(n,a,b):\n",
    "    for i in range(n):\n",
    "        if a[i] not in b:\n",
    "            print(i)\n",
    "if __name__ == '__main__':\n",
    "    n = 4\n",
    "    a = [2,3,1,4]\n",
    "    b = [2,3,4]\n",
    "\n",
    "    extra_element(n,a,b)"
   ]
  },
  {
   "cell_type": "code",
   "execution_count": 11,
   "metadata": {},
   "outputs": [
    {
     "name": "stdout",
     "output_type": "stream",
     "text": [
      "4\n",
      "3\n"
     ]
    }
   ],
   "source": [
    "def findExtraElementIndex(arr1, arr2):\n",
    "    left, right = 0, len(arr2) - 1\n",
    "    \n",
    "    while left <= right:\n",
    "        mid = left + (right - left) // 2\n",
    "        \n",
    "        # Compare corresponding elements in arr1 and arr2\n",
    "        if arr1[mid] == arr2[mid]:\n",
    "            # Extra element is in the right half\n",
    "            left = mid + 1\n",
    "        else:\n",
    "            # Extra element is in the left half\n",
    "            right = mid - 1\n",
    "    \n",
    "    # The left pointer will point to the index of the extra element\n",
    "    return left\n",
    "\n",
    "# Example usage:\n",
    "arr1 = [2, 4, 6, 8, 9, 10, 12]\n",
    "arr2 = [2, 4, 6, 8, 10, 12]\n",
    "print(findExtraElementIndex(arr1, arr2))  # Output: 4\n",
    "\n",
    "arr1 = [3, 5, 7, 8, 11, 13]\n",
    "arr2 = [3, 5, 7, 11, 13]\n",
    "print(findExtraElementIndex(arr1, arr2))  # Output: 3\n"
   ]
  },
  {
   "cell_type": "code",
   "execution_count": 1,
   "metadata": {},
   "outputs": [
    {
     "name": "stdout",
     "output_type": "stream",
     "text": [
      "3\n"
     ]
    }
   ],
   "source": [
    "def extra_element(n,a , b):\n",
    "    left,right = 0, n-2\n",
    "\n",
    "    while left <= right:\n",
    "        mid = left + (right-left)//2\n",
    "\n",
    "        if a[mid] == b[mid]:\n",
    "            left = mid + 1\n",
    "        else:\n",
    "            right = mid-1\n",
    "    return left\n",
    "\n",
    "if __name__ == '__main__':\n",
    "    n = 4\n",
    "    a = [2,3,4,7]\n",
    "    b = [2,3,4]\n",
    "\n",
    "    print(extra_element(n,a,b))"
   ]
  },
  {
   "cell_type": "code",
   "execution_count": 5,
   "metadata": {},
   "outputs": [
    {
     "name": "stdout",
     "output_type": "stream",
     "text": [
      "0 1 4\n",
      "2 3 4\n"
     ]
    }
   ],
   "source": [
    "#3 Sum – Find All Triplets with Zero Sum\n",
    "\n",
    "#Using three nested loops\n",
    "def find_triplets(arr):\n",
    "    res = []\n",
    "    n = len(arr)\n",
    "\n",
    "    #generating all triplets\n",
    "    for i in range(n-2):\n",
    "        for j in range(i+ 1, n-1):\n",
    "            for k in range(j+1, n):\n",
    "                #if the sum of the triplets equals zero\n",
    "                #then add it to the result\n",
    "                if arr[i] + arr[j] + arr[k] == 0:\n",
    "                    res.append([i,j,k])\n",
    "    return res\n",
    "\n",
    "arr = [0, -1, 2, -3, 1]\n",
    "res = find_triplets(arr)\n",
    "for triplet in res:\n",
    "    print(triplet[0], triplet[1], triplet[2])"
   ]
  },
  {
   "cell_type": "code",
   "execution_count": null,
   "metadata": {},
   "outputs": [
    {
     "name": "stdout",
     "output_type": "stream",
     "text": [
      "0 1 4\n",
      "2 3 4\n"
     ]
    }
   ],
   "source": [
    "#Python program to find all triplets with zero sum using hashing\n",
    "def findTriplets(arr):\n",
    "    #set to handle duplicates\n",
    "    resSet = set()\n",
    "    n = len(arr)\n",
    "    mp = {}\n",
    "\n",
    "    #store sum of all the pairs with their indices\n",
    "    for i in range(n):\n",
    "        for j in range(i+ 1, n):\n",
    "            s = arr[i] + arr[j]\n",
    "            if s not in mp:\n",
    "                mp[s] = []\n",
    "            mp[s].append((i,j))\n",
    "    for i in range"
   ]
  },
  {
   "cell_type": "code",
   "execution_count": null,
   "metadata": {},
   "outputs": [
    {
     "data": {
      "text/plain": [
       "True"
      ]
     },
     "execution_count": 1,
     "metadata": {},
     "output_type": "execute_result"
    }
   ],
   "source": [
    "#valid parenthesis\n",
    "def validPar(arr):\n",
    "    #hashmap to hold the closing par as keys and opening pars as values\n",
    "    hashmap = {')':'(',']':'[','}':'{'}\n",
    "    # initialize a stack \n",
    "    stk = []\n",
    "    #iterate throuhg the array\n",
    "    for c in arr:\n",
    "        # if the opening braket is not in the map addit to the stack \n",
    "        if c not in hashmap:\n",
    "            stk.append(c)\n",
    "        else:\n",
    "            # if the satack is empty return false\n",
    "            if not stk:\n",
    "                return False\n",
    "                # else pop the top of the stack and chek if it does match the closing par \n",
    "            popped = stk.pop()\n",
    "            \n",
    "            if popped != hashmap[c]:\n",
    "                return False\n",
    "    return not stk\n",
    "\n",
    "arr = ['(',')']\n",
    "validPar(arr)"
   ]
  },
  {
   "cell_type": "code",
   "execution_count": 13,
   "metadata": {},
   "outputs": [
    {
     "name": "stdout",
     "output_type": "stream",
     "text": [
      "['i', 'like', 'this', 'program', 'very', 'much']\n"
     ]
    },
    {
     "data": {
      "text/plain": [
       "'i.ekil.siht.margorp.yrev.hcum'"
      ]
     },
     "execution_count": 13,
     "metadata": {},
     "output_type": "execute_result"
    }
   ],
   "source": [
    "# Reverse each word in a given string\n",
    "\n",
    "\n",
    "def reverseWords( s):\n",
    "    # code here\n",
    "    words =  s.split('.')\n",
    "    res = []\n",
    "    print(words)\n",
    "    for word in words :\n",
    "        res.append(word[::-1])\n",
    "    return '.'.join(res)\n",
    "\n",
    "\n",
    "s = \"i.like.this.program.very.much\"\n",
    "\n",
    "reverseWords(s)"
   ]
  },
  {
   "cell_type": "code",
   "execution_count": 16,
   "metadata": {},
   "outputs": [
    {
     "data": {
      "text/plain": [
       "2523"
      ]
     },
     "execution_count": 16,
     "metadata": {},
     "output_type": "execute_result"
    }
   ],
   "source": [
    "\n",
    "\n",
    "def findSum( X, Y):\n",
    "    numy = int(Y)\n",
    "    numx= int(X)\n",
    "\n",
    "    return numy + numx\n",
    "X = \"2500\"\n",
    "Y = \"23\"\n",
    "findSum(X,Y)\n",
    "\n"
   ]
  },
  {
   "cell_type": "code",
   "execution_count": 1,
   "metadata": {},
   "outputs": [
    {
     "data": {
      "text/plain": [
       "2"
      ]
     },
     "execution_count": 1,
     "metadata": {},
     "output_type": "execute_result"
    }
   ],
   "source": [
    "#Fibonacci\n",
    "def fib(n):\n",
    "    if n == 0: return 0\n",
    "    if n == 1 : return 1\n",
    "    return fib(n-1) + fib(n-2)\n",
    "\n",
    "fib(3)"
   ]
  },
  {
   "cell_type": "code",
   "execution_count": 6,
   "metadata": {},
   "outputs": [
    {
     "data": {
      "text/plain": [
       "8"
      ]
     },
     "execution_count": 6,
     "metadata": {},
     "output_type": "execute_result"
    }
   ],
   "source": [
    "# You are climbing a staircase. It takes n steps to reach the top.\n",
    "\n",
    "# Each time you can either climb 1 or 2 steps. In how many distinct ways can you climb to the top?\n",
    "\n",
    "# Example 1:\n",
    "\n",
    "# Input: n = 2\n",
    "# Output: 2\n",
    "# Explanation: There are two ways to climb to the top.\n",
    "# 1. 1 step + 1 step\n",
    "# 2. 2 steps\n",
    "# Example 2:\n",
    "\n",
    "# Input: n = 3\n",
    "# Output: 3\n",
    "# Explanation: There are three ways to climb to the top.\n",
    "# 1. 1 step + 1 step + 1 step\n",
    "# 2. 1 step + 2 steps\n",
    "# 3. 2 steps + 1 step\n",
    "\n",
    "def climbing(n):\n",
    "    if n == 1 : return 1\n",
    "    if n== 2 : return 2\n",
    "    first = 1\n",
    "    second = 2\n",
    "\n",
    "    for i in range(3,n+ 1):\n",
    "        current = first + second\n",
    "        first = second\n",
    "        second  = current\n",
    "    return second\n",
    "\n",
    "climbing(5)"
   ]
  },
  {
   "cell_type": "code",
   "execution_count": 15,
   "metadata": {},
   "outputs": [
    {
     "data": {
      "text/plain": [
       "8"
      ]
     },
     "execution_count": 15,
     "metadata": {},
     "output_type": "execute_result"
    }
   ],
   "source": [
    "# You are climbing a staircase. It takes n steps to reach the top.\n",
    "\n",
    "# Each time you can either climb 1 or 2 steps. In how many distinct ways can you climb to the top?\n",
    "\n",
    "# Example 1:\n",
    "\n",
    "# Input: n = 2\n",
    "# Output: 2\n",
    "# Explanation: There are two ways to climb to the top.\n",
    "# 1. 1 step + 1 step\n",
    "# 2. 2 steps\n",
    "# Example 2:\n",
    "\n",
    "# Input: n = 3\n",
    "# Output: 3\n",
    "# Explanation: There are three ways to climb to the top.\n",
    "# 1. 1 step + 1 step + 1 step\n",
    "# 2. 1 step + 2 steps\n",
    "# 3. 2 steps + 1 step\n",
    "\n",
    "def climbing_stairs(n):\n",
    "    if n <= 0:\n",
    "        return 0\n",
    "    if n == 1: \n",
    "        return 1\n",
    "    if n == 2 : return 2\n",
    "    return climbing_stairs(n-2) + climbing_stairs(n-1)\n",
    "\n",
    "climbing_stairs(5)\n",
    "\n"
   ]
  },
  {
   "cell_type": "code",
   "execution_count": 19,
   "metadata": {},
   "outputs": [
    {
     "data": {
      "text/plain": [
       "6"
      ]
     },
     "execution_count": 19,
     "metadata": {},
     "output_type": "execute_result"
    }
   ],
   "source": [
    "#min cost climbing stairs\n",
    "def min_cost(cost):\n",
    "    n = len(cost)\n",
    "    def minn(x):\n",
    "        if x < 2:\n",
    "            return 0\n",
    "        return min(cost[x-2]+ minn(x-2),cost[x-1]+ minn(x-1))\n",
    "    return minn(n)\n",
    "\n",
    "cost = [1,100,1,1,1,100,1,1,100,1]\n",
    "min_cost(cost)"
   ]
  },
  {
   "cell_type": "code",
   "execution_count": 23,
   "metadata": {},
   "outputs": [
    {
     "data": {
      "text/plain": [
       "6"
      ]
     },
     "execution_count": 23,
     "metadata": {},
     "output_type": "execute_result"
    }
   ],
   "source": [
    "# min cost using recursion with dynamic programming \n",
    "def min_cost_climbing(cost):\n",
    "    n = len(cost)\n",
    "    #dp array to store min cost for reaching each step\n",
    "    dp = [0] * (n+1)\n",
    "\n",
    "    for i in range(2, n+ 1):\n",
    "        dp[i] = min(dp[i-1]+cost[i-1], dp[i-2]+cost[i-2])\n",
    "    return dp[n]\n",
    "cost = [1,100,1,1,1,100,1,1,100,1]\n",
    "min_cost_climbing(cost)\n"
   ]
  },
  {
   "cell_type": "code",
   "execution_count": 50,
   "metadata": {},
   "outputs": [
    {
     "name": "stdout",
     "output_type": "stream",
     "text": [
      "2<->3<->4<->3<->2<->None\n",
      "2<->3<->4<->34<->None\n"
     ]
    }
   ],
   "source": [
    "#Reversing a doubly linked list\n",
    "class Node:\n",
    "    def __init__(self,data):\n",
    "        self.data = data\n",
    "        self.next = None\n",
    "        self.prev = None\n",
    "\n",
    "class double_list:\n",
    "    def __init__(self, head=None):\n",
    "        self.head = head\n",
    "\n",
    "    def append(self,data):\n",
    "        new_node = Node(data)\n",
    "        if not self.head:\n",
    "            self.head = new_node\n",
    "            return\n",
    "        cur = self.head\n",
    "        while cur.next:\n",
    "            cur = cur.next\n",
    "        cur.next = new_node\n",
    "        new_node.prev = cur\n",
    "    def reverse(self):\n",
    "        curr = self.head\n",
    "        temp = None\n",
    "\n",
    "        while curr:\n",
    "            temp = curr.prev\n",
    "            curr.prev = curr.next\n",
    "            curr.next = temp\n",
    "            curr = curr.prev\n",
    "\n",
    "        if temp:\n",
    "            self.head = temp.prev\n",
    "\n",
    "    def remove_duplicates(self):\n",
    "        if not self.head:\n",
    "            return\n",
    "        curr = self.head\n",
    "\n",
    "        seen = set()\n",
    "        while curr.next:\n",
    "            if curr.data not in seen:\n",
    "                seen.add(curr.data)\n",
    "            else:\n",
    "                if curr.prev:\n",
    "                    curr.prev.next = curr.next\n",
    "                if curr.next:\n",
    "                    curr.next.prev = curr.prev\n",
    "                if curr == self.head:\n",
    "                    self.head = curr.next\n",
    "            curr = curr.next\n",
    "    \n",
    "        \n",
    "    \n",
    "    def print_dll(self):\n",
    "        cur = self.head\n",
    "        while cur:\n",
    "            print(f'{cur.data}',end='<->')\n",
    "            cur = cur.next\n",
    "        print('None')\n",
    "\n",
    "dll = double_list()\n",
    "dll.append(2)\n",
    "dll.append(3)\n",
    "dll.append(4)\n",
    "dll.append(3)\n",
    "dll.append(2)\n",
    "dll.print_dll()\n",
    "dll.append(34)\n",
    "dll.remove_duplicates()\n",
    "# dll.reverse()\n",
    "dll.print_dll()\n",
    "\n"
   ]
  },
  {
   "cell_type": "code",
   "execution_count": 1,
   "metadata": {},
   "outputs": [
    {
     "data": {
      "text/plain": [
       "(1, [1, 2, 3])"
      ]
     },
     "execution_count": 1,
     "metadata": {},
     "output_type": "execute_result"
    }
   ],
   "source": [
    "def dups(arr):\n",
    "    #sort the array\n",
    "    arr.sort()\n",
    "    #initialize the count of increments\n",
    "    count  = 0\n",
    "    #ITERATE THROUGH the sorted array starting from the second element\n",
    "    for i in range(1, len(arr)):\n",
    "        #If current element is not greater than previous element\n",
    "        if arr[i] <= arr[i-1]:\n",
    "            #calculate the increment needed\n",
    "            incr_needed = arr[i-1]  - arr[i] + 1\n",
    "            #add the increments count\n",
    "            count += incr_needed\n",
    "            arr[i] += incr_needed\n",
    "        \n",
    "    return count,arr\n",
    "arr = [1,2,2]\n",
    "\n",
    "dups(arr)\n",
    "\n"
   ]
  },
  {
   "cell_type": "code",
   "execution_count": 3,
   "metadata": {},
   "outputs": [
    {
     "name": "stdout",
     "output_type": "stream",
     "text": [
      "True\n",
      "False\n"
     ]
    }
   ],
   "source": [
    "#Meeting rooms\n",
    "def canAttendAllMeetings(arr):\n",
    "    #sort meetings by their starting time\n",
    "    arr.sort(key = lambda x: x[0])\n",
    "\n",
    "    # check if there are overlapping meetings \n",
    "    for i in range(1, len(arr)):\n",
    "        #check if start time of current meeting is less than ending time for the previous meeting\n",
    "        if arr[i][0] < arr[i-1][1]:\n",
    "            return False\n",
    "    return True\n",
    "\n",
    "# Example usage\n",
    "print(canAttendAllMeetings([[1, 4], [10, 15], [7, 10]]))  # Output: True\n",
    "print(canAttendAllMeetings([[2, 4], [9, 12], [6, 10]]))  "
   ]
  },
  {
   "cell_type": "code",
   "execution_count": 4,
   "metadata": {},
   "outputs": [
    {
     "name": "stdout",
     "output_type": "stream",
     "text": [
      "True\n",
      "False\n"
     ]
    }
   ],
   "source": [
    "def meeting(arr):\n",
    "    arr.sort(key = lambda x: x[0])\n",
    "\n",
    "    for i in range(1, len(arr)):\n",
    "        if arr[i][0] < arr[i-1][1]:\n",
    "            return False\n",
    "        \n",
    "    return True\n",
    "\n",
    "print(meeting([[1, 4], [10, 15], [7, 10]]))  # Output: True\n",
    "print(meeting([[2, 4], [9, 12], [6, 10]])) "
   ]
  },
  {
   "cell_type": "code",
   "execution_count": 8,
   "metadata": {},
   "outputs": [
    {
     "data": {
      "text/plain": [
       "2"
      ]
     },
     "execution_count": 8,
     "metadata": {},
     "output_type": "execute_result"
    }
   ],
   "source": [
    "#Majority element in ana array\n",
    "\n",
    "def majority_element(arr):\n",
    "    counter = {}\n",
    "\n",
    "    for num in arr:\n",
    "        if num in counter:\n",
    "            counter[num] += 1\n",
    "        else:\n",
    "            counter[num] = 1\n",
    "\n",
    "    max_num = -1\n",
    "    ans = -1\n",
    "\n",
    "    for key,val in counter.items():\n",
    "        if max_num < val:\n",
    "            max_num = val\n",
    "            ans = key\n",
    "    return ans\n",
    "\n",
    "majority_element([1,2,3,2,23,3,2,200])"
   ]
  },
  {
   "cell_type": "code",
   "execution_count": 13,
   "metadata": {},
   "outputs": [
    {
     "data": {
      "text/plain": [
       "-1"
      ]
     },
     "execution_count": 13,
     "metadata": {},
     "output_type": "execute_result"
    }
   ],
   "source": [
    "#majority element in an array\n",
    "def majority_element(arr):\n",
    "    #a dict to count every element as key and its count as val\n",
    "    counter = {}\n",
    "    #iterate through the array and count the occurences of each element\n",
    "    for num in arr:\n",
    "        # if the curr num is in the dict increment its frequency by one \n",
    "        if num in counter:\n",
    "            counter[num] += 1\n",
    "            #else set it to one if it does not exist\n",
    "        else:\n",
    "            counter[num] = 1\n",
    "    #initialize a max count and the key to that max count\n",
    "    max_counnt = -1\n",
    "    ans = -1\n",
    "\n",
    "    # loop through all the elements and their frequencies \n",
    "    for key, val in counter.items():\n",
    "        #look for the greatest frequency\n",
    "        if val > max_counnt:\n",
    "            max_counnt = val\n",
    "            ans = key\n",
    "    return ans if ans > len(arr)//2 else -1\n",
    "\n",
    "majority_element( [1, 13])"
   ]
  },
  {
   "cell_type": "code",
   "execution_count": 18,
   "metadata": {},
   "outputs": [
    {
     "data": {
      "text/plain": [
       "3"
      ]
     },
     "execution_count": 18,
     "metadata": {},
     "output_type": "execute_result"
    }
   ],
   "source": [
    "def majorityElement( arr):\n",
    "        #Your code here\n",
    "        ans = -1\n",
    "        count = 0\n",
    "        for num in arr:\n",
    "            if count == 0:\n",
    "                ans = num\n",
    "            if ans == num:\n",
    "                 count += 1\n",
    "            else:\n",
    "                 count -=1\n",
    "        return ans\n",
    "majorityElement([3, 1, 3, 3, 2])"
   ]
  },
  {
   "cell_type": "code",
   "execution_count": 19,
   "metadata": {},
   "outputs": [],
   "source": [
    "def majorityElement(arr):\n",
    "    # find the candidate fro majority_element \n",
    "    candidate = None\n",
    "    count = 0\n",
    "\n",
    "    for num in arr:\n",
    "        if count == 0:\n",
    "            candidate = num\n",
    "        count += (1 if num == candidate else -1)\n",
    "    \n",
    "    #verify the candidate is actually a majority element\n",
    "    if arr.count(candidate) > len(arr)//2:\n",
    "        return candidate\n",
    "    return -1"
   ]
  },
  {
   "cell_type": "code",
   "execution_count": 22,
   "metadata": {},
   "outputs": [
    {
     "name": "stdout",
     "output_type": "stream",
     "text": [
      "2\n",
      "4\n",
      "-1\n"
     ]
    }
   ],
   "source": [
    "#most frequent even number in an arr\n",
    "def mostFrequentEven(arr):\n",
    "    count = {}\n",
    "\n",
    "    for num in arr:\n",
    "        if num % 2 == 0:\n",
    "            if num in count:   \n",
    "                count[num] += 1\n",
    "            else:\n",
    "                count[num] = 1\n",
    "    \n",
    "    if not count:\n",
    "        return -1\n",
    "    \n",
    "    most_frequent = -1\n",
    "    highest_frequency = 0\n",
    "\n",
    "    for num, freq in count.items():\n",
    "        #check if the current freq is higher or its tied with a smaller number\n",
    "        if freq > highest_frequency or (freq == highest_frequency and num < most_frequent):\n",
    "            highest_frequency = freq\n",
    "            most_frequent = num\n",
    "\n",
    "    return most_frequent\n",
    "print(mostFrequentEven([0, 1, 2, 2, 4, 4, 1]))  # Output: 2\n",
    "print(mostFrequentEven([4, 4, 4, 9, 2, 4]))     # Output: 4\n",
    "print(mostFrequentEven([29, 47, 21, 41, 13, 37, 25, 7]))"
   ]
  }
 ],
 "metadata": {
  "kernelspec": {
   "display_name": "Python 3",
   "language": "python",
   "name": "python3"
  },
  "language_info": {
   "codemirror_mode": {
    "name": "ipython",
    "version": 3
   },
   "file_extension": ".py",
   "mimetype": "text/x-python",
   "name": "python",
   "nbconvert_exporter": "python",
   "pygments_lexer": "ipython3",
   "version": "3.12.7"
  }
 },
 "nbformat": 4,
 "nbformat_minor": 2
}
