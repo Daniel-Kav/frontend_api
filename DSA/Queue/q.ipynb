{
 "cells": [
  {
   "cell_type": "code",
   "execution_count": 4,
   "metadata": {},
   "outputs": [
    {
     "name": "stdout",
     "output_type": "stream",
     "text": [
      "deque([4])\n"
     ]
    }
   ],
   "source": [
    "from collections import deque\n",
    "\n",
    "q = deque()\n",
    "q.append(4)\n",
    "\n",
    "print(q)"
   ]
  },
  {
   "cell_type": "code",
   "execution_count": 7,
   "metadata": {},
   "outputs": [
    {
     "data": {
      "text/plain": [
       "27"
      ]
     },
     "execution_count": 7,
     "metadata": {},
     "output_type": "execute_result"
    }
   ],
   "source": [
    "def calPoints(ops):\n",
    "    stk = []\n",
    "    for op in ops:\n",
    "        if op == '+':\n",
    "            stk.append(stk[-1] + stk[-2])\n",
    "        elif op == 'C':\n",
    "            stk.pop()\n",
    "        elif op == 'D':\n",
    "            stk.append(stk[-1] * 2)\n",
    "        else:\n",
    "            stk.append(int(op))\n",
    "    return sum(stk)\n",
    "calPoints([\"5\",\"-2\",\"4\",\"C\",\"D\",\"9\",\"+\",\"+\"])\n"
   ]
  },
  {
   "cell_type": "code",
   "execution_count": null,
   "metadata": {},
   "outputs": [
    {
     "data": {
      "text/plain": [
       "[1, 1, 4, 2, 1, 1, 0, 0]"
      ]
     },
     "execution_count": 17,
     "metadata": {},
     "output_type": "execute_result"
    }
   ],
   "source": [
    "def dailyTemps(arr):\n",
    "    n = len(arr)\n",
    "    stk = []\n",
    "    #initialize an ans which is initialy an array of zeros\n",
    "    ans = [0] * n\n",
    "    for i,t in enumerate(arr):\n",
    "        # while there is sth on the stack pop the top if the top element is greater pop it \n",
    "        while stk and stk[-1][0] < t:\n",
    "            stk_t,stk_i = stk.pop()\n",
    "            #update the wait for the popped index with the the xurrent index - index of the popped element\n",
    "            ans[stk_i] = i - stk_i\n",
    "            #append the temp and index of current element\n",
    "        stk.append((t,i))\n",
    "    \n",
    "    \n",
    "    return ans\n",
    "dailyTemps([73,74,75,71,69,72,76,73])"
   ]
  }
 ],
 "metadata": {
  "kernelspec": {
   "display_name": "base",
   "language": "python",
   "name": "python3"
  },
  "language_info": {
   "codemirror_mode": {
    "name": "ipython",
    "version": 3
   },
   "file_extension": ".py",
   "mimetype": "text/x-python",
   "name": "python",
   "nbconvert_exporter": "python",
   "pygments_lexer": "ipython3",
   "version": "3.12.7"
  }
 },
 "nbformat": 4,
 "nbformat_minor": 2
}
