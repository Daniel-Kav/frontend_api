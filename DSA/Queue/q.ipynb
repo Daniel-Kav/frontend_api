{
 "cells": [
  {
   "cell_type": "code",
   "execution_count": 4,
   "metadata": {},
   "outputs": [
    {
     "name": "stdout",
     "output_type": "stream",
     "text": [
      "deque([4])\n"
     ]
    }
   ],
   "source": [
    "from collections import deque\n",
    "\n",
    "q = deque()\n",
    "q.append(4)\n",
    "\n",
    "print(q)"
   ]
  },
  {
   "cell_type": "code",
   "execution_count": 7,
   "metadata": {},
   "outputs": [
    {
     "data": {
      "text/plain": [
       "27"
      ]
     },
     "execution_count": 7,
     "metadata": {},
     "output_type": "execute_result"
    }
   ],
   "source": [
    "def calPoints(ops):\n",
    "    stk = []\n",
    "    for op in ops:\n",
    "        if op == '+':\n",
    "            stk.append(stk[-1] + stk[-2])\n",
    "        elif op == 'C':\n",
    "            stk.pop()\n",
    "        elif op == 'D':\n",
    "            stk.append(stk[-1] * 2)\n",
    "        else:\n",
    "            stk.append(int(op))\n",
    "    return sum(stk)\n",
    "calPoints([\"5\",\"-2\",\"4\",\"C\",\"D\",\"9\",\"+\",\"+\"])\n"
   ]
  },
  {
   "cell_type": "code",
   "execution_count": 18,
   "metadata": {},
   "outputs": [
    {
     "data": {
      "text/plain": [
       "[1, 1, 4, 2, 1, 1, 0, 0]"
      ]
     },
     "execution_count": 18,
     "metadata": {},
     "output_type": "execute_result"
    }
   ],
   "source": [
    "def dailyTemps(arr):\n",
    "    n = len(arr)\n",
    "    stk = []\n",
    "    #initialize an ans which is initialy an array of zeros\n",
    "    ans = [0] * n\n",
    "    for i,t in enumerate(arr):\n",
    "        # while there is sth on the stack pop the top if the top element is greater pop it \n",
    "        while stk and stk[-1][0] < t:\n",
    "            stk_t,stk_i = stk.pop()\n",
    "            #update the wait for the popped index with the the xurrent index - index of the popped element\n",
    "            ans[stk_i] = i - stk_i\n",
    "            #append the temp and index of current element\n",
    "        stk.append((t,i))\n",
    "    \n",
    "    \n",
    "    return ans\n",
    "dailyTemps([73,74,75,71,69,72,76,73])"
   ]
  },
  {
   "cell_type": "code",
   "execution_count": 30,
   "metadata": {},
   "outputs": [
    {
     "data": {
      "text/plain": [
       "[-1, 3, -1]"
      ]
     },
     "execution_count": 30,
     "metadata": {},
     "output_type": "execute_result"
    }
   ],
   "source": [
    "def nextGreaterElement(nums1,nums2):\n",
    "    next_greater = {}\n",
    "    stk = []\n",
    "    for num in reversed(nums2):\n",
    "        # mantain elems less than the current number in the stack\n",
    "        while stk and stk[-1] <= num:\n",
    "            stk.pop()\n",
    "        #If stk is empty no greater elemnt exist\n",
    "        next_greater[num] = stk[-1 ] if stk else -1\n",
    "        stk.append(num)\n",
    "        # Build the result for nums1 using the result for next_greater map \n",
    "    return [next_greater[num] for num in nums1]\n",
    "nextGreaterElement([4,1,2],[1,3,4,2])"
   ]
  },
  {
   "cell_type": "code",
   "execution_count": 36,
   "metadata": {},
   "outputs": [
    {
     "data": {
      "text/plain": [
       "[]"
      ]
     },
     "execution_count": 36,
     "metadata": {},
     "output_type": "execute_result"
    }
   ],
   "source": [
    "# Function to find the majority elements in the array\n",
    "def findMajority( arr):\n",
    "    #Your Code goes here.\n",
    "    n = len(arr)\n",
    "    seen = {}\n",
    "    for num in arr:\n",
    "        if num in seen:\n",
    "            seen[num] += 1\n",
    "        else:\n",
    "            seen[num] = 1\n",
    "    res = []\n",
    "    for num,freq in seen.items():\n",
    "        if freq > n // 3:\n",
    "            res.append(num)\n",
    "    return sorted(res)\n",
    "\n",
    "findMajority([1, 2, 3, 4, 5])"
   ]
  },
  {
   "cell_type": "code",
   "execution_count": 47,
   "metadata": {},
   "outputs": [
    {
     "data": {
      "text/plain": [
       "3"
      ]
     },
     "execution_count": 47,
     "metadata": {},
     "output_type": "execute_result"
    }
   ],
   "source": [
    "def uniqueDigitSums( arr):\n",
    "    ans = []\n",
    "    def digitSum(num):\n",
    "        res = []\n",
    "        while num > 0:\n",
    "            rem = num % 10\n",
    "            res.append(rem)\n",
    "            num //= 10\n",
    "        return sum(res)\n",
    "    for num in arr:\n",
    "        ds = digitSum(num)\n",
    "        ans.append(ds)\n",
    "    return len(list(set(ans)))\n",
    "    \n",
    "uniqueDigitSums([123, 42, 45, 78, 12345])"
   ]
  },
  {
   "cell_type": "code",
   "execution_count": 51,
   "metadata": {},
   "outputs": [
    {
     "name": "stdout",
     "output_type": "stream",
     "text": [
      "[6, 6, 9, 15, 15]\n"
     ]
    },
    {
     "data": {
      "text/plain": [
       "3"
      ]
     },
     "execution_count": 51,
     "metadata": {},
     "output_type": "execute_result"
    }
   ],
   "source": [
    "def uniqueDigitSums( arr):\n",
    "        #code here\n",
    "        ans = []\n",
    "        def digitSum(num):\n",
    "            res = []\n",
    "            while num > 0:\n",
    "                rem = num % 10\n",
    "                res.append(rem)\n",
    "                num //= 10\n",
    "            return sum(res)\n",
    "        for num in arr:\n",
    "            ds = digitSum(num)\n",
    "            ans.append(ds)\n",
    "        print(ans)\n",
    "        return len(list(set(ans)))\n",
    "uniqueDigitSums([123, 42, 45, 78, 12345])"
   ]
  },
  {
   "cell_type": "code",
   "execution_count": 1,
   "metadata": {},
   "outputs": [
    {
     "data": {
      "text/plain": [
       "0"
      ]
     },
     "execution_count": 1,
     "metadata": {},
     "output_type": "execute_result"
    }
   ],
   "source": [
    "def max_sum_pairs(arr):\n",
    "    # Step 1: Find the maximum value in the array\n",
    "    max_val = max(arr)\n",
    "    \n",
    "    # Step 2: Count the occurrences of the maximum value\n",
    "    count_max = arr.count(max_val)\n",
    "    \n",
    "    # Step 3: Calculate the number of pairs\n",
    "    num_pairs = (count_max * (count_max - 1)) // 2  # Combination formula\n",
    "    \n",
    "    return num_pairs\n",
    "max_sum_pairs([1 ,4 ,3, 3 ,5, 1])"
   ]
  },
  {
   "cell_type": "code",
   "execution_count": 1,
   "metadata": {},
   "outputs": [
    {
     "data": {
      "text/plain": [
       "[[], [3], [2], [2, 3], [1], [1, 3], [1, 2], [1, 2, 3]]"
      ]
     },
     "execution_count": 1,
     "metadata": {},
     "output_type": "execute_result"
    }
   ],
   "source": [
    "#Find all subsets of an array of nums using recursive backtracking\n",
    "def powerSets(arr):\n",
    "    n = len(arr)\n",
    "    sol,res = [], []\n",
    "\n",
    "    def backtrack(i):\n",
    "        if i == n:\n",
    "            res.append(sol[:])\n",
    "            return\n",
    "        \n",
    "        #If we dont choose to add the element at the current index\n",
    "        backtrack( i + 1)\n",
    "\n",
    "        #If we choose\n",
    "        sol.append(arr[i])\n",
    "        backtrack(i + 1)\n",
    "        sol.pop()\n",
    "    backtrack(0)\n",
    "\n",
    "    return res\n",
    "powerSets([1,2,3])"
   ]
  },
  {
   "cell_type": "code",
   "execution_count": 13,
   "metadata": {},
   "outputs": [
    {
     "data": {
      "text/plain": [
       "148"
      ]
     },
     "execution_count": 13,
     "metadata": {},
     "output_type": "execute_result"
    }
   ],
   "source": [
    "def maximumProfit(prices) -> int:\n",
    "    max_profit = 0\n",
    "    n = len(prices)\n",
    "    i = 0\n",
    "\n",
    "    while i < n - 1:\n",
    "        # Find the place to buy (local minimum)\n",
    "        while i < n-1 and prices[i] >= prices[i+ 1]:\n",
    "            i += 1\n",
    "        minp= prices[i]\n",
    "\n",
    "        # Find the place to sell (local maximum)\n",
    "        while i < n-1 and prices[i] <= prices[i + 1]:\n",
    "            i += 1\n",
    "        maxp = prices[i]\n",
    "\n",
    "        max_profit += maxp - minp\n",
    "\n",
    "    return max_profit\n",
    "\n",
    "maximumProfit([86 ,92 ,24 ,5 ,34, 72, 68 ,52, 27 ,95 ,41 ,28, 35])"
   ]
  },
  {
   "cell_type": "code",
   "execution_count": 18,
   "metadata": {},
   "outputs": [
    {
     "name": "stdout",
     "output_type": "stream",
     "text": [
      "4\n"
     ]
    }
   ],
   "source": [
    "def buyMaxProducts(price , k):\n",
    "    n = len(price)\n",
    "    #create an array of (price, day) and sort by price\n",
    "    stocks = [(price[i],i+ 1) for i in range(n)]\n",
    "    stocks.sort() #sort by price in asc order\n",
    "\n",
    "    total_stocks = 0\n",
    "    #iterate over sorted prces\n",
    "    for p,day in stocks:\n",
    "        #calculate the max stocks that can be bought for this day\n",
    "        stocks_to_buy = min(day, k//p)\n",
    "        total_stocks += stocks_to_buy\n",
    "        k -= stocks_to_buy * p #deduct the amt spend\n",
    "\n",
    "        #If no budget left stop buying\n",
    "        if k == 0:\n",
    "            break\n",
    "\n",
    "    return total_stocks\n",
    "\n",
    "price = [10, 7, 19]\n",
    "k = 45\n",
    "print(buyMaxProducts(price, k))  # Output: 4\n",
    "\n"
   ]
  },
  {
   "cell_type": "code",
   "execution_count": 21,
   "metadata": {},
   "outputs": [
    {
     "name": "stdout",
     "output_type": "stream",
     "text": [
      "4\n"
     ]
    }
   ],
   "source": [
    "def buyMaxProducts(prices,k):\n",
    "    n = len(prices)\n",
    "    stocks = [(prices[i], i+ 1) for i in range(n)]\n",
    "    stocks.sort()\n",
    "    total_stocks_bought = 0\n",
    "\n",
    "    for p,day in stocks:\n",
    "        stocks_to_buy = min(day,k//p)\n",
    "        total_stocks_bought += stocks_to_buy\n",
    "        k -= stocks_to_buy * p\n",
    "\n",
    "    return total_stocks_bought\n",
    "\n",
    "price = [10, 7, 19]\n",
    "k = 45\n",
    "print(buyMaxProducts(price, k))  # Output: 4\n"
   ]
  },
  {
   "cell_type": "code",
   "execution_count": 22,
   "metadata": {},
   "outputs": [
    {
     "data": {
      "text/plain": [
       "144"
      ]
     },
     "execution_count": 22,
     "metadata": {},
     "output_type": "execute_result"
    }
   ],
   "source": [
    "#Fibonnacci\n",
    "#time: 0(2**n)\n",
    "def Fib(n):\n",
    "    if n == 0: return 0\n",
    "    elif n == 1 : return 1\n",
    "    else: return Fib(n-1) + Fib(n-2)\n",
    "Fib(12)\n"
   ]
  },
  {
   "cell_type": "code",
   "execution_count": 23,
   "metadata": {},
   "outputs": [
    {
     "ename": "TypeError",
     "evalue": "print() got an unexpected keyword argument 'end'",
     "output_type": "error",
     "traceback": [
      "\u001b[1;31m---------------------------------------------------------------------------\u001b[0m",
      "\u001b[1;31mTypeError\u001b[0m                                 Traceback (most recent call last)",
      "Cell \u001b[1;32mIn[23], line 19\u001b[0m\n\u001b[0;32m     16\u001b[0m     \u001b[38;5;28mprint\u001b[39m(\u001b[38;5;124m\"\u001b[39m\u001b[38;5;124mNone\u001b[39m\u001b[38;5;124m\"\u001b[39m)  \u001b[38;5;66;03m# Indicating the end of the list\u001b[39;00m\n\u001b[0;32m     18\u001b[0m \u001b[38;5;66;03m# Printing the linked list\u001b[39;00m\n\u001b[1;32m---> 19\u001b[0m print_list(head)\n",
      "Cell \u001b[1;32mIn[23], line 14\u001b[0m, in \u001b[0;36mprint_list\u001b[1;34m(head)\u001b[0m\n\u001b[0;32m     12\u001b[0m \u001b[38;5;28;01mdef\u001b[39;00m \u001b[38;5;21mprint_list\u001b[39m(head):\n\u001b[0;32m     13\u001b[0m     \u001b[38;5;28;01mwhile\u001b[39;00m head:\n\u001b[1;32m---> 14\u001b[0m         \u001b[38;5;28mprint\u001b[39m(\u001b[38;5;124mf\u001b[39m\u001b[38;5;124m'\u001b[39m\u001b[38;5;132;01m{\u001b[39;00mhead\u001b[38;5;241m.\u001b[39mdata\u001b[38;5;132;01m}\u001b[39;00m\u001b[38;5;124m'\u001b[39m, end\u001b[38;5;241m=\u001b[39m\u001b[38;5;124m'\u001b[39m\u001b[38;5;124m->\u001b[39m\u001b[38;5;124m'\u001b[39m)\n\u001b[0;32m     15\u001b[0m         head \u001b[38;5;241m=\u001b[39m head\u001b[38;5;241m.\u001b[39mnext\n\u001b[0;32m     16\u001b[0m     \u001b[38;5;28mprint\u001b[39m(\u001b[38;5;124m\"\u001b[39m\u001b[38;5;124mNone\u001b[39m\u001b[38;5;124m\"\u001b[39m)\n",
      "\u001b[1;31mTypeError\u001b[0m: print() got an unexpected keyword argument 'end'"
     ]
    }
   ],
   "source": [
    "class Node:\n",
    "    def __init__(self, data):\n",
    "        self.data = data\n",
    "        self.next = None\n",
    "\n",
    "# Creating the linked list\n",
    "head = Node(4)\n",
    "head.next = Node(5)\n",
    "head.next.next = Node(6)\n",
    "\n",
    "# Function to print the linked list\n",
    "def print_list(head):\n",
    "    while head:\n",
    "        print(f'{head.data}', end='->')\n",
    "        head = head.next\n",
    "    print(\"None\")  # Indicating the end of the list\n",
    "\n",
    "# Printing the linked list\n",
    "print_list(head)\n"
   ]
  }
 ],
 "metadata": {
  "kernelspec": {
   "display_name": "base",
   "language": "python",
   "name": "python3"
  },
  "language_info": {
   "codemirror_mode": {
    "name": "ipython",
    "version": 3
   },
   "file_extension": ".py",
   "mimetype": "text/x-python",
   "name": "python",
   "nbconvert_exporter": "python",
   "pygments_lexer": "ipython3",
   "version": "3.12.7"
  }
 },
 "nbformat": 4,
 "nbformat_minor": 2
}
