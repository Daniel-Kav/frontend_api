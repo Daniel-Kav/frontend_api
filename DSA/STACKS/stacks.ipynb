{
 "cells": [
  {
   "cell_type": "code",
   "execution_count": 9,
   "metadata": {},
   "outputs": [],
   "source": [
    "class Stack:\n",
    "    def __init__(self):\n",
    "        self.items = []\n",
    "    \n",
    "    def is_empty(self):\n",
    "        return self.items == []\n",
    "\n",
    "    def push(self,item):\n",
    "        return self.items.append(item)\n",
    "    \n",
    "    def pop(self):\n",
    "        return self.items.pop()\n",
    "    \n",
    "    def peek(self):\n",
    "        return self.items[-1]\n",
    "\n",
    "    def get_stack(self):\n",
    "        return self.items\n",
    "\n",
    "\n",
    "s = Stack()"
   ]
  },
  {
   "cell_type": "code",
   "execution_count": 37,
   "metadata": {},
   "outputs": [
    {
     "data": {
      "text/plain": [
       "True"
      ]
     },
     "execution_count": 37,
     "metadata": {},
     "output_type": "execute_result"
    }
   ],
   "source": [
    "\n",
    "def is_match(p1,p2):\n",
    "    if p1 =='{' and p2 == '}':\n",
    "        return True\n",
    "    elif p1 == '[' and p2 == ']':\n",
    "        return True\n",
    "    elif p1 == '(' and p2 == ')':\n",
    "        return True\n",
    "    else:\n",
    "        return False\n",
    "    \n",
    "def balanced_parentesis(str):\n",
    "    def is_match(p1,p2):\n",
    "        if p1 =='{' and p2 == '}':\n",
    "            return True\n",
    "        elif p1 == '[' and p2 == ']':\n",
    "            return True\n",
    "        elif p1 == '(' and p2 == ')':\n",
    "            return True\n",
    "        else:\n",
    "            return False\n",
    "    \n",
    "    is_balanced = True\n",
    "    index = 0\n",
    "    stack = Stack()\n",
    "\n",
    "    while index < len(str) and is_balanced:\n",
    "        paren = str[index]\n",
    "        if paren in '{[(':\n",
    "            stack.push(paren)\n",
    "        else:\n",
    "            if stack.is_empty():\n",
    "                is_balanced = False\n",
    "            else:\n",
    "                top = stack.pop()\n",
    "                if not is_match(top,paren):\n",
    "                    is_balanced = False\n",
    "        index += 1\n",
    "    if stack.is_empty() and is_balanced:\n",
    "        return True\n",
    "    return False\n",
    "\n",
    "balanced_parentesis('{[]}')\n",
    "\n"
   ]
  },
  {
   "cell_type": "code",
   "execution_count": 42,
   "metadata": {},
   "outputs": [
    {
     "data": {
      "text/plain": [
       "False"
      ]
     },
     "execution_count": 42,
     "metadata": {},
     "output_type": "execute_result"
    }
   ],
   "source": [
    "def bal_parens(str):\n",
    "    is_balanced = True\n",
    "    index = 0\n",
    "    stack = []\n",
    "\n",
    "    while index < len(str) and is_balanced:\n",
    "        paren = str[index]\n",
    "        if paren in '{[(':\n",
    "            stack.append(paren)\n",
    "        else:\n",
    "            if not stack:\n",
    "                is_balanced = False\n",
    "            else:\n",
    "                top = stack.pop()\n",
    "                if not is_match(top,paren):\n",
    "                    is_balanced = False\n",
    "        index += 1\n",
    "    if not stack and is_balanced:\n",
    "        return True\n",
    "    return False\n",
    "\n",
    "bal_parens('([{])')\n"
   ]
  },
  {
   "cell_type": "code",
   "execution_count": 51,
   "metadata": {},
   "outputs": [
    {
     "data": {
      "text/plain": [
       "False"
      ]
     },
     "execution_count": 51,
     "metadata": {},
     "output_type": "execute_result"
    }
   ],
   "source": [
    "def bal_parens(str):\n",
    "    pairs = {'}':'{',']':'[',')':'('}\n",
    "    stack = []\n",
    "\n",
    "    for char in str:\n",
    "        if char not in pairs:\n",
    "            stack.append(char)\n",
    "        else:\n",
    "            if not stack:\n",
    "                return False\n",
    "            else:\n",
    "                top = stack.pop()\n",
    "                return pairs[char] == top\n",
    "    return not stack\n",
    "bal_parens('[{[}]')"
   ]
  },
  {
   "cell_type": "code",
   "execution_count": 57,
   "metadata": {},
   "outputs": [
    {
     "data": {
      "text/plain": [
       "[1, 0, 0, 0]"
      ]
     },
     "execution_count": 57,
     "metadata": {},
     "output_type": "execute_result"
    }
   ],
   "source": [
    "def inrement(arr,N):\n",
    "    #start looping from the end and add 1\n",
    "    carry = 1\n",
    "\n",
    "    for i in range(N-1,-1,-1):\n",
    "        arr[i] += 1\n",
    "        if arr[i] < 10:\n",
    "            return arr #If the last num is less than 10 after addition then no need for carry just return the arr\n",
    "        arr[i] = 0 #if it is 10 then reset the digit to zero and propagate the 1 the next digit\n",
    "        \n",
    "    #If we exit the loop with a carry then append 1 to the array\n",
    "    return [1] + arr\n",
    "inrement([9,9,9],3)"
   ]
  },
  {
   "cell_type": "code",
   "execution_count": 61,
   "metadata": {},
   "outputs": [
    {
     "data": {
      "text/plain": [
       "[1, 0, 0, 0]"
      ]
     },
     "execution_count": 61,
     "metadata": {},
     "output_type": "execute_result"
    }
   ],
   "source": [
    "def incr(arr,N):\n",
    "    carry = 1\n",
    "    for i in range(N-1,-1,-1):\n",
    "        arr[i] += 1\n",
    "        if arr[i] < 10:\n",
    "            return arr\n",
    "        arr[i] = 0\n",
    "    return [1] + arr\n",
    "incr([9,9,9],3)"
   ]
  },
  {
   "cell_type": "code",
   "execution_count": 71,
   "metadata": {},
   "outputs": [
    {
     "name": "stdout",
     "output_type": "stream",
     "text": [
      "[6, 3, 12, 1, 5, 8]\n"
     ]
    }
   ],
   "source": [
    "#Place even nums at even indices and vice versa\n",
    "def evenOdd(arr,N):\n",
    "    even_index = 0\n",
    "    odd_index = 1\n",
    "\n",
    "    while even_index < N and odd_index < N:\n",
    "        # If the even index already has an even number, skip to the next\n",
    "        if arr[even_index] % 2 == 0:\n",
    "            even_index += 2\n",
    "        # If the odd index already has an odd number, skip to the next\n",
    "        elif arr[odd_index] % 2 == 1:\n",
    "            odd_index += 2\n",
    "        # Otherwise, swap the odd number at even_index with the even number at odd_index\n",
    "        else:\n",
    "            arr[even_index], arr[odd_index] = arr[odd_index], arr[even_index]\n",
    "            even_index += 2\n",
    "            odd_index += 2\n",
    "    return arr\n",
    "    \n",
    "print(evenOdd([3, 6, 12, 1, 5, 8],5))"
   ]
  },
  {
   "cell_type": "code",
   "execution_count": 74,
   "metadata": {},
   "outputs": [
    {
     "name": "stdout",
     "output_type": "stream",
     "text": [
      "[6, 3, 54, 1, 5, 8]\n"
     ]
    }
   ],
   "source": [
    "def rearrange(arr,N):\n",
    "    evn = 0\n",
    "    odd = 1\n",
    "    while evn < N and odd < N:\n",
    "        if arr[evn] % 2 == 0:\n",
    "            evn += 2\n",
    "        elif arr[odd] % 2 != 0:\n",
    "            odd += 2\n",
    "        else:\n",
    "            arr[evn],arr[odd] = arr[odd],arr[evn]\n",
    "            evn += 2\n",
    "            odd += 2\n",
    "\n",
    "    return arr\n",
    "print(evenOdd([3, 6, 54, 1, 5, 8],5))\n"
   ]
  }
 ],
 "metadata": {
  "kernelspec": {
   "display_name": ".venv",
   "language": "python",
   "name": "python3"
  },
  "language_info": {
   "codemirror_mode": {
    "name": "ipython",
    "version": 3
   },
   "file_extension": ".py",
   "mimetype": "text/x-python",
   "name": "python",
   "nbconvert_exporter": "python",
   "pygments_lexer": "ipython3",
   "version": "3.12.3"
  }
 },
 "nbformat": 4,
 "nbformat_minor": 2
}
