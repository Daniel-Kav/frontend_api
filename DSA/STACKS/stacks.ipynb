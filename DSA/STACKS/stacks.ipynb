{
 "cells": [
  {
   "cell_type": "code",
   "execution_count": 9,
   "metadata": {},
   "outputs": [],
   "source": [
    "class Stack:\n",
    "    def __init__(self):\n",
    "        self.items = []\n",
    "    \n",
    "    def is_empty(self):\n",
    "        return self.items == []\n",
    "\n",
    "    def push(self,item):\n",
    "        return self.items.append(item)\n",
    "    \n",
    "    def pop(self):\n",
    "        return self.items.pop()\n",
    "    \n",
    "    def peek(self):\n",
    "        return self.items[-1]\n",
    "\n",
    "    def get_stack(self):\n",
    "        return self.items\n",
    "\n",
    "\n",
    "s = Stack()"
   ]
  },
  {
   "cell_type": "code",
   "execution_count": 28,
   "metadata": {},
   "outputs": [
    {
     "data": {
      "text/plain": [
       "True"
      ]
     },
     "execution_count": 28,
     "metadata": {},
     "output_type": "execute_result"
    }
   ],
   "source": [
    "\n",
    "def is_match(p1,p2):\n",
    "    if p1 =='{' and p2 == '}':\n",
    "        return True\n",
    "    elif p1 == '[' and p2 == ']':\n",
    "        return True\n",
    "    elif p1 == '(' and p2 == ')':\n",
    "        return True\n",
    "    else:\n",
    "        return False\n",
    "    \n",
    "def balanced_parentesis(str):\n",
    "    def is_match(p1,p2):\n",
    "        if p1 =='{' and p2 == '}':\n",
    "            return True\n",
    "        elif p1 == '[' and p2 == ']':\n",
    "            return True\n",
    "        elif p1 == '(' and p2 == ')':\n",
    "            return True\n",
    "        else:\n",
    "            return False\n",
    "    \n",
    "    is_balanced = True\n",
    "    index = 0\n",
    "    stack = Stack()\n",
    "\n",
    "    while index < len(str) and is_balanced:\n",
    "        paren = str[index]\n",
    "        if paren in '{[(':\n",
    "            stack.push(paren)\n",
    "        else:\n",
    "            if stack.is_empty():\n",
    "                is_balanced = False\n",
    "            else:\n",
    "                top = stack.pop()\n",
    "                if not is_match(top,paren):\n",
    "                    is_balanced = False\n",
    "        index += 1\n",
    "    if stack.is_empty() and is_balanced:\n",
    "        return True\n",
    "    return False\n",
    "\n",
    "balanced_parentesis('[{}]')\n",
    "\n"
   ]
  }
 ],
 "metadata": {
  "kernelspec": {
   "display_name": ".venv",
   "language": "python",
   "name": "python3"
  },
  "language_info": {
   "codemirror_mode": {
    "name": "ipython",
    "version": 3
   },
   "file_extension": ".py",
   "mimetype": "text/x-python",
   "name": "python",
   "nbconvert_exporter": "python",
   "pygments_lexer": "ipython3",
   "version": "3.12.3"
  }
 },
 "nbformat": 4,
 "nbformat_minor": 2
}
