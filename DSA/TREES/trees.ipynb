{
 "cells": [
  {
   "cell_type": "code",
   "execution_count": 8,
   "metadata": {},
   "outputs": [
    {
     "name": "stdout",
     "output_type": "stream",
     "text": [
      "Recursive Preorder Traversal:\n",
      "1 2 4 5 3 6 7 "
     ]
    }
   ],
   "source": [
    "#Recursive Preorder Tree traversal\n",
    "\n",
    "class Node:\n",
    "    def __init__(self, data):\n",
    "        self.data = data\n",
    "        self.left = None\n",
    "        self.right = None\n",
    "\n",
    "\n",
    "def preorder_recursive(root):\n",
    "    if root is None:\n",
    "        return\n",
    "    print(root.data, end=' ') #Process th current node\n",
    "    preorder_recursive(root.left) #traverse the left subtree\n",
    "    preorder_recursive(root.right) #traverse the right subtree\n",
    "\n",
    "# Example Usage\n",
    "root = Node(1)\n",
    "root.left = Node(2)\n",
    "root.right = Node(3)\n",
    "root.left.left = Node(4)\n",
    "root.left.right = Node(5)\n",
    "root.right.left = Node(6)\n",
    "root.right.right = Node(7)\n",
    "\n",
    "print(\"Recursive Preorder Traversal:\")\n",
    "preorder_recursive(root)"
   ]
  }
 ],
 "metadata": {
  "kernelspec": {
   "display_name": "base",
   "language": "python",
   "name": "python3"
  },
  "language_info": {
   "codemirror_mode": {
    "name": "ipython",
    "version": 3
   },
   "file_extension": ".py",
   "mimetype": "text/x-python",
   "name": "python",
   "nbconvert_exporter": "python",
   "pygments_lexer": "ipython3",
   "version": "3.12.7"
  }
 },
 "nbformat": 4,
 "nbformat_minor": 2
}
