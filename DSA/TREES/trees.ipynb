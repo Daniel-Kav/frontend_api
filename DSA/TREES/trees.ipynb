{
 "cells": [
  {
   "cell_type": "code",
   "execution_count": 9,
   "metadata": {},
   "outputs": [
    {
     "name": "stdout",
     "output_type": "stream",
     "text": [
      "Recursive Preorder Traversal:\n",
      "1 2 4 5 3 6 7 "
     ]
    }
   ],
   "source": [
    "#Recursive Preorder Tree traversal\n",
    "\n",
    "class Node:\n",
    "    def __init__(self, data):\n",
    "        self.data = data\n",
    "        self.left = None\n",
    "        self.right = None\n",
    "\n",
    "\n",
    "def preorder_recursive(root):\n",
    "    if root is None:\n",
    "        return\n",
    "    print(root.data, end=' ') #Process th current node\n",
    "    preorder_recursive(root.left) #traverse the left subtree\n",
    "    preorder_recursive(root.right) #traverse the right subtree\n",
    "\n",
    "# Example Usage\n",
    "root = Node(1)\n",
    "root.left = Node(2)\n",
    "root.right = Node(3)\n",
    "root.left.left = Node(4)\n",
    "root.left.right = Node(5)\n",
    "root.right.left = Node(6)\n",
    "root.right.right = Node(7)\n",
    "\n",
    "print(\"Recursive Preorder Traversal:\")\n",
    "preorder_recursive(root)"
   ]
  },
  {
   "cell_type": "code",
   "execution_count": 11,
   "metadata": {},
   "outputs": [
    {
     "name": "stdout",
     "output_type": "stream",
     "text": [
      "\n",
      "Iterative Preorder Traversal:\n",
      "1 2 4 5 3 6 7 "
     ]
    }
   ],
   "source": [
    "#Iterative Preorder Tree traversal\n",
    "def preorder_iterative(root):\n",
    "    if not root:\n",
    "        return\n",
    "    stack = [root]\n",
    "\n",
    "    while stack:\n",
    "        current = stack.pop()\n",
    "        print(current.data, end=\" \") #process the current node\n",
    "\n",
    "        if current.right:\n",
    "            stack.append(current.right) #push the right child\n",
    "        if current.left:\n",
    "            stack.append(current.left) #push the left child\n",
    "\n",
    "# Example Usage\n",
    "root = Node(1)\n",
    "root.left = Node(2)\n",
    "root.right = Node(3)\n",
    "root.left.left = Node(4)\n",
    "root.left.right = Node(5)\n",
    "root.right.left = Node(6)\n",
    "root.right.right = Node(7)\n",
    "print(\"\\nIterative Preorder Traversal:\")\n",
    "preorder_iterative(root)\n"
   ]
  },
  {
   "cell_type": "code",
   "execution_count": 17,
   "metadata": {},
   "outputs": [
    {
     "name": "stdout",
     "output_type": "stream",
     "text": [
      "[10, 20, 40, 50, 30, 60]\n"
     ]
    }
   ],
   "source": [
    "def tree(root):\n",
    "    res = []\n",
    "    stack = [root]\n",
    "    if not root:\n",
    "        return\n",
    "\n",
    "    while stack:\n",
    "        curr = stack.pop()\n",
    "        res.append(curr.data)\n",
    "        if curr.right:\n",
    "            stack.append(curr.right)\n",
    "        if curr.left:\n",
    "            stack.append(curr.left)\n",
    "    return res\n",
    "\n",
    "root = Node(10)\n",
    "root.left = Node(20)\n",
    "root.right = Node(30)\n",
    "root.left.left = Node(40)\n",
    "root.left.right = Node(50)\n",
    "root.right.left = Node(60)\n",
    "print(tree(root))"
   ]
  },
  {
   "cell_type": "code",
   "execution_count": 22,
   "metadata": {},
   "outputs": [
    {
     "name": "stdout",
     "output_type": "stream",
     "text": [
      "Recursive Inorder Traversal:\n",
      "40 20 50 10 60 30 70 "
     ]
    }
   ],
   "source": [
    "# Recursive Inorder Traversal:\n",
    "\n",
    "class Node:\n",
    "    def __init__(self, value):\n",
    "        self.value = value\n",
    "        self.left = None\n",
    "        self.right = None\n",
    "def inorder_recursive(root):\n",
    "    if not root:\n",
    "        return\n",
    "    inorder_recursive(root.left) #Traverse the left subtree\n",
    "    print(root.value, end=\" \") # Process the current node\n",
    "    inorder_recursive(root.right) #traverse the right subtree\n",
    "\n",
    "root = Node(10)\n",
    "root.left = Node(20)\n",
    "root.right = Node(30)\n",
    "root.left.left = Node(40)\n",
    "root.left.right = Node(50)\n",
    "root.right.left = Node(60)\n",
    "root.right.right = Node(70)\n",
    "\n",
    "print(\"Recursive Inorder Traversal:\")\n",
    "inorder_recursive(root)\n"
   ]
  },
  {
   "cell_type": "code",
   "execution_count": 27,
   "metadata": {},
   "outputs": [
    {
     "name": "stdout",
     "output_type": "stream",
     "text": [
      "\n",
      "Iterative Inorder Traversal:\n",
      "40 20 50 10 60 30 70 "
     ]
    }
   ],
   "source": [
    "def inorder_iterative(root):\n",
    "    stack = []\n",
    "    current = root\n",
    "    while stack or current:\n",
    "        #Traverse to the leftmost node\n",
    "        while current:\n",
    "            stack.append(current)\n",
    "            current = current.left\n",
    "        \n",
    "        #Process the node at the top of the stack\n",
    "        current = stack.pop()\n",
    "        print(current.value,end=\" \")\n",
    "\n",
    "        #Move to the right subtree\n",
    "        current = current.right\n",
    "\n",
    "\n",
    "root = Node(10)\n",
    "root.left = Node(20)\n",
    "root.right = Node(30)\n",
    "root.left.left = Node(40)\n",
    "root.left.right = Node(50)\n",
    "root.right.left = Node(60)\n",
    "root.right.right = Node(70)\n",
    "\n",
    "print(\"\\nIterative Inorder Traversal:\")\n",
    "inorder_iterative(root)"
   ]
  },
  {
   "cell_type": "code",
   "execution_count": 30,
   "metadata": {},
   "outputs": [
    {
     "name": "stdout",
     "output_type": "stream",
     "text": [
      "\n",
      "Iterative Inorder Traversal:\n",
      "40 20 50 10 60 30 "
     ]
    }
   ],
   "source": [
    "# Write a function that takes the root of a binary tree and returns a list of its inorder traversal.\n",
    "def traverse(node):\n",
    "    stk = []\n",
    "    curr = node\n",
    "\n",
    "    while stk or curr:\n",
    "        while curr:\n",
    "            stk.append(curr)\n",
    "            curr = curr.left\n",
    "        curr =stk.pop()\n",
    "        print(curr.value, end=\" \")\n",
    "        curr = curr.right\n",
    "root = Node(10)\n",
    "root.left = Node(20)\n",
    "root.right = Node(30)\n",
    "root.left.left = Node(40)\n",
    "root.left.right = Node(50)\n",
    "root.right.left = Node(60)\n",
    "\n",
    "print(\"\\nIterative Inorder Traversal:\")\n",
    "traverse(root)"
   ]
  },
  {
   "cell_type": "code",
   "execution_count": 33,
   "metadata": {},
   "outputs": [
    {
     "name": "stdout",
     "output_type": "stream",
     "text": [
      "Recursive Postorder Traversal:\n",
      "4 5 2 6 7 3 1 "
     ]
    }
   ],
   "source": [
    "class Node:\n",
    "    def __init__(self, value):\n",
    "        self.value = value\n",
    "        self.left = None\n",
    "        self.right = None\n",
    "\n",
    "def postorder_recursive(root):\n",
    "    if root is None:\n",
    "        return\n",
    "    postorder_recursive(root.left)  # Traverse the left subtree\n",
    "    postorder_recursive(root.right)  # Traverse the right subtree\n",
    "    print(root.value, end=\" \")      # Process the current node\n",
    "\n",
    "# Example Usage\n",
    "root = Node(1)\n",
    "root.left = Node(2)\n",
    "root.right = Node(3)\n",
    "root.left.left = Node(4)\n",
    "root.left.right = Node(5)\n",
    "root.right.left = Node(6)\n",
    "root.right.right = Node(7)\n",
    "\n",
    "print(\"Recursive Postorder Traversal:\")\n",
    "postorder_recursive(root)\n"
   ]
  },
  {
   "cell_type": "code",
   "execution_count": 35,
   "metadata": {},
   "outputs": [
    {
     "name": "stdout",
     "output_type": "stream",
     "text": [
      "\n",
      "Iterative Postorder Traversal (Two Stacks):\n",
      "4 5 2 6 7 3 1 "
     ]
    }
   ],
   "source": [
    "def postorder_iterative(root):\n",
    "    if not root: \n",
    "        return\n",
    "    stk1 = [root]\n",
    "    stk2 =[]\n",
    "\n",
    "    while stk1:\n",
    "        current = stk1.pop()\n",
    "        stk2.append(current)\n",
    "\n",
    "        if current.left:\n",
    "            stk1.append(current.left)\n",
    "        if current.right:\n",
    "            stk1.append(current.right)\n",
    "    \n",
    "    while stk2:\n",
    "        print(stk2.pop().value, end=' ')\n",
    "\n",
    "\n",
    "# Example Usage\n",
    "root = Node(1)\n",
    "root.left = Node(2)\n",
    "root.right = Node(3)\n",
    "root.left.left = Node(4)\n",
    "root.left.right = Node(5)\n",
    "root.right.left = Node(6)\n",
    "root.right.right = Node(7)\n",
    "print(\"\\nIterative Postorder Traversal (Two Stacks):\")\n",
    "postorder_iterative(root)"
   ]
  },
  {
   "cell_type": "code",
   "execution_count": 1,
   "metadata": {},
   "outputs": [
    {
     "name": "stdout",
     "output_type": "stream",
     "text": [
      "3\n"
     ]
    }
   ],
   "source": [
    "class Node:\n",
    "    def __init__(self, value):\n",
    "        self.value = value\n",
    "        self.left = None\n",
    "        self.right = None\n",
    "\n",
    "def diameterOfBinaryTree(root: Node):\n",
    "    diameter = 0\n",
    "\n",
    "    def height(node):\n",
    "\n",
    "        nonlocal diameter\n",
    "        if not node:\n",
    "            return 0\n",
    "        \n",
    "        left_height = height(node.left)\n",
    "        right_height = height(node.right)\n",
    "\n",
    "        diameter = max(diameter, left_height + right_height)\n",
    "\n",
    "        return 1 + max(left_height,right_height)\n",
    "    \n",
    "    height(root)\n",
    "    return diameter\n",
    "\n",
    "# Example Usage\n",
    "root = Node(1)\n",
    "root.left = Node(2)\n",
    "root.right = Node(3)\n",
    "root.left.left = Node(4)\n",
    "root.left.right = Node(5)\n",
    "\n",
    "print(diameterOfBinaryTree(root)) # Output: 3\n",
    "    \n",
    "\n",
    "\n"
   ]
  }
 ],
 "metadata": {
  "kernelspec": {
   "display_name": "base",
   "language": "python",
   "name": "python3"
  },
  "language_info": {
   "codemirror_mode": {
    "name": "ipython",
    "version": 3
   },
   "file_extension": ".py",
   "mimetype": "text/x-python",
   "name": "python",
   "nbconvert_exporter": "python",
   "pygments_lexer": "ipython3",
   "version": "3.12.7"
  }
 },
 "nbformat": 4,
 "nbformat_minor": 2
}
