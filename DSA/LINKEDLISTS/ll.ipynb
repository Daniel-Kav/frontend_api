{
 "cells": [
  {
   "cell_type": "markdown",
   "metadata": {},
   "source": [
    "linked lists\n"
   ]
  },
  {
   "cell_type": "code",
   "execution_count": 6,
   "metadata": {},
   "outputs": [
    {
     "name": "stdout",
     "output_type": "stream",
     "text": [
      "20 -> 2 -> 3 -> 4 -> 5 -> 6 -> "
     ]
    }
   ],
   "source": [
    "class Node :\n",
    "    def __init__(self, data: None):\n",
    "        self.data = data\n",
    "        self.next = None\n",
    "\n",
    "def insert_at_begining(head, data):\n",
    "    #create a new node with the provided data\n",
    "    new_node = Node(data)\n",
    "    #make the new node next point to the current head\n",
    "    new_node.next = head\n",
    "\n",
    "    #return the new node as the head\n",
    "    return new_node\n",
    "\n",
    "def print_list(head):\n",
    "    curr = head\n",
    "\n",
    "    while curr is not None:\n",
    "        print(f\"{curr.data}\",end=\" -> \")\n",
    "        curr = curr.next\n",
    "\n",
    "if __name__ == \"__main__\":\n",
    "    head = Node(2)\n",
    "    head.next = Node(3)\n",
    "    head.next.next = Node(4)\n",
    "    head.next.next.next = Node(5)\n",
    "    head.next.next.next.next = Node(6)\n",
    "\n",
    "    data = 20\n",
    "    list = insert_at_begining(head, data)\n",
    "    print_list(list)\n"
   ]
  },
  {
   "cell_type": "code",
   "execution_count": 8,
   "metadata": {},
   "outputs": [
    {
     "name": "stdout",
     "output_type": "stream",
     "text": [
      "20-->2-->3-->4-->5-->6-->"
     ]
    }
   ],
   "source": [
    "class Node:\n",
    "    def __init__(self, data):\n",
    "        self.data = data\n",
    "        self.next = None\n",
    "\n",
    "def insert_at_begining(head, data):\n",
    "    new_node = Node(data)\n",
    "    new_node.next = head\n",
    "\n",
    "    return new_node\n",
    "\n",
    "def print_list(head):\n",
    "    curr = head\n",
    "\n",
    "    while curr is not None:\n",
    "        print(f'{curr.data}', end = '-->')\n",
    "        curr = curr.next\n",
    "\n",
    "if __name__ == \"__main__\":\n",
    "    head = Node(2)\n",
    "    head.next = Node(3)\n",
    "    head.next.next = Node(4)\n",
    "    head.next.next.next = Node(5)\n",
    "    head.next.next.next.next = Node(6)\n",
    "\n",
    "    data = 20\n",
    "    list = insert_at_begining(head, data)\n",
    "    print_list(list)\n",
    "\n",
    "        "
   ]
  },
  {
   "cell_type": "markdown",
   "metadata": {},
   "source": [
    "inserting at a given node on  a linked list"
   ]
  },
  {
   "cell_type": "code",
   "execution_count": 18,
   "metadata": {},
   "outputs": [
    {
     "name": "stdout",
     "output_type": "stream",
     "text": [
      "2 - -> 3 - -> 400 - -> 5 - -> 6 - -> \n"
     ]
    }
   ],
   "source": [
    "# Python Program to Insert a Node after a \n",
    "# Given Node in Linked List\n",
    "class Node:\n",
    "    def __init__(self, data):\n",
    "        self.data = data\n",
    "        self.next = None\n",
    "\n",
    "# Function to insert a new node after a given node\n",
    "def insertAfter(head, key, newData):\n",
    "    curr = head\n",
    "\n",
    "    # Iterate over Linked List to find the key\n",
    "    while curr is not None:\n",
    "        if curr.data == key:\n",
    "            break\n",
    "        curr = curr.next\n",
    "\n",
    "    # if curr becomes None means, given key is\n",
    "    # not found in linked list\n",
    "    if curr is None:\n",
    "        return head\n",
    "\n",
    "    # Allocate new node by given data and point\n",
    "    # the next of newNode to curr's next &\n",
    "    # point current next to newNode\n",
    "    newNode = Node(newData)\n",
    "    newNode.next = curr.next\n",
    "    curr.next = newNode\n",
    "    return head\n",
    "\n",
    "def printList(node):\n",
    "    while node is not None:\n",
    "        print(node.data, end=\" - -> \")\n",
    "        node = node.next\n",
    "    print()\n",
    "\n",
    "\n",
    "if __name__ == \"__main__\":\n",
    "  \n",
    "    # Create the linked list 2->3->5->6\n",
    "    head = Node(2)\n",
    "    head.next = Node(3)\n",
    "    head.next.next = Node(5)\n",
    "    head.next.next.next = Node(6)\n",
    "\n",
    "    key = 3\n",
    "    newData = 400\n",
    "    head = insertAfter(head, key, newData)\n",
    "\n",
    "    printList(head)\n"
   ]
  },
  {
   "cell_type": "code",
   "execution_count": 20,
   "metadata": {},
   "outputs": [
    {
     "name": "stdout",
     "output_type": "stream",
     "text": [
      "1 -->2 -->3 -->4 -->5 -->"
     ]
    }
   ],
   "source": [
    "class Node:\n",
    "    def __init__(self,data):\n",
    "        self.data = data\n",
    "        self.next = None\n",
    "\n",
    "def insertAfter(head,key,newData):\n",
    "    current = head \n",
    "    while current is not None:\n",
    "        if current.data == key:\n",
    "            break\n",
    "        current = current.next\n",
    "    if current is None:\n",
    "        return head\n",
    "    \n",
    "    newNode = Node(newData)\n",
    "    newNode.next = current.next\n",
    "    current.next = newNode\n",
    "\n",
    "    return head\n",
    "\n",
    "def print_list(head):\n",
    "    curr = head\n",
    "    while curr is not None:\n",
    "        print(f'{curr.data}', end=' -->')\n",
    "        curr = curr.next\n",
    "\n",
    "if __name__ == '__main__':\n",
    "    head = Node(1)\n",
    "    head.next = Node(2)\n",
    "    head.next.next = Node(4)\n",
    "    head.next.next.next = Node(5)\n",
    "\n",
    "    newData = 3\n",
    "    key = 2\n",
    "\n",
    "    list = insertAfter(head,key,newData)\n",
    "    print_list(list)"
   ]
  },
  {
   "cell_type": "code",
   "execution_count": 25,
   "metadata": {},
   "outputs": [
    {
     "name": "stdout",
     "output_type": "stream",
     "text": [
      "10 --> 20 --> 30 --> 40 --> 50 --> 60 --> "
     ]
    }
   ],
   "source": [
    "class Node:\n",
    "    def __init__(self,data):\n",
    "        self.data = data\n",
    "        self.next = None\n",
    "\n",
    "def insert_after(head,key,new_data):\n",
    "    curr = head \n",
    "    while curr is not None:\n",
    "        if curr.data == key:\n",
    "            break\n",
    "        curr = curr.next\n",
    "    if curr is None:\n",
    "        return head\n",
    "    \n",
    "    new_node = Node(new_data)\n",
    "    new_node.next = curr.next\n",
    "    curr.next = new_node\n",
    "    return head\n",
    "\n",
    "def print_list(head):\n",
    "    curr = head\n",
    "    while curr is not None:\n",
    "        print(f'{curr.data}',end=' --> ')\n",
    "        curr = curr.next\n",
    "\n",
    "if __name__ == '__main__':\n",
    "    head = Node(10)\n",
    "    head.next = Node(20)\n",
    "    head.next.next = Node(30)\n",
    "    head.next.next.next = Node(40)\n",
    "    head.next.next.next.next = Node(60)\n",
    "\n",
    "    new_data = 50\n",
    "    key = 40\n",
    "    linkedlist = insert_after(head,key,new_data)\n",
    "    print_list(linkedlist)"
   ]
  }
 ],
 "metadata": {
  "kernelspec": {
   "display_name": "base",
   "language": "python",
   "name": "python3"
  },
  "language_info": {
   "codemirror_mode": {
    "name": "ipython",
    "version": 3
   },
   "file_extension": ".py",
   "mimetype": "text/x-python",
   "name": "python",
   "nbconvert_exporter": "python",
   "pygments_lexer": "ipython3",
   "version": "3.12.4"
  }
 },
 "nbformat": 4,
 "nbformat_minor": 2
}
