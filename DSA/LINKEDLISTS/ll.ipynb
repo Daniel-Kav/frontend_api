{
 "cells": [
  {
   "cell_type": "markdown",
   "metadata": {},
   "source": [
    "linked lists\n"
   ]
  },
  {
   "cell_type": "code",
   "execution_count": 6,
   "metadata": {},
   "outputs": [
    {
     "name": "stdout",
     "output_type": "stream",
     "text": [
      "20 -> 2 -> 3 -> 4 -> 5 -> 6 -> "
     ]
    }
   ],
   "source": [
    "class Node :\n",
    "    def __init__(self, data: None):\n",
    "        self.data = data\n",
    "        self.next = None\n",
    "\n",
    "def insert_at_begining(head, data):\n",
    "    #create a new node with the provided data\n",
    "    new_node = Node(data)\n",
    "    #make the new node next point to the current head\n",
    "    new_node.next = head\n",
    "\n",
    "    #return the new node as the head\n",
    "    return new_node\n",
    "\n",
    "def print_list(head):\n",
    "    curr = head\n",
    "\n",
    "    while curr is not None:\n",
    "        print(f\"{curr.data}\",end=\" -> \")\n",
    "        curr = curr.next\n",
    "\n",
    "if __name__ == \"__main__\":\n",
    "    head = Node(2)\n",
    "    head.next = Node(3)\n",
    "    head.next.next = Node(4)\n",
    "    head.next.next.next = Node(5)\n",
    "    head.next.next.next.next = Node(6)\n",
    "\n",
    "    data = 20\n",
    "    list = insert_at_begining(head, data)\n",
    "    print_list(list)\n"
   ]
  }
 ],
 "metadata": {
  "kernelspec": {
   "display_name": "base",
   "language": "python",
   "name": "python3"
  },
  "language_info": {
   "codemirror_mode": {
    "name": "ipython",
    "version": 3
   },
   "file_extension": ".py",
   "mimetype": "text/x-python",
   "name": "python",
   "nbconvert_exporter": "python",
   "pygments_lexer": "ipython3",
   "version": "3.12.4"
  }
 },
 "nbformat": 4,
 "nbformat_minor": 2
}
