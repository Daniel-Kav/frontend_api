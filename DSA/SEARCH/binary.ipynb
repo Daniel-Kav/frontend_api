{
 "cells": [
  {
   "cell_type": "code",
   "execution_count": 4,
   "metadata": {},
   "outputs": [
    {
     "data": {
      "text/plain": [
       "True"
      ]
     },
     "execution_count": 4,
     "metadata": {},
     "output_type": "execute_result"
    }
   ],
   "source": [
    "def binarySearch(arr,target):\n",
    "    n = len(arr)\n",
    "    l,r = 0,n-1\n",
    "\n",
    "    while l <= r:\n",
    "        middle = l + ((r-l)// 2)\n",
    "        if target == arr[middle]:\n",
    "            return True\n",
    "        elif target > arr[middle]:\n",
    "            l = middle + 1\n",
    "        else:\n",
    "            r = middle - 1\n",
    "    return False\n",
    "\n",
    "binarySearch([1,2,3,4,5,6],2)"
   ]
  }
 ],
 "metadata": {
  "kernelspec": {
   "display_name": "base",
   "language": "python",
   "name": "python3"
  },
  "language_info": {
   "codemirror_mode": {
    "name": "ipython",
    "version": 3
   },
   "file_extension": ".py",
   "mimetype": "text/x-python",
   "name": "python",
   "nbconvert_exporter": "python",
   "pygments_lexer": "ipython3",
   "version": "3.12.7"
  }
 },
 "nbformat": 4,
 "nbformat_minor": 2
}
