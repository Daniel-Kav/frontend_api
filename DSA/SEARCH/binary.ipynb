{
 "cells": [
  {
   "cell_type": "code",
   "execution_count": 5,
   "metadata": {},
   "outputs": [
    {
     "data": {
      "text/plain": [
       "True"
      ]
     },
     "execution_count": 5,
     "metadata": {},
     "output_type": "execute_result"
    }
   ],
   "source": [
    "#Time complexity O(log n)\n",
    "#space - O(1)\n",
    "\n",
    "def binarySearch(arr,target):\n",
    "    n = len(arr)\n",
    "    l,r = 0,n-1\n",
    "\n",
    "    while l <= r:\n",
    "        middle = l + ((r-l)// 2)\n",
    "        if target == arr[middle]:\n",
    "            return True\n",
    "        elif target > arr[middle]:\n",
    "            l = middle + 1\n",
    "        else:\n",
    "            r = middle - 1\n",
    "    return False\n",
    "\n",
    "binarySearch([1,2,3,4,5,6],2)"
   ]
  },
  {
   "cell_type": "code",
   "execution_count": 9,
   "metadata": {},
   "outputs": [
    {
     "name": "stdout",
     "output_type": "stream",
     "text": [
      "2\n"
     ]
    }
   ],
   "source": [
    "#Conditio based binary search\n",
    "def condition_binary_search(arr):\n",
    "    N = len(arr)\n",
    "    L, R = 0, N - 1\n",
    "\n",
    "    while L < R:\n",
    "        M = L + (R - L) // 2\n",
    "        if arr[M]:  # If True, the first False is to the right\n",
    "            L = M + 1\n",
    "        else:  # If False, continue searching to the left\n",
    "            R = M\n",
    "    return L if not arr[L] else -1  # Return the index or -1 if all are True\n",
    "\n",
    "# Testing the function\n",
    "print(condition_binary_search([True, True, False, False, False]))  # Expected output: 2"
   ]
  },
  {
   "cell_type": "code",
   "execution_count": 18,
   "metadata": {},
   "outputs": [
    {
     "name": "stdout",
     "output_type": "stream",
     "text": [
      "3\n",
      "-1\n",
      "0\n"
     ]
    }
   ],
   "source": [
    "# Given a sorted array arr and an integer k, find the position(0-based indexing) at which k is present in the array using binary search.\n",
    "def binary_search(arr, k):\n",
    "    L, R = 0, len(arr) - 1\n",
    "    result = -1  # Store the smallest index of k\n",
    "\n",
    "    while L <= R:\n",
    "        M = L + (R - L) // 2  # Avoid overflow\n",
    "        if arr[M] == k:\n",
    "            result = M  # Found `k`, update result\n",
    "            R = M - 1  # Continue searching left for the smallest index\n",
    "        elif arr[M] < k:\n",
    "            L = M + 1  # Search right\n",
    "        else:\n",
    "            R = M - 1  # Search left\n",
    "\n",
    "    return result\n",
    "\n",
    "# Test cases\n",
    "print(binary_search([1, 2, 3, 4, 5], 4))  # Output: 3\n",
    "print(binary_search([11, 22, 33, 44, 55], 445))  # Output: -1\n",
    "print(binary_search([1, 1, 1, 1, 2], 1))  # Output: 0\n",
    "\n"
   ]
  },
  {
   "cell_type": "code",
   "execution_count": 36,
   "metadata": {},
   "outputs": [
    {
     "data": {
      "text/plain": [
       "([2, 1], [-1, -2, 2, 1])"
      ]
     },
     "execution_count": 36,
     "metadata": {},
     "output_type": "execute_result"
    }
   ],
   "source": [
    "\n",
    "from collections import defaultdict\n",
    "\n",
    "def twoRepeated(n,arr):\n",
    "    result = []\n",
    "    for num in arr:\n",
    "        abs_num = abs(num)  # Use absolute value to get the original number\n",
    "        if arr[abs_num - 1] < 0:\n",
    "            result.append(abs_num)  # The number is repeated\n",
    "        else:\n",
    "            arr[abs_num - 1] = -arr[abs_num - 1]  # Mark the index as visited\n",
    "\n",
    "    return result,arr\n",
    "\n",
    "n = 2\n",
    "arr = [1, 2, 2, 1]\n",
    "twoRepeated(n,arr)"
   ]
  },
  {
   "cell_type": "code",
   "execution_count": 39,
   "metadata": {},
   "outputs": [
    {
     "data": {
      "text/plain": [
       "[2, 1]"
      ]
     },
     "execution_count": 39,
     "metadata": {},
     "output_type": "execute_result"
    }
   ],
   "source": [
    "def twoRep(n,arr):\n",
    "    res = []\n",
    "\n",
    "    for num in arr:\n",
    "        abs_num = abs(num)\n",
    "        if arr[abs_num - 1] < 0:\n",
    "            res.append(abs_num)\n",
    "        else:\n",
    "            arr[abs_num - 1] = -arr[abs_num -1]\n",
    "    return res\n",
    "n = 2\n",
    "arr = [1, 2, 2, 1]\n",
    "twoRep(n,arr)"
   ]
  },
  {
   "cell_type": "code",
   "execution_count": 44,
   "metadata": {},
   "outputs": [
    {
     "data": {
      "text/plain": [
       "3"
      ]
     },
     "execution_count": 44,
     "metadata": {},
     "output_type": "execute_result"
    }
   ],
   "source": [
    "\n",
    "def perfectSquare(n):\n",
    "    dp = [i for i in range(n+ 1)]\n",
    "\n",
    "    for i in range(n+ 1):\n",
    "        j = 1\n",
    "        while j * j <= i:\n",
    "            dp[i] = min(dp[i], dp[i - (j*j)] + 1)\n",
    "            j += 1\n",
    "    return dp[-1]\n",
    "\n",
    "perfectSquare(12)\n"
   ]
  },
  {
   "cell_type": "code",
   "execution_count": 48,
   "metadata": {},
   "outputs": [
    {
     "data": {
      "text/plain": [
       "3"
      ]
     },
     "execution_count": 48,
     "metadata": {},
     "output_type": "execute_result"
    }
   ],
   "source": [
    "def perfectSqr(num):\n",
    "    dp = [i for i in range(num+ 1)]\n",
    "\n",
    "    for i in range(num+ 1):\n",
    "        j = 1\n",
    "        while j * j <= i:\n",
    "            dp[i] = min(dp[i], dp[i - (j*j)] + 1)\n",
    "            j += 1\n",
    "    return dp[-1]\n",
    "perfectSqr(12)"
   ]
  },
  {
   "cell_type": "code",
   "execution_count": 51,
   "metadata": {},
   "outputs": [
    {
     "data": {
      "text/plain": [
       "True"
      ]
     },
     "execution_count": 51,
     "metadata": {},
     "output_type": "execute_result"
    }
   ],
   "source": [
    "def containsDups(arr,k):\n",
    "    window = set()\n",
    "    left = 0\n",
    "\n",
    "    for right in range(len(arr)):\n",
    "        if right - left > k:\n",
    "            window.remove(arr[left])\n",
    "            left += 1\n",
    "        if arr[right] in window:\n",
    "            return True\n",
    "        window.add(arr[right])\n",
    "    return False\n",
    "\n",
    "nums = [1,2,3,1]\n",
    "k = 3\n",
    "containsDups(nums,k)"
   ]
  },
  {
   "cell_type": "code",
   "execution_count": 83,
   "metadata": {},
   "outputs": [
    {
     "data": {
      "text/plain": [
       "True"
      ]
     },
     "execution_count": 83,
     "metadata": {},
     "output_type": "execute_result"
    }
   ],
   "source": [
    "from sortedcontainers import SortedList\n",
    "\n",
    "def containsNearbyAlmostDuplicate(nums, indexDiff: int, valueDiff: int) -> bool:\n",
    "    window = SortedList()\n",
    "\n",
    "    for i in range(len(nums)):\n",
    "        if i > indexDiff:\n",
    "            window.remove(nums[i - indexDiff - 1])\n",
    "        pos = window.bisect_left(nums[i] - valueDiff)\n",
    "        if pos < len(window) and abs(window[pos] - nums[i]) <= valueDiff:\n",
    "            return True\n",
    "        window.add(nums[i])\n",
    "    return False\n",
    "nums = [8,7,15,1,6,1,9,15]\n",
    "indexDiff = 1\n",
    "valueDiff = 3\n",
    "containsNearbyAlmostDuplicate(nums, indexDiff, valueDiff)\n"
   ]
  },
  {
   "cell_type": "code",
   "execution_count": 97,
   "metadata": {},
   "outputs": [
    {
     "data": {
      "text/plain": [
       "4"
      ]
     },
     "execution_count": 97,
     "metadata": {},
     "output_type": "execute_result"
    }
   ],
   "source": [
    "def countPrimes(n):\n",
    "    res = []\n",
    "    def isprimeNum(num):\n",
    "        for i in range(2,int((num ** 0.5) + 1)):\n",
    "            if num % i == 0:\n",
    "                return False\n",
    "        return True\n",
    "    for i in range(2,n):\n",
    "        if isprimeNum(i):\n",
    "            res.append(i)\n",
    "    return len(res)\n",
    "countPrimes(10)"
   ]
  },
  {
   "cell_type": "code",
   "execution_count": 100,
   "metadata": {},
   "outputs": [
    {
     "data": {
      "text/plain": [
       "4"
      ]
     },
     "execution_count": 100,
     "metadata": {},
     "output_type": "execute_result"
    }
   ],
   "source": [
    "def countPrimes(n):\n",
    "    if n < 2 :\n",
    "        return 0\n",
    "    \n",
    "    #initialize a boolean array to track primes\n",
    "    isPrime = [True] * n\n",
    "    isPrime[0] = isPrime[1] = False # since zero and 1 are not prime numbers\n",
    "\n",
    "    #start marking multiples of each number\n",
    "    for i in range(2, int(n ** 0.5) + 1):\n",
    "        if isPrime[i]:\n",
    "            for j in range(i * i, n,i):\n",
    "                isPrime[j] = False\n",
    "    return sum(isPrime) # count the primes\n",
    "\n",
    "countPrimes(10)\n",
    "\n"
   ]
  }
 ],
 "metadata": {
  "kernelspec": {
   "display_name": "base",
   "language": "python",
   "name": "python3"
  },
  "language_info": {
   "codemirror_mode": {
    "name": "ipython",
    "version": 3
   },
   "file_extension": ".py",
   "mimetype": "text/x-python",
   "name": "python",
   "nbconvert_exporter": "python",
   "pygments_lexer": "ipython3",
   "version": "3.12.7"
  }
 },
 "nbformat": 4,
 "nbformat_minor": 2
}
