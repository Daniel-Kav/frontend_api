{
 "cells": [
  {
   "cell_type": "code",
   "execution_count": 5,
   "metadata": {},
   "outputs": [
    {
     "data": {
      "text/plain": [
       "True"
      ]
     },
     "execution_count": 5,
     "metadata": {},
     "output_type": "execute_result"
    }
   ],
   "source": [
    "#Time complexity O(log n)\n",
    "#space - O(1)\n",
    "\n",
    "def binarySearch(arr,target):\n",
    "    n = len(arr)\n",
    "    l,r = 0,n-1\n",
    "\n",
    "    while l <= r:\n",
    "        middle = l + ((r-l)// 2)\n",
    "        if target == arr[middle]:\n",
    "            return True\n",
    "        elif target > arr[middle]:\n",
    "            l = middle + 1\n",
    "        else:\n",
    "            r = middle - 1\n",
    "    return False\n",
    "\n",
    "binarySearch([1,2,3,4,5,6],2)"
   ]
  },
  {
   "cell_type": "code",
   "execution_count": 9,
   "metadata": {},
   "outputs": [
    {
     "name": "stdout",
     "output_type": "stream",
     "text": [
      "2\n"
     ]
    }
   ],
   "source": [
    "#Conditio based binary search\n",
    "def condition_binary_search(arr):\n",
    "    N = len(arr)\n",
    "    L, R = 0, N - 1\n",
    "\n",
    "    while L < R:\n",
    "        M = L + (R - L) // 2\n",
    "        if arr[M]:  # If True, the first False is to the right\n",
    "            L = M + 1\n",
    "        else:  # If False, continue searching to the left\n",
    "            R = M\n",
    "    return L if not arr[L] else -1  # Return the index or -1 if all are True\n",
    "\n",
    "# Testing the function\n",
    "print(condition_binary_search([True, True, False, False, False]))  # Expected output: 2"
   ]
  },
  {
   "cell_type": "code",
   "execution_count": 18,
   "metadata": {},
   "outputs": [
    {
     "name": "stdout",
     "output_type": "stream",
     "text": [
      "3\n",
      "-1\n",
      "0\n"
     ]
    }
   ],
   "source": [
    "# Given a sorted array arr and an integer k, find the position(0-based indexing) at which k is present in the array using binary search.\n",
    "def binary_search(arr, k):\n",
    "    L, R = 0, len(arr) - 1\n",
    "    result = -1  # Store the smallest index of k\n",
    "\n",
    "    while L <= R:\n",
    "        M = L + (R - L) // 2  # Avoid overflow\n",
    "        if arr[M] == k:\n",
    "            result = M  # Found `k`, update result\n",
    "            R = M - 1  # Continue searching left for the smallest index\n",
    "        elif arr[M] < k:\n",
    "            L = M + 1  # Search right\n",
    "        else:\n",
    "            R = M - 1  # Search left\n",
    "\n",
    "    return result\n",
    "\n",
    "# Test cases\n",
    "print(binary_search([1, 2, 3, 4, 5], 4))  # Output: 3\n",
    "print(binary_search([11, 22, 33, 44, 55], 445))  # Output: -1\n",
    "print(binary_search([1, 1, 1, 1, 2], 1))  # Output: 0\n",
    "\n"
   ]
  },
  {
   "cell_type": "code",
   "execution_count": 36,
   "metadata": {},
   "outputs": [
    {
     "data": {
      "text/plain": [
       "([2, 1], [-1, -2, 2, 1])"
      ]
     },
     "execution_count": 36,
     "metadata": {},
     "output_type": "execute_result"
    }
   ],
   "source": [
    "\n",
    "from collections import defaultdict\n",
    "\n",
    "def twoRepeated(n,arr):\n",
    "    result = []\n",
    "    for num in arr:\n",
    "        abs_num = abs(num)  # Use absolute value to get the original number\n",
    "        if arr[abs_num - 1] < 0:\n",
    "            result.append(abs_num)  # The number is repeated\n",
    "        else:\n",
    "            arr[abs_num - 1] = -arr[abs_num - 1]  # Mark the index as visited\n",
    "\n",
    "    return result,arr\n",
    "\n",
    "n = 2\n",
    "arr = [1, 2, 2, 1]\n",
    "twoRepeated(n,arr)"
   ]
  },
  {
   "cell_type": "code",
   "execution_count": 39,
   "metadata": {},
   "outputs": [
    {
     "data": {
      "text/plain": [
       "[2, 1]"
      ]
     },
     "execution_count": 39,
     "metadata": {},
     "output_type": "execute_result"
    }
   ],
   "source": [
    "def twoRep(n,arr):\n",
    "    res = []\n",
    "\n",
    "    for num in arr:\n",
    "        abs_num = abs(num)\n",
    "        if arr[abs_num - 1] < 0:\n",
    "            res.append(abs_num)\n",
    "        else:\n",
    "            arr[abs_num - 1] = -arr[abs_num -1]\n",
    "    return res\n",
    "n = 2\n",
    "arr = [1, 2, 2, 1]\n",
    "twoRep(n,arr)"
   ]
  },
  {
   "cell_type": "code",
   "execution_count": 44,
   "metadata": {},
   "outputs": [
    {
     "data": {
      "text/plain": [
       "3"
      ]
     },
     "execution_count": 44,
     "metadata": {},
     "output_type": "execute_result"
    }
   ],
   "source": [
    "\n",
    "def perfectSquare(n):\n",
    "    dp = [i for i in range(n+ 1)]\n",
    "\n",
    "    for i in range(n+ 1):\n",
    "        j = 1\n",
    "        while j * j <= i:\n",
    "            dp[i] = min(dp[i], dp[i - (j*j)] + 1)\n",
    "            j += 1\n",
    "    return dp[-1]\n",
    "\n",
    "perfectSquare(12)\n"
   ]
  },
  {
   "cell_type": "code",
   "execution_count": 48,
   "metadata": {},
   "outputs": [
    {
     "data": {
      "text/plain": [
       "3"
      ]
     },
     "execution_count": 48,
     "metadata": {},
     "output_type": "execute_result"
    }
   ],
   "source": [
    "def perfectSqr(num):\n",
    "    dp = [i for i in range(num+ 1)]\n",
    "\n",
    "    for i in range(num+ 1):\n",
    "        j = 1\n",
    "        while j * j <= i:\n",
    "            dp[i] = min(dp[i], dp[i - (j*j)] + 1)\n",
    "            j += 1\n",
    "    return dp[-1]\n",
    "perfectSqr(12)"
   ]
  },
  {
   "cell_type": "code",
   "execution_count": 51,
   "metadata": {},
   "outputs": [
    {
     "data": {
      "text/plain": [
       "True"
      ]
     },
     "execution_count": 51,
     "metadata": {},
     "output_type": "execute_result"
    }
   ],
   "source": [
    "def containsDups(arr,k):\n",
    "    window = set()\n",
    "    left = 0\n",
    "\n",
    "    for right in range(len(arr)):\n",
    "        if right - left > k:\n",
    "            window.remove(arr[left])\n",
    "            left += 1\n",
    "        if arr[right] in window:\n",
    "            return True\n",
    "        window.add(arr[right])\n",
    "    return False\n",
    "\n",
    "nums = [1,2,3,1]\n",
    "k = 3\n",
    "containsDups(nums,k)"
   ]
  },
  {
   "cell_type": "code",
   "execution_count": 83,
   "metadata": {},
   "outputs": [
    {
     "data": {
      "text/plain": [
       "True"
      ]
     },
     "execution_count": 83,
     "metadata": {},
     "output_type": "execute_result"
    }
   ],
   "source": [
    "from sortedcontainers import SortedList\n",
    "\n",
    "def containsNearbyAlmostDuplicate(nums, indexDiff: int, valueDiff: int) -> bool:\n",
    "    window = SortedList()\n",
    "\n",
    "    for i in range(len(nums)):\n",
    "        if i > indexDiff:\n",
    "            window.remove(nums[i - indexDiff - 1])\n",
    "        pos = window.bisect_left(nums[i] - valueDiff)\n",
    "        if pos < len(window) and abs(window[pos] - nums[i]) <= valueDiff:\n",
    "            return True\n",
    "        window.add(nums[i])\n",
    "    return False\n",
    "nums = [8,7,15,1,6,1,9,15]\n",
    "indexDiff = 1\n",
    "valueDiff = 3\n",
    "containsNearbyAlmostDuplicate(nums, indexDiff, valueDiff)\n"
   ]
  },
  {
   "cell_type": "code",
   "execution_count": 97,
   "metadata": {},
   "outputs": [
    {
     "data": {
      "text/plain": [
       "4"
      ]
     },
     "execution_count": 97,
     "metadata": {},
     "output_type": "execute_result"
    }
   ],
   "source": [
    "def countPrimes(n):\n",
    "    res = []\n",
    "    def isprimeNum(num):\n",
    "        for i in range(2,int((num ** 0.5) + 1)):\n",
    "            if num % i == 0:\n",
    "                return False\n",
    "        return True\n",
    "    for i in range(2,n):\n",
    "        if isprimeNum(i):\n",
    "            res.append(i)\n",
    "    return len(res)\n",
    "countPrimes(10)"
   ]
  },
  {
   "cell_type": "code",
   "execution_count": 102,
   "metadata": {},
   "outputs": [
    {
     "data": {
      "text/plain": [
       "4"
      ]
     },
     "execution_count": 102,
     "metadata": {},
     "output_type": "execute_result"
    }
   ],
   "source": [
    "def countPrimes(n):\n",
    "    if n < 2 :\n",
    "        return 0\n",
    "    \n",
    "    #initialize a boolean array to track primes\n",
    "    isPrime = [True] * n\n",
    "    isPrime[0] = isPrime[1] = False # since zero and 1 are not prime numbers\n",
    "\n",
    "    #start marking multiples of each number\n",
    "    for i in range(2, int(n ** 0.5) + 1):\n",
    "        if isPrime[i]:\n",
    "            for j in range(i * i, n,i):\n",
    "                isPrime[j] = False\n",
    "    return sum(isPrime) # count the primes\n",
    "\n",
    "countPrimes(10)\n",
    "\n"
   ]
  },
  {
   "cell_type": "code",
   "execution_count": 119,
   "metadata": {},
   "outputs": [
    {
     "data": {
      "text/plain": [
       "[2, 5]"
      ]
     },
     "execution_count": 119,
     "metadata": {},
     "output_type": "execute_result"
    }
   ],
   "source": [
    "#Left most and right most index\n",
    "def indices(nums, target):\n",
    "    left,right = 0,len(nums) - 1\n",
    "    res,res2 = -1,-1\n",
    "\n",
    "    while right >= left:\n",
    "        mid = left + (right - left)//2 \n",
    "\n",
    "        if nums[mid] == target:\n",
    "            res = mid\n",
    "            right = mid - 1\n",
    "        elif nums[mid] > target:\n",
    "            right = mid - 1\n",
    "        else:\n",
    "            left = mid + 1\n",
    "    left,right = 0,len(nums) - 1\n",
    "    \n",
    "    while right >= left:\n",
    "        mid = left + (right - left)//2 \n",
    "\n",
    "        if nums[mid] == target:\n",
    "            res2 = mid\n",
    "            left = mid + 1\n",
    "        elif nums[mid] > target:\n",
    "            right = mid - 1\n",
    "        else:\n",
    "            left = mid + 1\n",
    "    return [res,res2]\n",
    "\n",
    "N = 9\n",
    "nums = [1, 3, 5, 5, 5, 5, 7, 123, 125]\n",
    "target = 5\n",
    "indices(nums,target)\n"
   ]
  },
  {
   "cell_type": "code",
   "execution_count": 130,
   "metadata": {},
   "outputs": [
    {
     "data": {
      "text/plain": [
       "8"
      ]
     },
     "execution_count": 130,
     "metadata": {},
     "output_type": "execute_result"
    }
   ],
   "source": [
    "def maximumProfit( prices):\n",
    "        # code here\n",
    "        max_profit = 0\n",
    "        min_price = float('inf')\n",
    "        for price in prices:\n",
    "            min_price = min(min_price,price)\n",
    "            max_profit = max(max_profit,price - min_price)\n",
    "        return max_profit \n",
    "        \n",
    "maximumProfit([7, 10, 1, 3, 6, 9, 2])"
   ]
  },
  {
   "cell_type": "code",
   "execution_count": 133,
   "metadata": {},
   "outputs": [
    {
     "name": "stdout",
     "output_type": "stream",
     "text": [
      "[22, 30]\n",
      "[4, 5]\n",
      "[2, 7]\n"
     ]
    }
   ],
   "source": [
    "def sumClosestPair(arr,k):\n",
    "    left,right = 0,len(arr) - 1\n",
    "    closest_sum = float('inf')\n",
    "    closest_pair = [0,0]\n",
    "    max_diff = -float('inf')\n",
    "    \n",
    "\n",
    "    while right > left:\n",
    "        current_sum = arr[right] + arr[left]\n",
    "        diff = abs(k - current_sum)\n",
    "        curr_diff = arr[right] - arr[left]\n",
    "        if  diff < abs(closest_sum - k)  or diff == abs(k- closest_sum) and curr_diff > max_diff:\n",
    "            max_diff = curr_diff\n",
    "            closest_sum = current_sum\n",
    "            closest_pair = [arr[left], arr[right]]\n",
    "        \n",
    "        if current_sum < k:\n",
    "            left += 1\n",
    "        else:\n",
    "            right -= 1\n",
    "    return closest_pair\n",
    "\n",
    "print(sumClosestPair([10, 22, 28, 29, 30, 40], 54))  # Output: [22, 30]\n",
    "print(sumClosestPair([1, 2, 3, 4, 5], 10))           # Output: [4, 5]\n",
    "print(sumClosestPair([1, 2, 4, 5, 7], 10))   \n",
    "        "
   ]
  },
  {
   "cell_type": "code",
   "execution_count": null,
   "metadata": {},
   "outputs": [
    {
     "name": "stdout",
     "output_type": "stream",
     "text": [
      "[22, 30]\n",
      "[4, 5]\n",
      "[2, 7]\n"
     ]
    }
   ],
   "source": [
    "def sumClosest(arr,k):\n",
    "    left,right = 0,len(arr) - 1\n",
    "    max_diff = float('-inf')\n",
    "    closest_pair = [0,0]\n",
    "    closest_sum = float('inf')\n",
    "\n",
    "    while left < right:\n",
    "        current_sum = arr[left] + arr[right]\n",
    "        current_diff = arr[right] - arr[left]\n",
    "        diff = abs(k - current_sum)\n",
    "\n",
    "        if diff < abs(k - closest_sum) or diff == abs(k - closest_sum) and current_diff > max_diff:\n",
    "            max_diff = current_diff\n",
    "            closest_sum = current_sum\n",
    "            closest_pair = [arr[left],arr[right]]\n",
    "        if current_sum < k:\n",
    "            left += 1\n",
    "        else:\n",
    "            right -= 1\n",
    "    return closest_pair\n",
    "\n",
    "print(sumClosest([10, 22, 28, 29, 30, 40], 54))  # Output: [22, 30]\n",
    "print(sumClosest([1, 2, 3, 4, 5], 10))           # Output: [4, 5]\n",
    "print(sumClosest([1, 2, 4, 5, 7], 10))"
   ]
  }
 ],
 "metadata": {
  "kernelspec": {
   "display_name": "base",
   "language": "python",
   "name": "python3"
  },
  "language_info": {
   "codemirror_mode": {
    "name": "ipython",
    "version": 3
   },
   "file_extension": ".py",
   "mimetype": "text/x-python",
   "name": "python",
   "nbconvert_exporter": "python",
   "pygments_lexer": "ipython3",
   "version": "3.12.7"
  }
 },
 "nbformat": 4,
 "nbformat_minor": 2
}
