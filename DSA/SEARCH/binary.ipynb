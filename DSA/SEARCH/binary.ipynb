{
 "cells": [
  {
   "cell_type": "code",
   "execution_count": 5,
   "metadata": {},
   "outputs": [
    {
     "data": {
      "text/plain": [
       "True"
      ]
     },
     "execution_count": 5,
     "metadata": {},
     "output_type": "execute_result"
    }
   ],
   "source": [
    "#Time complexity O(log n)\n",
    "#space - O(1)\n",
    "\n",
    "def binarySearch(arr,target):\n",
    "    n = len(arr)\n",
    "    l,r = 0,n-1\n",
    "\n",
    "    while l <= r:\n",
    "        middle = l + ((r-l)// 2)\n",
    "        if target == arr[middle]:\n",
    "            return True\n",
    "        elif target > arr[middle]:\n",
    "            l = middle + 1\n",
    "        else:\n",
    "            r = middle - 1\n",
    "    return False\n",
    "\n",
    "binarySearch([1,2,3,4,5,6],2)"
   ]
  },
  {
   "cell_type": "code",
   "execution_count": 8,
   "metadata": {},
   "outputs": [
    {
     "name": "stdout",
     "output_type": "stream",
     "text": [
      "2\n"
     ]
    }
   ],
   "source": [
    "#Conditio based binary search\n",
    "def condition_binary_search(arr):\n",
    "    N = len(arr)\n",
    "    L, R = 0, N - 1\n",
    "\n",
    "    while L < R:\n",
    "        M = L + (R - L) // 2\n",
    "        if arr[M]:  # If True, the first False is to the right\n",
    "            L = M + 1\n",
    "        else:  # If False, continue searching to the left\n",
    "            R = M\n",
    "    return L if not arr[L] else -1  # Return the index or -1 if all are True\n",
    "\n",
    "# Testing the function\n",
    "print(condition_binary_search([True, True, False, False, False]))  # Expected output: 2"
   ]
  }
 ],
 "metadata": {
  "kernelspec": {
   "display_name": "base",
   "language": "python",
   "name": "python3"
  },
  "language_info": {
   "codemirror_mode": {
    "name": "ipython",
    "version": 3
   },
   "file_extension": ".py",
   "mimetype": "text/x-python",
   "name": "python",
   "nbconvert_exporter": "python",
   "pygments_lexer": "ipython3",
   "version": "3.12.7"
  }
 },
 "nbformat": 4,
 "nbformat_minor": 2
}
